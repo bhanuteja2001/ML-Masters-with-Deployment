{
 "cells": [
  {
   "cell_type": "markdown",
   "metadata": {},
   "source": [
    "1.\tWhat is an unsupervised learning approach? Why is it needed?"
   ]
  },
  {
   "cell_type": "markdown",
   "metadata": {},
   "source": [
    "It is used for the datasets where there are no target labels, we need to draw conclusions from the dataset.\n",
    "It is especially used in those cases where we don't have any idea about the dataset and need to draw conclusions. Using clustering makes it easier to draw patterns. "
   ]
  },
  {
   "cell_type": "markdown",
   "metadata": {},
   "source": [
    "2.\tWhat is clustering?"
   ]
  },
  {
   "cell_type": "markdown",
   "metadata": {},
   "source": [
    "Clustering in short means grouping similar things together. In Data Science the clustering algorithms groups similar types of datapoints into their respective groups where they belong to.The grouping may vary with the criteira specified."
   ]
  },
  {
   "cell_type": "markdown",
   "metadata": {},
   "source": [
    "3.\tHow do clustering and classification differ?"
   ]
  },
  {
   "cell_type": "markdown",
   "metadata": {},
   "source": [
    "Both clustering and classification may be similar in some sense, but when it comes to the data, the culstering data is not labeled(Unsupervised) where as the classification data is labeled(Supervised)."
   ]
  },
  {
   "cell_type": "markdown",
   "metadata": {},
   "source": [
    "4.\tWhat are the various applications of clustering?"
   ]
  },
  {
   "cell_type": "markdown",
   "metadata": {},
   "source": [
    "1. Used in Cybersecurity where a hacker can use various methods to attack.\n",
    "2. For Businesses where results can be drawn from the dataset.\n",
    "3. Search Engines."
   ]
  },
  {
   "cell_type": "markdown",
   "metadata": {},
   "source": [
    "5.\tHow does clustering play a role in supervised learning?"
   ]
  },
  {
   "cell_type": "markdown",
   "metadata": {},
   "source": [
    "It can be used to improve the accuracy of a supervised machine learning algorithm."
   ]
  },
  {
   "cell_type": "markdown",
   "metadata": {},
   "source": [
    "6.\tWhat are the requirements to be met by a clustering algorithm?"
   ]
  },
  {
   "cell_type": "markdown",
   "metadata": {},
   "source": [
    "1. It should be scalable\n",
    "2. It should be able to deal with noise and outliers\n",
    "3. It should be easy ti interpret and use\n",
    "4. It should be able to handle data of high dimension.\n",
    "5. It should be able to classify the datapoints into groups properly"
   ]
  },
  {
   "cell_type": "markdown",
   "metadata": {},
   "source": [
    "7.\tDiscuss the different approaches for clustering."
   ]
  },
  {
   "cell_type": "markdown",
   "metadata": {},
   "source": [
    "There are 2 approaches possible for clustering.\n",
    "\n",
    "1. Agglomerative : It is a bottom to top approach where every data point is considered as a cluster and then they are grouped based on the their similarity.\n",
    "\n",
    "2. Divisive :  It is a top to bottom approach where all the data points are considered to be single cluster. Then they are divided based on the similarity in them till number of cluster equals the number of data points."
   ]
  },
  {
   "cell_type": "markdown",
   "metadata": {},
   "source": [
    "8.\tWhat is WCSS?"
   ]
  },
  {
   "cell_type": "markdown",
   "metadata": {},
   "source": [
    "WCSS is the sum of squares of the distances of each data point in all clusters to their respective centroids. The idea is to minimize the sum"
   ]
  },
  {
   "cell_type": "markdown",
   "metadata": {},
   "source": [
    "9.\tDiscuss the elbow method."
   ]
  },
  {
   "cell_type": "markdown",
   "metadata": {},
   "source": [
    "Within-cluster sum of squared distances(WCSS) is generally used to find the optimum k value by plotting it with k. With Increase in k the WCSS value decrease, we then find the elbow point from the plot which is the optimum k value.\n"
   ]
  },
  {
   "cell_type": "markdown",
   "metadata": {},
   "source": [
    "10.\tWhat is the significance of ‘K’ in K-Means and how is it calculated?"
   ]
  },
  {
   "cell_type": "markdown",
   "metadata": {},
   "source": [
    "The value of elbow is selected by elbow method."
   ]
  },
  {
   "cell_type": "markdown",
   "metadata": {},
   "source": [
    "11.\tDiscuss the step by step implementation of K-Means Clustering."
   ]
  },
  {
   "cell_type": "markdown",
   "metadata": {},
   "source": [
    "1. Load the Data using Pandas\n",
    "2. Use sklearn library and import KMeans\n",
    "3. Plot WCSS vs Kmeans and find the optimum K value(elbow point)\n",
    "4. Then fit the dataset\n",
    "5. Then do predictions. It predicts the cluster number to which the datapoint belongs to. "
   ]
  },
  {
   "cell_type": "markdown",
   "metadata": {},
   "source": [
    "12.\tWhat are the challenges with K-Means?"
   ]
  },
  {
   "cell_type": "markdown",
   "metadata": {},
   "source": [
    "1. We need to specify the number of clusters before hand\n",
    "2. Required to run the algorithm multiple times to avoid a sub-optimal solution.\n",
    "3. This algorithm doesnot behave well when the clusters are of varying size, densities."
   ]
  },
  {
   "cell_type": "markdown",
   "metadata": {},
   "source": [
    "13.\tDiscuss the various improvements in K-Means."
   ]
  },
  {
   "cell_type": "markdown",
   "metadata": {},
   "source": [
    "1. k-means++ that was proposed which has a smarter initialization step that tends to select centroids that are distant from each other.\n",
    "2. By traingular in-equlaity and by keeping track of lower and upper bounds for distances between instances and centroids this algorithm can be accelerated.It avoids all the unnecessary steps.\n",
    "3. Using batchs of dataset for each iteration, the algorithm can move the centroids 3 to 4 times faster than usual and it can also work on datasets that do not fit in memory."
   ]
  },
  {
   "cell_type": "markdown",
   "metadata": {},
   "source": [
    "#### Hierarchical Clustering:\n",
    "14.\tDiscuss the agglomerative and divisive clustering approaches."
   ]
  },
  {
   "cell_type": "markdown",
   "metadata": {},
   "source": [
    "Agglomerative is bottom to top approach where each data point is considered to be a cluster and grouped based on similarities between the data points, in divisive clustering all the data points are considered to be a single cluster and then on broken down and grouped based on similarities this is top to bottom approach."
   ]
  },
  {
   "cell_type": "markdown",
   "metadata": {},
   "source": [
    "15.\tWhat are dendrograms?"
   ]
  },
  {
   "cell_type": "markdown",
   "metadata": {},
   "source": [
    "Dendogram is the representation of clusters in the form a tree. After each merging, the distances between all pairs of classes are updated. The height of a dendogram usually represents the distance between 2 clusters. "
   ]
  },
  {
   "cell_type": "markdown",
   "metadata": {},
   "source": [
    "16.\tDiscuss the Hierarchical clustering in detail."
   ]
  },
  {
   "cell_type": "markdown",
   "metadata": {},
   "source": [
    "Unlike K-Mean clustering we don't have to pass the K value before hand. Here the clusters are compared and the 2 closest clusters are joined.The distance between these 2 clusters is usually represented in the form of height in dendogram.\n",
    "In this way it follows agglomerative approach."
   ]
  },
  {
   "cell_type": "markdown",
   "metadata": {},
   "source": [
    "17.\tDiscuss the various linkage methods for clustering."
   ]
  },
  {
   "cell_type": "markdown",
   "metadata": {},
   "source": [
    "1. Single Linkage: cluster distance = smallest pairwise distance\n",
    "2. Complete Linkage: cluster distance = largest pairwise distance\n",
    "3. Average Linkage: cluster distance = average pairwise distance\n",
    "4. Centroid Linkage: cluster distance= distance between the centroids of the clusters\n",
    "5. Ward’s Linkage: cluster criteria= Minimize the variance in the cluster"
   ]
  },
  {
   "cell_type": "markdown",
   "metadata": {},
   "source": [
    "18.\tDiscuss the differences between K-Means and Hierarchical clustering."
   ]
  },
  {
   "cell_type": "markdown",
   "metadata": {},
   "source": [
    "1. In K-Means clustering the K value is passed before hand whereas in Hierarchical clustering we do not require K Value. \n",
    "2. K-Means can handle big data well but Hierarchical clustering can't"
   ]
  },
  {
   "cell_type": "markdown",
   "metadata": {},
   "source": [
    "#### DBSCAN\n",
    "19.\tDiscuss the basic terms used in DBSCAN."
   ]
  },
  {
   "cell_type": "markdown",
   "metadata": {},
   "source": [
    "1. Epsilon - This is the distance till which we look for neighbouring points\n",
    "2. Min_points - The minimum number of points specified by the user.\n",
    "3. Core Points - If the number of points inside the eps radius is greater than Min_points then its(the center of the circle) called core point.\n",
    "4. Border Points - If the number of points inside the eps radius is lesser than Min_points then its(the center of the circle) called core point.\n",
    "5. Noise - A point which is neither a core or border point is called noise point."
   ]
  },
  {
   "cell_type": "markdown",
   "metadata": {},
   "source": [
    "20.\tDiscuss the step by step implementation of DBSCAN."
   ]
  },
  {
   "cell_type": "markdown",
   "metadata": {},
   "source": [
    "1. The algorithm starts with a random point in the dataset which has not been visited yet and its neighbouring points are identified based on the eps value.\n",
    "2. If the point contains greater than or equal points than the min_pts, then the cluster formation starts and this point becomes a _core point_, else it’s considered as noise. The thing to note here is that a point initially classified as noise can later become a border point if it’s in the eps radius of a core point.\n",
    "3. If the point is a core point, then all its neighbours become a part of the cluster. If the points in the neighbourhood turn out to be core points then their neighbours are also part of the cluster.\n",
    "4. Repeat the steps above until all points are classified into different clusters or noises."
   ]
  },
  {
   "cell_type": "markdown",
   "metadata": {},
   "source": [
    "##### Cluster Evaluation\n",
    "21.\tWhat are the aspects of cluster validation?"
   ]
  },
  {
   "cell_type": "markdown",
   "metadata": {},
   "source": [
    "Aspects of cluster validation\n",
    "\n",
    "External: Compare your cluster to the ground truth.\n",
    "\n",
    "Internal: Evaluating the cluster without reference to external data.\n",
    "\n",
    "Reliability: The clusters are not formed by chance(randomly)- some statistical framework can be used."
   ]
  },
  {
   "cell_type": "markdown",
   "metadata": {},
   "source": [
    "22.\tWhat is a confusion matrix?"
   ]
  },
  {
   "cell_type": "markdown",
   "metadata": {},
   "source": [
    "A confusion matrix is a table that is often used to describe the performance of a classification model."
   ]
  },
  {
   "cell_type": "markdown",
   "metadata": {},
   "source": [
    "23.\tWhat is Jaccard’s coefficient?"
   ]
  },
  {
   "cell_type": "markdown",
   "metadata": {},
   "source": [
    "The Jaccard coefficient measures similarity between finite sample sets, and is defined as the size of the intersection divided by the size of the union of the sample sets"
   ]
  },
  {
   "cell_type": "markdown",
   "metadata": {},
   "source": [
    "24.\tWhat is Rand Index?"
   ]
  },
  {
   "cell_type": "markdown",
   "metadata": {},
   "source": [
    "It is the ratio of Total Agree and Total Instances"
   ]
  },
  {
   "cell_type": "markdown",
   "metadata": {},
   "source": [
    "25.\tWhat is the entropy of a cluster?"
   ]
  },
  {
   "cell_type": "markdown",
   "metadata": {},
   "source": [
    "The purity of the clusters is measured referencing to the class labels or ground truth is called as entropy. The lower entropy means better clustering. The Entropy amplifies when ground truth of objects in the cluster further diversifies. The greater entropy means that the clustering is not good."
   ]
  },
  {
   "cell_type": "markdown",
   "metadata": {},
   "source": [
    "26.\tDiscuss the purity of a cluster."
   ]
  },
  {
   "cell_type": "markdown",
   "metadata": {},
   "source": [
    "Purity The purity is the total percentage of data points clustered correctly."
   ]
  },
  {
   "cell_type": "markdown",
   "metadata": {},
   "source": [
    "27.\tWhat are cohesion and compression?"
   ]
  },
  {
   "cell_type": "markdown",
   "metadata": {},
   "source": [
    "Cohesion: How closely the objects in the same cluster are related to each other. It is the within-cluster sum of squared distances. It is the same metric that we used to calculate for the K-Means algorithm.\n",
    "\n",
    "Compression :  How different the objects in different clusters are and how distinct a well-separated cluster is from other clusters. It is the between cluster sum of squared distances"
   ]
  },
  {
   "cell_type": "markdown",
   "metadata": {},
   "source": [
    "28.\tWhat are the steps for AWS deployment?"
   ]
  },
  {
   "cell_type": "markdown",
   "metadata": {},
   "source": [
    "After the training is completed. We deploy the saved model in form of an API in AWS this time.\n",
    "1. Create a REST API using Flask\n",
    "2. Then containerze the API as a microservice using Docker.\n",
    "3. Deploy the model using AWS Elastic Bean Stack"
   ]
  },
  {
   "cell_type": "markdown",
   "metadata": {},
   "source": [
    "29.\tWhat difficulties did you face while deploying to AWS?"
   ]
  },
  {
   "cell_type": "markdown",
   "metadata": {},
   "source": [
    "None"
   ]
  }
 ],
 "metadata": {
  "kernelspec": {
   "display_name": "Python 3",
   "language": "python",
   "name": "python3"
  },
  "language_info": {
   "codemirror_mode": {
    "name": "ipython",
    "version": 3
   },
   "file_extension": ".py",
   "mimetype": "text/x-python",
   "name": "python",
   "nbconvert_exporter": "python",
   "pygments_lexer": "ipython3",
   "version": "3.8.3"
  }
 },
 "nbformat": 4,
 "nbformat_minor": 2
}
