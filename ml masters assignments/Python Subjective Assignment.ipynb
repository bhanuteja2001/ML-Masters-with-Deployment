{
 "cells": [
  {
   "cell_type": "code",
   "execution_count": 1,
   "metadata": {},
   "outputs": [],
   "source": [
    "import math as mp\n",
    "import numpy as np\n",
    "import pandas as pd\n",
    "import matplotlib.pyplot as plt"
   ]
  },
  {
   "cell_type": "code",
   "execution_count": 2,
   "metadata": {},
   "outputs": [
    {
     "name": "stdout",
     "output_type": "stream",
     "text": [
      "Enter the String:Hello\n",
      "Hello\n"
     ]
    }
   ],
   "source": [
    "#Question - 1\n",
    "\n",
    "I = list(input(\"Enter the String:\"))\n",
    "first = I[0]\n",
    "temp = [I[0]]\n",
    "str1 = \"\"\n",
    "for i in range(1,len(I)):\n",
    "    if I[i] == first:\n",
    "        I[i] = chr(36)\n",
    "    temp.append(I[i])\n",
    "print(str1.join(temp))"
   ]
  },
  {
   "cell_type": "code",
   "execution_count": 25,
   "metadata": {},
   "outputs": [
    {
     "name": "stdout",
     "output_type": "stream",
     "text": [
      "String? :hello,world\n",
      "wollo herld\n"
     ]
    }
   ],
   "source": [
    "#Question - 2\n",
    "Str = str(input(\"String? :\"))\n",
    "l = Str.split(\",\")\n",
    "str1 = l[0]\n",
    "str2 = l[1]\n",
    "temp = []\n",
    "for i in range(0,2):\n",
    "    temp.append(str1[i])\n",
    "for j in range(0,2):\n",
    "    temp.append(str2[j])\n",
    "for i in range(0,2):\n",
    "    T = temp[i]\n",
    "    temp[i] = temp[i+2]\n",
    "    temp[i+2] = T\n",
    "str1 = temp[0] + temp[1] + str1[2:]\n",
    "str2 = temp[2] + temp[3] + str2[2:]\n",
    "print(str1 +\" \"+ str2)\n",
    "print()"
   ]
  },
  {
   "cell_type": "code",
   "execution_count": 45,
   "metadata": {},
   "outputs": [
    {
     "name": "stdout",
     "output_type": "stream",
     "text": [
      "String? :abc\n",
      "abcing\n"
     ]
    }
   ],
   "source": [
    "#Question - 3\n",
    "Str = str(input(\"String? :\"))\n",
    "if len(Str) > 2  and Str[(len(Str)-3):] != \"ing\":\n",
    "    print(Str + \"ing\")\n",
    "elif(len(Str) > 2 and Str[(len(Str)-3):] == \"ing\"):\n",
    "    print(Str + \"ly\")\n",
    "else:\n",
    "    print(Str)"
   ]
  },
  {
   "cell_type": "code",
   "execution_count": 53,
   "metadata": {},
   "outputs": [
    {
     "name": "stdout",
     "output_type": "stream",
     "text": [
      "String? :The lyrics are not that poor\n",
      "The lyrics are good\n"
     ]
    }
   ],
   "source": [
    "#Question - 4\n",
    "Str = str(input(\"String? :\"))\n",
    "L = Str.split(\" \")\n",
    "pos = []\n",
    "for i in range(0,len(L)):\n",
    "    if L[i] == \"not\":\n",
    "        pos.append(i)\n",
    "        for i in range(i,len(L)):\n",
    "            if L[i] == \"poor\":\n",
    "                pos.append(i)\n",
    "for i in range(0,pos[0]):\n",
    "    print(L[i],end = ' ')\n",
    "print(\"good\")"
   ]
  },
  {
   "cell_type": "code",
   "execution_count": 57,
   "metadata": {},
   "outputs": [
    {
     "name": "stdout",
     "output_type": "stream",
     "text": [
      "String? :hello\n"
     ]
    },
    {
     "data": {
      "text/plain": [
       "'el'"
      ]
     },
     "execution_count": 57,
     "metadata": {},
     "output_type": "execute_result"
    }
   ],
   "source": [
    "#Question - 5\n",
    "Str = str(input(\"String? :\"))\n",
    "temp = []\n",
    "for i in range(0,len(Str)):\n",
    "    if i % 2 == 0:\n",
    "        continue\n",
    "    temp.append(Str[i])\n",
    "\"\".join(temp)"
   ]
  },
  {
   "cell_type": "code",
   "execution_count": 64,
   "metadata": {},
   "outputs": [
    {
     "name": "stdout",
     "output_type": "stream",
     "text": [
      "String? :hello\n",
      "lolololo\n"
     ]
    }
   ],
   "source": [
    "#Question - 6\n",
    "\n",
    "Str = str(input(\"String? :\"))\n",
    "if len(Str) > 2:\n",
    "    temp = Str[(len(Str)-2):]\n",
    "\n",
    "print(temp * 4)"
   ]
  },
  {
   "cell_type": "code",
   "execution_count": 2,
   "metadata": {},
   "outputs": [
    {
     "name": "stdout",
     "output_type": "stream",
     "text": [
      "String? :python\n",
      "pyt\n"
     ]
    }
   ],
   "source": [
    "#Question - 7\n",
    "\n",
    "Str = str(input(\"String? :\"))\n",
    "if len(Str) > 2:\n",
    "    print(Str[0:3])\n",
    "else:\n",
    "    print(Str)"
   ]
  },
  {
   "cell_type": "code",
   "execution_count": 5,
   "metadata": {},
   "outputs": [
    {
     "name": "stdout",
     "output_type": "stream",
     "text": [
      "Number?? :2.19303\n",
      "2.19\n"
     ]
    }
   ],
   "source": [
    "#Question - 8\n",
    "\n",
    "num = float(input(\"Number?? :\"))\n",
    "print(round(num,2))"
   ]
  },
  {
   "cell_type": "code",
   "execution_count": 9,
   "metadata": {},
   "outputs": [
    {
     "name": "stdout",
     "output_type": "stream",
     "text": [
      "Number?? :82\n",
      "82.0%\n"
     ]
    }
   ],
   "source": [
    "#Question - 9\n",
    "\n",
    "num = float(input(\"Number?? :\"))\n",
    "print(str(num)+\"%\")"
   ]
  },
  {
   "cell_type": "code",
   "execution_count": 11,
   "metadata": {},
   "outputs": [
    {
     "name": "stdout",
     "output_type": "stream",
     "text": [
      "Enter the string:hello hello world hello\n",
      "Enter the substring:hello\n",
      "3\n"
     ]
    }
   ],
   "source": [
    "#Question - 10\n",
    "\n",
    "String = str(input(\"Enter the string:\"))\n",
    "sub_string = str(input(\"Enter the substring:\"))\n",
    "print(String.count(sub_string))"
   ]
  },
  {
   "cell_type": "code",
   "execution_count": 30,
   "metadata": {},
   "outputs": [
    {
     "name": "stdout",
     "output_type": "stream",
     "text": [
      "String? :thequickbrownjumpsoverthelazydog\n",
      "u 2\n",
      "o 3\n",
      "h 2\n",
      "r 2\n",
      "t 2\n",
      "e 3\n"
     ]
    }
   ],
   "source": [
    "#Question - 11\n",
    "\n",
    "Str = str(input(\"String? :\"))\n",
    "Search = list(set(Str))\n",
    "for i in Search:\n",
    "    if Str.count(i) > 1:\n",
    "        print(i,end=\" \")\n",
    "        print(Str.count(i))"
   ]
  },
  {
   "cell_type": "code",
   "execution_count": 36,
   "metadata": {},
   "outputs": [
    {
     "name": "stdout",
     "output_type": "stream",
     "text": [
      "Enter1256.66\n",
      "Enter1254.725\n",
      "The area of the rectangle is 1256.66cm²\n",
      "The Volume of the cylinder is 1254.725cm³\n"
     ]
    }
   ],
   "source": [
    "#Question - 12\n",
    "\n",
    "Area_rec = float(input(\"Enter\"))\n",
    "Vol_cy = float(input(\"Enter\"))\n",
    "print(\"The area of the rectangle is {}cm\\u00b2\".format(Area_rec))\n",
    "print(\"The Volume of the cylinder is {}cm\\u00b3\".format(Vol_cy))"
   ]
  },
  {
   "cell_type": "code",
   "execution_count": 6,
   "metadata": {},
   "outputs": [
    {
     "name": "stdout",
     "output_type": "stream",
     "text": [
      "Enter the string:the quick brown fox jumps over the lazy dog\n",
      "Yes\n"
     ]
    }
   ],
   "source": [
    "#Question - 13\n",
    "\n",
    "Input = str(input(\"Enter the string:\"))\n",
    "def check(Input):\n",
    "    alpha = 'abcdefghijklmnopqrstuvwxyz'\n",
    "    for i in alpha:\n",
    "        if i not in Input.lower():\n",
    "            return('nope')\n",
    "    return(\"Yes\")\n",
    "print(check(Input))          "
   ]
  },
  {
   "cell_type": "code",
   "execution_count": 38,
   "metadata": {},
   "outputs": [
    {
     "name": "stdout",
     "output_type": "stream",
     "text": [
      "String? :Hello John Hello John\n",
      "Hello\n"
     ]
    }
   ],
   "source": [
    "#Question - 14\n",
    "\n",
    "Str = str(input(\"String? :\"))\n",
    "word_list = Str.split(\" \")\n",
    "Max = 0 \n",
    "for i in word_list:\n",
    "    if Str.count(i) > Max:\n",
    "        Max = Str.count(i)\n",
    "        Max_word = i\n",
    "        print(Max_word)"
   ]
  },
  {
   "cell_type": "code",
   "execution_count": 1,
   "metadata": {},
   "outputs": [
    {
     "name": "stdout",
     "output_type": "stream",
     "text": [
      "SOERIU\n"
     ]
    }
   ],
   "source": [
    "#Question - 15\n",
    "from collections import Counter\n",
    "\n",
    "def occ(Str,Sub_Str):\n",
    "    need = Counter(Sub_Str)\n",
    "    if len(Str) > len(Sub_Str):\n",
    "        l,r,i,j,missing = 0,0,0,0,len(Sub_Str)\n",
    "        while r < len(Str):\n",
    "            if need[Str[r]] > 0:\n",
    "                missing -= 1\n",
    "            need[Str[r]] -= 1\n",
    "            r += 1\n",
    "            while missing == 0:\n",
    "                if (j == 0 or ((r-l) < (j-i))):\n",
    "                    i,j = l,r\n",
    "                need[Str[l]] += 1\n",
    "                if need[Str[l]] > 0:\n",
    "                    missing += 1\n",
    "                l += 1\n",
    "    return(Str[i:j])\n",
    "\n",
    "Str = \"PRWSOERIUSFK\"\n",
    "Sub_Str = \"OSU\"\n",
    "print(occ(Str,Sub_Str))"
   ]
  },
  {
   "cell_type": "code",
   "execution_count": 7,
   "metadata": {},
   "outputs": [
    {
     "name": "stdout",
     "output_type": "stream",
     "text": [
      "Original Strings:\n",
      " asdaewsqgtwwsa\n",
      "{'g', 'e', 'a', 'q', 't', 's', 'd', 'w'}\n",
      "8\n",
      "daewsqgt\n"
     ]
    }
   ],
   "source": [
    "#Question - 16\n",
    "\n",
    "from collections import defaultdict   \n",
    "\n",
    "def find_sub_string(str): \n",
    "    str_len = len(str) \n",
    "      \n",
    "    print(set([x for x in str]))\n",
    "    dist_count_char = len(set([x for x in str])) \n",
    "    print(dist_count_char)\n",
    "  \n",
    "    ctr, start_pos, start_pos_index, min_len = 0, 0, -1, 9999999999\n",
    "    curr_count = defaultdict(lambda: 0) \n",
    "    for i in range(str_len):\n",
    "        \n",
    "        curr_count[str[i]] += 1\n",
    "        \n",
    " \n",
    "        if curr_count[str[i]] == 1: \n",
    "            ctr += 1\n",
    "            \n",
    "        if ctr == dist_count_char: \n",
    "            while curr_count[str[start_pos]] > 1: \n",
    "                if curr_count[str[start_pos]] > 1: \n",
    "                    curr_count[str[start_pos]] -= 1\n",
    "                start_pos += 1\n",
    "                \n",
    "                \n",
    "            len_window = i - start_pos + 1\n",
    "            if min_len > len_window:\n",
    "                min_len = len_window \n",
    "                start_pos_index = start_pos \n",
    "    return str[start_pos_index: start_pos_index + min_len] \n",
    "      \n",
    "str1 = \"asdaewsqgtwwsa\"\n",
    "print(\"Original Strings:\\n\",str1)\n",
    "print(find_sub_string(str1)) \n",
    "\n",
    "\n"
   ]
  },
  {
   "cell_type": "code",
   "execution_count": 5,
   "metadata": {},
   "outputs": [
    {
     "name": "stdout",
     "output_type": "stream",
     "text": [
      "String? :wolf\n",
      "K value? : 4\n",
      "1\n"
     ]
    }
   ],
   "source": [
    "#Question - 17\n",
    "\n",
    "Str = str(input(\"String? :\"))\n",
    "k = int(input(\"K value? : \"))\n",
    "\n",
    "str_len = len(Str) \n",
    "\n",
    "result = 0\n",
    "\n",
    "ctr = [0] * 27\n",
    "\n",
    "for i in range(0, str_len):\n",
    "    dist_ctr = 0\n",
    "    ctr = [0] * 27\n",
    "    for j in range(i, str_len):\n",
    "        if(ctr[ord(Str[j]) - 97] == 0):\n",
    "            dist_ctr += 1\n",
    "\n",
    "        ctr[ord(Str[j]) - 97] += 1\n",
    "\n",
    "        if(dist_ctr == k):\n",
    "            result += 1\n",
    "        if(dist_ctr > k):\n",
    "            break\n",
    "print(result)"
   ]
  },
  {
   "cell_type": "code",
   "execution_count": 8,
   "metadata": {},
   "outputs": [
    {
     "name": "stdout",
     "output_type": "stream",
     "text": [
      "String? :w3resource\n",
      "55\n"
     ]
    }
   ],
   "source": [
    "#Question - 18\n",
    " \n",
    "Str = str(input(\"String? :\"))\n",
    "count = 0\n",
    "leng = len(Str)\n",
    "print(int(leng*(leng+1)/2))"
   ]
  },
  {
   "cell_type": "code",
   "execution_count": 10,
   "metadata": {},
   "outputs": [
    {
     "name": "stdout",
     "output_type": "stream",
     "text": [
      "String? :abcd\n",
      "4\n"
     ]
    }
   ],
   "source": [
    "#Question - 19\n",
    "\n",
    "Str = str(input(\"String? :\"))\n",
    "Str_len = len(Str)\n",
    "count = 0\n",
    "for i in range(0,Str_len):\n",
    "    for j in range(i,Str_len):\n",
    "        if Str[i] == Str[j]:\n",
    "            count += 1\n",
    "print(count)"
   ]
  },
  {
   "cell_type": "code",
   "execution_count": 11,
   "metadata": {},
   "outputs": [
    {
     "name": "stdout",
     "output_type": "stream",
     "text": [
      "String? :abc xyz wxw 1331\n",
      "2\n"
     ]
    }
   ],
   "source": [
    "#Question - 20\n",
    "\n",
    "Str = str(input(\"String? :\"))\n",
    "word_list = Str.split(' ')\n",
    "count = 0\n",
    "for i in word_list:\n",
    "    if len(i) > 1 and (i[0] == i[len(i)-1]):\n",
    "        count += 1\n",
    "print(count)"
   ]
  },
  {
   "cell_type": "code",
   "execution_count": 51,
   "metadata": {},
   "outputs": [
    {
     "data": {
      "text/plain": [
       "[(2, 1), (1, 2), (2, 3), (4, 4), (2, 5)]"
      ]
     },
     "execution_count": 51,
     "metadata": {},
     "output_type": "execute_result"
    }
   ],
   "source": [
    "#Question - 21\n",
    "\n",
    "S = [(2,5),(1,2),(4,4),(2,3),(2,1)]\n",
    "\n",
    "for i in range(len(S)-1):\n",
    "    for j in range(len(S)-i-1):\n",
    "        if S[j][1] > S[j+1][1]:\n",
    "            temp = S[j]\n",
    "            S[j] = S[j+1]\n",
    "            S[j+1] = temp\n",
    "S"
   ]
  },
  {
   "cell_type": "code",
   "execution_count": 76,
   "metadata": {},
   "outputs": [
    {
     "name": "stdout",
     "output_type": "stream",
     "text": [
      "Enter values:1,2,3,3,2,1,4,5,4\n",
      "['1', '2', '3', '4', '5']\n"
     ]
    }
   ],
   "source": [
    "#Question - 22\n",
    "\n",
    "S = input(\"Enter values:\")\n",
    "L = S.split(\",\")\n",
    "final = []\n",
    "for i in L:\n",
    "    if i not in final:\n",
    "        final.append(i)\n",
    "print(final)"
   ]
  },
  {
   "cell_type": "code",
   "execution_count": 2,
   "metadata": {},
   "outputs": [
    {
     "name": "stdout",
     "output_type": "stream",
     "text": [
      "Enter the words of strings:tom,harry,styles,rose,harper,mary,mia\n",
      "Enter the value of n:4\n",
      "harry\n",
      "styles\n",
      "harper\n"
     ]
    }
   ],
   "source": [
    "#Question - 23\n",
    "\n",
    "Str = str(input(\"Enter the words of strings:\"))\n",
    "L = Str.split(\",\")\n",
    "n = int(input(\"Enter the value of n:\"))\n",
    "for word in L:\n",
    "    if len(word) > n:\n",
    "        print(word)"
   ]
  },
  {
   "cell_type": "code",
   "execution_count": 12,
   "metadata": {},
   "outputs": [
    {
     "name": "stdout",
     "output_type": "stream",
     "text": [
      "Enter the words of strings:Red,Green,White,Black,Pink,Yellow\n",
      "['Green', 'White', 'Black']\n"
     ]
    }
   ],
   "source": [
    "#Question - 24\n",
    "\n",
    "Str = str(input(\"Enter the words of strings:\"))\n",
    "L = Str.split(\",\")\n",
    "L = [x for (i,x) in enumerate(L) if i not in (0,4,5)]\n",
    "    \n",
    "print(L)"
   ]
  },
  {
   "cell_type": "code",
   "execution_count": 14,
   "metadata": {},
   "outputs": [
    {
     "name": "stdout",
     "output_type": "stream",
     "text": [
      "Enter the words of strings:1,2,3\n",
      "('1', '2', '3')\n",
      "('1', '3', '2')\n",
      "('2', '1', '3')\n",
      "('2', '3', '1')\n",
      "('3', '1', '2')\n",
      "('3', '2', '1')\n"
     ]
    }
   ],
   "source": [
    "#Question - 25\n",
    "\n",
    "from itertools import permutations\n",
    "List = str(input(\"Enter the words of strings:\"))\n",
    "perm = permutations(List.split(\",\"))\n",
    "\n",
    "for i in list(perm):\n",
    "    print(i)"
   ]
  },
  {
   "cell_type": "code",
   "execution_count": 24,
   "metadata": {},
   "outputs": [
    {
     "name": "stdout",
     "output_type": "stream",
     "text": [
      "[1, 2, 3, 4, 5, 6, 7, 8, 9, 10]\n"
     ]
    }
   ],
   "source": [
    "#Question - 26\n",
    "\n",
    "List =  [ (1, 2), (3, 4), (1, 2), (5, 6), (7, 8), (1, 2), (3, 4), (3, 4), (7, 8), (9, 10) ]\n",
    "List2 = list(set(List))\n",
    "print(list(set([item for t in List2 for item in t])))"
   ]
  },
  {
   "cell_type": "code",
   "execution_count": 32,
   "metadata": {},
   "outputs": [
    {
     "name": "stdout",
     "output_type": "stream",
     "text": [
      "M\n"
     ]
    }
   ],
   "source": [
    "#Question - 27\n",
    "\n",
    "class convert:\n",
    "    \n",
    "    def init_to(self,integer):\n",
    "        num = integer\n",
    "        val = [1000, 900, 500, 400,\n",
    "            100, 90, 50, 40,\n",
    "            10, 9, 5, 4,\n",
    "            1\n",
    "            ]\n",
    "        syb = [\"M\", \"CM\", \"D\", \"CD\",\n",
    "            \"C\", \"XC\", \"L\", \"XL\",\n",
    "            \"X\", \"IX\", \"V\", \"IV\",\n",
    "            \"I\"\n",
    "            ]\n",
    "        roman_int = \"\"\n",
    "        k = 0\n",
    "        while num > 0:\n",
    "            for i in range(num//val[k]):\n",
    "                roman_int += syb[i]\n",
    "                num -= val[i]\n",
    "            k += 1\n",
    "        return roman_int\n",
    "print(convert().init_to(100))"
   ]
  },
  {
   "cell_type": "code",
   "execution_count": 32,
   "metadata": {},
   "outputs": [
    {
     "name": "stdout",
     "output_type": "stream",
     "text": [
      "413\n"
     ]
    }
   ],
   "source": [
    "#Question - 28\n",
    "\n",
    "class Romantoint():\n",
    "    \n",
    "    def romtoint(self,s):\n",
    "        \n",
    "        roman = {'I':1,'V':5,'X':10,'L':50,'C':100,'D':500,'M':1000,'IV':4,'IX':9,'XL':40,'XC':90,'CD':400,'CM':900}\n",
    "        i = 0\n",
    "        num = 0\n",
    "        \n",
    "        while i < len(s):\n",
    "            if i+1 < len(s) and s[i:i+2] in roman:\n",
    "                num += roman[s[i:i+2]]\n",
    "                i += 2\n",
    "            else:\n",
    "                num += roman[s[i]]\n",
    "                i += 1\n",
    "            \n",
    "        return num\n",
    "    \n",
    "print(Romantoint().romtoint('CDXIII'))"
   ]
  },
  {
   "cell_type": "code",
   "execution_count": 6,
   "metadata": {},
   "outputs": [
    {
     "name": "stdout",
     "output_type": "stream",
     "text": [
      "Unbalanced\n"
     ]
    }
   ],
   "source": [
    "#Question - 29\n",
    "\n",
    "class parenthesis():\n",
    "    \n",
    "    def order(self,s):\n",
    "        Ls = []\n",
    "        for i in s:\n",
    "            if i == '(' or i =='[' or i == '{':\n",
    "                Ls.append(i)\n",
    "            if i == '}':\n",
    "                x = Ls.pop()\n",
    "                if x == '(' or x == '[':\n",
    "                    return 'Unbalanced'\n",
    "            \n",
    "            if i == ')':\n",
    "                x = Ls.pop()\n",
    "                if x == '{' or x == '[':\n",
    "                    return 'Unbalanced'\n",
    "                \n",
    "            if i == ']':\n",
    "                x = Ls.pop()\n",
    "                if x == '(' or x == '{':\n",
    "                    return 'Unbalanced'\n",
    "                \n",
    "        if len(Ls) == 0:\n",
    "            return 'Balanced'\n",
    "                \n",
    "print(parenthesis().order('[(])'))"
   ]
  },
  {
   "cell_type": "code",
   "execution_count": 6,
   "metadata": {},
   "outputs": [
    {
     "name": "stdout",
     "output_type": "stream",
     "text": [
      "[[], [7], [6], [6, 7], [5], [5, 7], [5, 6], [5, 6, 7], [4], [4, 7], [4, 6], [4, 6, 7], [4, 5], [4, 5, 7], [4, 5, 6], [4, 5, 6, 7]]\n"
     ]
    }
   ],
   "source": [
    "#Question - 30\n",
    "\n",
    "class py_solution:\n",
    "    def sub_sets(self, sset):\n",
    "        return self.subsetsRecur([], sorted(sset))\n",
    "    \n",
    "    def subsetsRecur(self, current, sset):\n",
    "        if sset:\n",
    "            return self.subsetsRecur(current, sset[1:]) + self.subsetsRecur(current + [sset[0]], sset[1:])\n",
    "        return [current]\n",
    "print(py_solution().sub_sets([4,5,6,7]))"
   ]
  },
  {
   "cell_type": "code",
   "execution_count": 17,
   "metadata": {},
   "outputs": [
    {
     "name": "stdout",
     "output_type": "stream",
     "text": [
      "1 6\n",
      "3 4\n",
      "4 3\n",
      "None\n"
     ]
    }
   ],
   "source": [
    "#Question - 31\n",
    "\n",
    "class pair():\n",
    "    \n",
    "    def values(self,arr,tar):\n",
    "        for i in range(0,len(arr)-1):\n",
    "            for j in range(1,len(arr)):\n",
    "                if (tar == arr[i] + arr[j]):\n",
    "                    print(i,j)\n",
    "                \n",
    "print(pair().values( [10,20,10,40,50,60,70],90))"
   ]
  },
  {
   "cell_type": "code",
   "execution_count": 21,
   "metadata": {},
   "outputs": [
    {
     "name": "stdout",
     "output_type": "stream",
     "text": [
      "[[-10, 2, 8], [-10, 8, 2], [-7, -3, 10], [-3, -7, 10], [2, -10, 8], [2, 8, -10]]\n"
     ]
    }
   ],
   "source": [
    "#Question - 32\n",
    "\n",
    "class subs():\n",
    "    \n",
    "    def value(self,tar,arr):\n",
    "        temp = []\n",
    "        for i in range(0,len(arr)-2):\n",
    "            for j in range(0,len(arr)-1):\n",
    "                for k in range(0,len(arr)):\n",
    "                    if arr[i]+arr[j]+arr[k] == tar:\n",
    "                        temp.append([arr[i],arr[j],arr[k]])\n",
    "        return temp\n",
    "print(subs().value(0,[-25, -10, -7, -3, 2, 4, 8, 10]))"
   ]
  },
  {
   "cell_type": "code",
   "execution_count": 23,
   "metadata": {},
   "outputs": [
    {
     "name": "stdout",
     "output_type": "stream",
     "text": [
      "8\n"
     ]
    }
   ],
   "source": [
    "#Question - 33\n",
    "\n",
    "class power():\n",
    "    \n",
    "    def sol(self,x,n):\n",
    "        val = 1\n",
    "        i = 0\n",
    "        while i < n:\n",
    "            val = val * x\n",
    "            i += 1\n",
    "        return val\n",
    "\n",
    "print(power().sol(2,3))"
   ]
  },
  {
   "cell_type": "code",
   "execution_count": 31,
   "metadata": {},
   "outputs": [
    {
     "name": "stdout",
     "output_type": "stream",
     "text": [
      "Enter the string:hello\n",
      "HELLO\n"
     ]
    }
   ],
   "source": [
    "#Question - 34\n",
    "\n",
    "class Str_ing():\n",
    "    \n",
    "    def get_String(self):\n",
    "        self.Str = str(input(\"Enter the string:\"))\n",
    "        \n",
    "    def print_String(self):\n",
    "        print(self.Str.upper())\n",
    "Str1 = Str_ing()\n",
    "Str1.get_String()\n",
    "Str1.print_String()"
   ]
  },
  {
   "cell_type": "code",
   "execution_count": 48,
   "metadata": {},
   "outputs": [
    {
     "data": {
      "text/plain": [
       "2000"
      ]
     },
     "execution_count": 48,
     "metadata": {},
     "output_type": "execute_result"
    }
   ],
   "source": [
    "#Question - 35\n",
    "\n",
    "class Rectangle():\n",
    "    \n",
    "    def __init__(self,length,width):\n",
    "        self.length = length\n",
    "        self.width = width\n",
    "    \n",
    "    def Area_rectangle(self):\n",
    "        return (self.length)*(self.width)\n",
    "\n",
    "Rec = Rectangle(40,50)\n",
    "Rec.Area_rectangle()"
   ]
  },
  {
   "cell_type": "code",
   "execution_count": 53,
   "metadata": {},
   "outputs": [
    {
     "name": "stdout",
     "output_type": "stream",
     "text": [
      "50.26548245743669\n",
      "25.132741228718345\n"
     ]
    }
   ],
   "source": [
    "#Question - 36\n",
    "\n",
    "class Circle():\n",
    "    \n",
    "    def __init__(self,radius):\n",
    "        self.radius = radius\n",
    "    \n",
    "    def area_circle(self):\n",
    "        return mp.pi*self.radius*self.radius\n",
    "    \n",
    "    def cir_circle(self):\n",
    "        return 2*mp.pi*self.radius\n",
    "\n",
    "cir = Circle(4)\n",
    "print(cir.area_circle())\n",
    "print(cir.cir_circle())"
   ]
  },
  {
   "cell_type": "code",
   "execution_count": 54,
   "metadata": {},
   "outputs": [
    {
     "name": "stdout",
     "output_type": "stream",
     "text": [
      "cycle\n"
     ]
    }
   ],
   "source": [
    "#Question - 37\n",
    "\n",
    "import itertools\n",
    "x = itertools.cycle('ABCD')\n",
    "print(type(x).__name__)"
   ]
  },
  {
   "cell_type": "code",
   "execution_count": 3,
   "metadata": {},
   "outputs": [
    {
     "name": "stdout",
     "output_type": "stream",
     "text": [
      "Counter({'VI': 3, 'V': 2, 'VII': 1})\n"
     ]
    }
   ],
   "source": [
    "#Question - 38\n",
    "\n",
    "from collections import Counter\n",
    "classes = (\n",
    "    ('V', 1),\n",
    "    ('VI', 1),\n",
    "    ('V', 2),\n",
    "    ('VI', 2),\n",
    "    ('VI', 3),\n",
    "    ('VII', 1),\n",
    ")\n",
    "students = Counter(class_name for class_name,no_of_students in classes)\n",
    "print(students)"
   ]
  },
  {
   "cell_type": "code",
   "execution_count": 4,
   "metadata": {},
   "outputs": [
    {
     "name": "stdout",
     "output_type": "stream",
     "text": [
      "Afghanistan 93\n",
      "Albania 355\n",
      "Algeria 213\n",
      "Andorra 376\n",
      "Angola 244\n",
      "\n",
      "In reverse order:\n",
      "Angola 244\n",
      "Andorra 376\n",
      "Algeria 213\n",
      "Albania 355\n",
      "Afghanistan 93\n"
     ]
    }
   ],
   "source": [
    "#Question - 39\n",
    "\n",
    "from collections import OrderedDict\n",
    "dict = {'Afghanistan': 93, 'Albania': 355, 'Algeria': 213, 'Andorra': 376, 'Angola': 244}\n",
    "new_dict = OrderedDict(dict.items())\n",
    "for key in new_dict:\n",
    "    print (key, new_dict[key])\n",
    "\n",
    "print(\"\\nIn reverse order:\")\n",
    "for key in reversed(new_dict):\n",
    "    print (key, new_dict[key])"
   ]
  },
  {
   "cell_type": "code",
   "execution_count": 4,
   "metadata": {},
   "outputs": [
    {
     "name": "stdout",
     "output_type": "stream",
     "text": [
      "Enter the first list:1,2,3,4\n",
      "Enter the first list:4,3,2,1\n"
     ]
    },
    {
     "data": {
      "text/plain": [
       "False"
      ]
     },
     "execution_count": 4,
     "metadata": {},
     "output_type": "execute_result"
    }
   ],
   "source": [
    "#Question - 40\n",
    "\n",
    "List1 = list(int(x) for x in input(\"Enter the first list:\").split(','))\n",
    "List2 = list(int(x) for x in input(\"Enter the first list:\").split(','))\n",
    "List1 == List2"
   ]
  },
  {
   "cell_type": "code",
   "execution_count": 9,
   "metadata": {},
   "outputs": [
    {
     "name": "stdout",
     "output_type": "stream",
     "text": [
      "(1677578540944, 2)\n"
     ]
    }
   ],
   "source": [
    "#Question - 41\n",
    "\n",
    "from array import array\n",
    "\n",
    "a = array(\"I\",(12,25))\n",
    "print(a.buffer_info())"
   ]
  },
  {
   "cell_type": "code",
   "execution_count": 11,
   "metadata": {},
   "outputs": [
    {
     "name": "stdout",
     "output_type": "stream",
     "text": [
      "b'010000000200000003000000040000000500000006000000'\n"
     ]
    }
   ],
   "source": [
    "#Question - 42\n",
    "\n",
    "import binascii\n",
    "A1 = array('i',[1,2,3,4,5,6])\n",
    "print(binascii.hexlify(A1.tobytes()))"
   ]
  },
  {
   "cell_type": "code",
   "execution_count": 12,
   "metadata": {},
   "outputs": [
    {
     "name": "stdout",
     "output_type": "stream",
     "text": [
      "b'0700000008000000090000000a000000'\n"
     ]
    }
   ],
   "source": [
    "#Question - 43\n",
    "\n",
    "A1 = array('i',[7,8,9,10])\n",
    "print(binascii.hexlify(A1.tobytes()))\n",
    "A2 = array('i',[7,8,9,10])"
   ]
  },
  {
   "cell_type": "code",
   "execution_count": 10,
   "metadata": {},
   "outputs": [
    {
     "name": "stdout",
     "output_type": "stream",
     "text": [
      "Items in the heap:\n",
      "('V', 1)\n",
      "('V', 3)\n",
      "('V', 2)\n",
      "----------------------\n",
      "The smallest item in the heap:\n",
      "('V', 1)\n",
      "----------------------\n",
      "Pop the smallest item in the heap:\n",
      "('V', 2)\n",
      "('V', 3)\n"
     ]
    }
   ],
   "source": [
    "#Question - 44\n",
    "\n",
    "import heapq\n",
    "heap = []\n",
    "heapq.heappush(heap, ('V', 3))\n",
    "heapq.heappush(heap, ('V', 2))\n",
    "heapq.heappush(heap, ('V', 1))\n",
    "print(\"Items in the heap:\")\n",
    "for a in heap:\n",
    "\tprint(a)\n",
    "print(\"----------------------\")\n",
    "print(\"The smallest item in the heap:\")\n",
    "print(heap[0])\n",
    "print(\"----------------------\")\n",
    "print(\"Pop the smallest item in the heap:\")\n",
    "heapq.heappop(heap)\n",
    "for a in heap:\n",
    "\tprint(a)"
   ]
  },
  {
   "cell_type": "code",
   "execution_count": 11,
   "metadata": {},
   "outputs": [
    {
     "name": "stdout",
     "output_type": "stream",
     "text": [
      "4\n",
      "2\n"
     ]
    }
   ],
   "source": [
    "#Question - 45\n",
    "\n",
    "import bisect\n",
    "def index(a, x):\n",
    "    i = bisect.bisect_left(a, x)\n",
    "    return i\n",
    "    \n",
    "a = [1,2,4,5]\n",
    "print(index(a, 6))\n",
    "print(index(a, 3))"
   ]
  },
  {
   "cell_type": "code",
   "execution_count": 14,
   "metadata": {},
   "outputs": [
    {
     "name": "stdout",
     "output_type": "stream",
     "text": [
      "0 1 2 3 "
     ]
    }
   ],
   "source": [
    "#Question - 46\n",
    "\n",
    "import queue\n",
    "\n",
    "q = queue.Queue()\n",
    "for x in range(4):\n",
    "    q.put(str(x))\n",
    "\n",
    "while not q.empty():\n",
    "    print(q.get(),end = ' ')"
   ]
  },
  {
   "cell_type": "code",
   "execution_count": 15,
   "metadata": {},
   "outputs": [
    {
     "data": {
      "text/plain": [
       "2.083333333333333"
      ]
     },
     "execution_count": 15,
     "metadata": {},
     "output_type": "execute_result"
    }
   ],
   "source": [
    "#Question - 47\n",
    "\n",
    "def harmonic_sum(n):\n",
    "    if n < 2:\n",
    "        return 1\n",
    "    else:\n",
    "        return 1 / n + (harmonic_sum(n - 1))\n",
    "\n",
    "harmonic_sum(4)"
   ]
  },
  {
   "cell_type": "code",
   "execution_count": 18,
   "metadata": {},
   "outputs": [
    {
     "name": "stdout",
     "output_type": "stream",
     "text": [
      "[[6 6 6 6 6]\n",
      " [6 0 0 0 6]\n",
      " [6 0 0 0 6]\n",
      " [6 0 0 0 6]\n",
      " [6 6 6 6 6]]\n"
     ]
    }
   ],
   "source": [
    "#Question - 48\n",
    "\n",
    "I = np.ones((5,5)) + 5\n",
    "for i in range(1,4):\n",
    "    for j in range(1,4):\n",
    "        I[i][j] = 0\n",
    "print(np.array(I, dtype=np.int32))"
   ]
  },
  {
   "cell_type": "code",
   "execution_count": 28,
   "metadata": {},
   "outputs": [
    {
     "name": "stdout",
     "output_type": "stream",
     "text": [
      "[[3 9 3 9 3 9 3 9]\n",
      " [9 9 9 9 9 9 9 9]\n",
      " [3 9 3 9 3 9 3 9]\n",
      " [9 9 9 9 9 9 9 9]\n",
      " [3 9 3 9 3 9 3 9]\n",
      " [9 9 9 9 9 9 9 9]\n",
      " [3 9 3 9 3 9 3 9]\n",
      " [9 9 9 9 9 9 9 9]]\n"
     ]
    }
   ],
   "source": [
    "#Question - 49\n",
    "\n",
    "I = np.ones((8,8)) + 8\n",
    "for i in range(0,8):\n",
    "    for j in range(0,8):\n",
    "        if i % 2 == 0 and j % 2 == 0:\n",
    "            I[i][j] = 3\n",
    "print(np.array(I, dtype=np.int32))"
   ]
  },
  {
   "cell_type": "code",
   "execution_count": 37,
   "metadata": {},
   "outputs": [
    {
     "name": "stdout",
     "output_type": "stream",
     "text": [
      "[[2.20264658e+04 1.48413159e+02 2.00855369e+01]\n",
      " [2.98095799e+03 2.71828183e+00 2.98095799e+03]\n",
      " [4.03428793e+02 1.48413159e+02 2.00855369e+01]]\n"
     ]
    }
   ],
   "source": [
    "#Question - 50\n",
    "from numpy.random import randint as ri\n",
    "I = np.array(ri(1,12,9)).reshape(3,3)\n",
    "print(np.exp(I))"
   ]
  },
  {
   "cell_type": "code",
   "execution_count": 55,
   "metadata": {},
   "outputs": [
    {
     "name": "stdout",
     "output_type": "stream",
     "text": [
      "Enter:0,12,45.21\n"
     ]
    },
    {
     "data": {
      "text/plain": [
       "[-17.77777777777778, -11.11111111111111, 7.33888888888889]"
      ]
     },
     "execution_count": 55,
     "metadata": {},
     "output_type": "execute_result"
    }
   ],
   "source": [
    "#Question - 51\n",
    "\n",
    "I = list(map(float,input(\"Enter:\").split(\",\")))\n",
    "temp = []\n",
    "for i in I:\n",
    "    temp.append((i-32)*5/9)\n",
    "temp"
   ]
  },
  {
   "cell_type": "code",
   "execution_count": 37,
   "metadata": {},
   "outputs": [
    {
     "name": "stdout",
     "output_type": "stream",
     "text": [
      "Real part 1.0\n",
      "Imaginary part: 0.0\n"
     ]
    }
   ],
   "source": [
    "#Question - 52\n",
    "\n",
    "I = 1+0j\n",
    "print(\"Real part\",I.real)\n",
    "print(\"Imaginary part:\",I.imag)"
   ]
  },
  {
   "cell_type": "code",
   "execution_count": 54,
   "metadata": {},
   "outputs": [
    {
     "data": {
      "text/plain": [
       "[True, False, False, True, False]"
      ]
     },
     "execution_count": 54,
     "metadata": {},
     "output_type": "execute_result"
    }
   ],
   "source": [
    "#Question - 53\n",
    "\n",
    "l1 = np.array([0,10,20,40,60])\n",
    "l2 = np.array([0,40])\n",
    "l3 = []\n",
    "for num in l1:\n",
    "    if num == l2[0] or num == l2[1]:\n",
    "        l3.append(True)\n",
    "    else:\n",
    "        l3.append(False)\n",
    "l3"
   ]
  },
  {
   "cell_type": "code",
   "execution_count": 56,
   "metadata": {},
   "outputs": [
    {
     "data": {
      "text/plain": [
       "[10, 40]"
      ]
     },
     "execution_count": 56,
     "metadata": {},
     "output_type": "execute_result"
    }
   ],
   "source": [
    "#Question - 54\n",
    "\n",
    "l1 = np.array([0,10,20,40,60])\n",
    "l2 = np.array([10,30,40])\n",
    "l3 = []\n",
    "for i in l1:\n",
    "    for j in l2:\n",
    "        if i == j:\n",
    "            l3.append(i)\n",
    "l3"
   ]
  },
  {
   "cell_type": "code",
   "execution_count": 60,
   "metadata": {},
   "outputs": [
    {
     "data": {
      "text/plain": [
       "array([10, 20, 30])"
      ]
     },
     "execution_count": 60,
     "metadata": {},
     "output_type": "execute_result"
    }
   ],
   "source": [
    "#Question - 55\n",
    "\n",
    "l1 = np.array([10,10,20,20,30,30])\n",
    "np.array(list((set(l1))))"
   ]
  },
  {
   "cell_type": "code",
   "execution_count": 23,
   "metadata": {},
   "outputs": [
    {
     "data": {
      "text/plain": [
       "array([ 0, 20, 30, 50, 60, 70, 80])"
      ]
     },
     "execution_count": 23,
     "metadata": {},
     "output_type": "execute_result"
    }
   ],
   "source": [
    "#Question - 56\n",
    "\n",
    "l1 = np.array([0,10,20,40,60,80])\n",
    "l2 = np.array([10,30,40,50,70])\n",
    "np.setxor1d(l1,l2)"
   ]
  },
  {
   "cell_type": "code",
   "execution_count": 26,
   "metadata": {},
   "outputs": [
    {
     "name": "stdout",
     "output_type": "stream",
     "text": [
      "False\n"
     ]
    },
    {
     "data": {
      "text/plain": [
       "True"
      ]
     },
     "execution_count": 26,
     "metadata": {},
     "output_type": "execute_result"
    }
   ],
   "source": [
    "#Question - 57\n",
    "\n",
    "print(np.all([0,20,30]))\n",
    "np.all([10,20,30])"
   ]
  },
  {
   "cell_type": "code",
   "execution_count": 34,
   "metadata": {},
   "outputs": [
    {
     "data": {
      "text/plain": [
       "[1, 2, 3, 1, 2, 3, 1, 2, 3]"
      ]
     },
     "execution_count": 34,
     "metadata": {},
     "output_type": "execute_result"
    }
   ],
   "source": [
    "#Question - 58\n",
    "[1,2,3]*3\n"
   ]
  },
  {
   "cell_type": "code",
   "execution_count": 36,
   "metadata": {},
   "outputs": [
    {
     "name": "stdout",
     "output_type": "stream",
     "text": [
      "Number of times : 2\n"
     ]
    },
    {
     "data": {
      "text/plain": [
       "[1, 2, 3, 1, 2, 3]"
      ]
     },
     "execution_count": 36,
     "metadata": {},
     "output_type": "execute_result"
    }
   ],
   "source": [
    "#Question - 59\n",
    "\n",
    "Input = [1,2,3]\n",
    "K = int(input(\"Number of times : \"))\n",
    "Input*K"
   ]
  },
  {
   "cell_type": "code",
   "execution_count": 6,
   "metadata": {},
   "outputs": [
    {
     "name": "stdout",
     "output_type": "stream",
     "text": [
      "Maximum value: 5\n",
      "Minimum value: 0\n"
     ]
    }
   ],
   "source": [
    "#Question - 60\n",
    "\n",
    "Inp = np.array([1,2,3,4,5,6])\n",
    "\n",
    "Max = Inp[0]\n",
    "Ind = 0\n",
    "for i in range(1,len(Inp)):\n",
    "    if Inp[i] > Max:\n",
    "        Max = Inp[i]\n",
    "        Ind = i\n",
    "Min = Inp[0]\n",
    "Ind2 = 0\n",
    "for i in range(1,len(Inp)):\n",
    "    if Inp[i] < Min:\n",
    "        Min = Inp[i]\n",
    "        Ind2 = i\n",
    "print(\"Maximum value:\",Ind)\n",
    "print(\"Minimum value:\",Ind2)"
   ]
  },
  {
   "cell_type": "code",
   "execution_count": 9,
   "metadata": {},
   "outputs": [
    {
     "name": "stdout",
     "output_type": "stream",
     "text": [
      "a > b [False False]\n",
      "a >= b [False False]\n",
      "a < b [ True  True]\n",
      "a <= b [ True  True]\n"
     ]
    }
   ],
   "source": [
    "#Question - 61\n",
    "\n",
    "A1 = np.array([1,2])\n",
    "A2 = np.array([4,5])\n",
    "\n",
    "print(\"a > b\",A1 > A2)\n",
    "print(\"a >= b\",A1 >= A2)\n",
    "print(\"a < b\",A1 < A2)\n",
    "print(\"a <= b\",A1 <= A2)"
   ]
  },
  {
   "cell_type": "code",
   "execution_count": 19,
   "metadata": {},
   "outputs": [
    {
     "name": "stdout",
     "output_type": "stream",
     "text": [
      "[[4 6]\n",
      " [2 1]]\n",
      "[[2 1]\n",
      " [4 6]]\n",
      "[[4 6]\n",
      " [1 2]]\n"
     ]
    }
   ],
   "source": [
    "#Question - 62\n",
    "\n",
    "Inp = np.array([[4,6],[2,1]])\n",
    "print(Inp)\n",
    "print(np.sort(Inp,axis = 0))\n",
    "print(np.sort(Inp,axis = -1))"
   ]
  },
  {
   "cell_type": "code",
   "execution_count": 31,
   "metadata": {},
   "outputs": [
    {
     "name": "stdout",
     "output_type": "stream",
     "text": [
      "[1 3 2 4 0]\n"
     ]
    }
   ],
   "source": [
    "#Question - 63\n",
    "\n",
    "first_names =    ('Margery', 'Betsey', 'Shelley', 'Lanell', 'Genesis')\n",
    "last_names = ('Woolum', 'Battle', 'Plotner', 'Brien', 'Stahl')\n",
    "x = np.lexsort((first_names, last_names))\n",
    "print(x)"
   ]
  },
  {
   "cell_type": "code",
   "execution_count": 30,
   "metadata": {},
   "outputs": [
    {
     "name": "stdout",
     "output_type": "stream",
     "text": [
      "[[ 0 10 20]\n",
      " [20 30 40]]\n",
      "Values bigger than 10 is [20, 20, 30, 40]\n",
      "Their Indices are ([0 1 1 1],[2 0 1 2])\n"
     ]
    }
   ],
   "source": [
    "#Question - 64\n",
    "\n",
    "Inp =np.array([[0,10,20],[20,30,40]])\n",
    "print(Inp)\n",
    "Ind = []\n",
    "r = []\n",
    "c = []\n",
    "val = 10\n",
    "for i in range(0,len(Inp)):\n",
    "    for j in range(0,len(Inp[i])):\n",
    "        if val < Inp[i][j]:\n",
    "            Ind.append(Inp[i][j])\n",
    "            r.append(i)\n",
    "            c.append(j)\n",
    "print(\"Values bigger than {}\".format(val),\"is\",Ind)\n",
    "print(\"Their Indices are ({},{})\".format(np.array(r),np.array(c)))"
   ]
  },
  {
   "cell_type": "code",
   "execution_count": 33,
   "metadata": {},
   "outputs": [
    {
     "name": "stdout",
     "output_type": "stream",
     "text": [
      "16\n",
      "8\n",
      "128 bytes\n"
     ]
    }
   ],
   "source": [
    "#Question - 65\n",
    "\n",
    "n = np.zeros((4,4))\n",
    "print(\"%d\"%(n.size))\n",
    "print(\"%d\"%(n.itemsize))\n",
    "print(\"%d bytes\" % (n.size * n.itemsize))"
   ]
  },
  {
   "cell_type": "code",
   "execution_count": 51,
   "metadata": {},
   "outputs": [
    {
     "name": "stdout",
     "output_type": "stream",
     "text": [
      "[[1 1]]\n",
      "[[0. 0.]]\n",
      "[[0 0]]\n"
     ]
    }
   ],
   "source": [
    "#Question - 66\n",
    "\n",
    "print(np.ones((1,2),int))\n",
    "print(np.zeros((1,2)))\n",
    "print(np.zeros((1,2),int))"
   ]
  },
  {
   "cell_type": "code",
   "execution_count": 61,
   "metadata": {},
   "outputs": [
    {
     "data": {
      "text/plain": [
       "array([[1, 2, 3],\n",
       "       [4, 5, 6],\n",
       "       [7, 8, 9]])"
      ]
     },
     "execution_count": 61,
     "metadata": {},
     "output_type": "execute_result"
    }
   ],
   "source": [
    "#Question - 67\n",
    "\n",
    "L = np.arange(1,10)\n",
    "L.reshape((3,3))"
   ]
  },
  {
   "cell_type": "code",
   "execution_count": 62,
   "metadata": {},
   "outputs": [
    {
     "name": "stdout",
     "output_type": "stream",
     "text": [
      "[[1 2]\n",
      " [3 4]\n",
      " [5 6]]\n",
      "[[1 2 3]\n",
      " [4 5 6]]\n"
     ]
    }
   ],
   "source": [
    "#Question - 68\n",
    "\n",
    "L = np.arange(1,7)\n",
    "print(L.reshape((3,2)))\n",
    "print(L.reshape(2,3))"
   ]
  },
  {
   "cell_type": "code",
   "execution_count": 65,
   "metadata": {},
   "outputs": [
    {
     "data": {
      "text/plain": [
       "array([[2, 2, 2, 2, 2],\n",
       "       [2, 2, 2, 2, 2],\n",
       "       [2, 2, 2, 2, 2]])"
      ]
     },
     "execution_count": 65,
     "metadata": {},
     "output_type": "execute_result"
    }
   ],
   "source": [
    "#Question - 69\n",
    "\n",
    "(np.ones((3,5),int))*2"
   ]
  },
  {
   "cell_type": "code",
   "execution_count": 68,
   "metadata": {},
   "outputs": [
    {
     "data": {
      "text/plain": [
       "array([[1, 0, 0],\n",
       "       [0, 1, 0],\n",
       "       [0, 0, 1]])"
      ]
     },
     "execution_count": 68,
     "metadata": {},
     "output_type": "execute_result"
    }
   ],
   "source": [
    "#Question - 70\n",
    "\n",
    "D = np.zeros((3,3),int)\n",
    "np.fill_diagonal(D,1)\n",
    "D"
   ]
  },
  {
   "cell_type": "code",
   "execution_count": 8,
   "metadata": {},
   "outputs": [
    {
     "name": "stdout",
     "output_type": "stream",
     "text": [
      "[array([1, 2]), array([3, 4, 5, 6]), array([ 7,  8,  9, 10, 11, 12, 13, 14]), array([], dtype=int32)]\n"
     ]
    }
   ],
   "source": [
    "#Question - 71\n",
    "\n",
    "L = np.arange(1,15)\n",
    "print(np.split(L,[2,6,14]))"
   ]
  },
  {
   "cell_type": "code",
   "execution_count": 11,
   "metadata": {},
   "outputs": [
    {
     "data": {
      "text/plain": [
       "[array([[ 0,  1],\n",
       "        [ 4,  5],\n",
       "        [ 8,  9],\n",
       "        [12, 13]]), array([[ 2,  3],\n",
       "        [ 6,  7],\n",
       "        [10, 11],\n",
       "        [14, 15]])]"
      ]
     },
     "execution_count": 11,
     "metadata": {},
     "output_type": "execute_result"
    }
   ],
   "source": [
    "#Question - 72\n",
    "\n",
    "A = np.arange(0,16).reshape((4,4))\n",
    "np.split(A,[2],axis=1)"
   ]
  },
  {
   "cell_type": "code",
   "execution_count": 5,
   "metadata": {},
   "outputs": [
    {
     "data": {
      "text/plain": [
       "array([[0., 1., 2., 3., 4.],\n",
       "       [0., 1., 2., 3., 4.],\n",
       "       [0., 1., 2., 3., 4.],\n",
       "       [0., 1., 2., 3., 4.],\n",
       "       [0., 1., 2., 3., 4.]])"
      ]
     },
     "execution_count": 5,
     "metadata": {},
     "output_type": "execute_result"
    }
   ],
   "source": [
    "#Question - 73\n",
    "\n",
    "O = np.zeros((5,5))\n",
    "for every in O:\n",
    "    for i in range(0,len(every)):\n",
    "        every[i] = every[i] + i\n",
    "O"
   ]
  },
  {
   "cell_type": "code",
   "execution_count": 18,
   "metadata": {},
   "outputs": [
    {
     "data": {
      "text/plain": [
       "[(1, 2.0, b'Albert Einstein'),\n",
       " (2, 2.0, b'Edmond Halley'),\n",
       " (3, 3.0, b'Gertrude B. Elion')]"
      ]
     },
     "execution_count": 18,
     "metadata": {},
     "output_type": "execute_result"
    }
   ],
   "source": [
    "#Question - 74\n",
    "\n",
    "t1 = (1,2.0,b'Albert Einstein')\n",
    "t2 = (2, 2., b'Edmond Halley') \n",
    "t3 = (3, 3., b'Gertrude B. Elion')\n",
    "k = [t1,t2,t3]\n",
    "k"
   ]
  },
  {
   "cell_type": "code",
   "execution_count": 22,
   "metadata": {},
   "outputs": [
    {
     "data": {
      "text/plain": [
       "array([0, 0, 0, 2, 3, 4, 5, 0])"
      ]
     },
     "execution_count": 22,
     "metadata": {},
     "output_type": "execute_result"
    }
   ],
   "source": [
    "#Question - 75\n",
    "\n",
    "A = np.array([-1,-4,0,2,3,4,5,-6])\n",
    "for i in range(0,len(A)):\n",
    "    if A[i] < 0:\n",
    "        A[i] = 0\n",
    "A"
   ]
  },
  {
   "cell_type": "code",
   "execution_count": 45,
   "metadata": {},
   "outputs": [
    {
     "data": {
      "text/plain": [
       "(array([0., 2., 1., 0., 0.]),\n",
       " array([0, 1, 2, 3, 4, 5]),\n",
       " <a list of 5 Patch objects>)"
      ]
     },
     "execution_count": 45,
     "metadata": {},
     "output_type": "execute_result"
    },
    {
     "data": {
      "image/png": "[encoded data removed]",
      "text/plain": [
       "<Figure size 432x288 with 1 Axes>"
      ]
     },
     "metadata": {
      "needs_background": "light"
     },
     "output_type": "display_data"
    }
   ],
   "source": [
    "#Question - 76\n",
    "\n",
    "a = [1,2,1]\n",
    "plt.hist(a,bins=[0,1,2,3,4,5])"
   ]
  },
  {
   "cell_type": "code",
   "execution_count": null,
   "metadata": {},
   "outputs": [],
   "source": []
  },
  {
   "cell_type": "code",
   "execution_count": 86,
   "metadata": {},
   "outputs": [
    {
     "data": {
      "text/plain": [
       "[<matplotlib.lines.Line2D at 0x186ae473848>]"
      ]
     },
     "execution_count": 86,
     "metadata": {},
     "output_type": "execute_result"
    },
    {
     "data": {
      "image/png": "[encoded data removed]",
      "text/plain": [
       "<Figure size 432x288 with 1 Axes>"
      ]
     },
     "metadata": {
      "needs_background": "light"
     },
     "output_type": "display_data"
    }
   ],
   "source": [
    "#Question - 77\n",
    "\n",
    "arr = [20, 20, 30, 31, 32, 41, 43, 37, 22]\n",
    "y, x = np.histogram(arr, bins=np.arange(51))\n",
    "fig, ax = plt.subplots()\n",
    "ax.plot(x[:-1], y)"
   ]
  },
  {
   "cell_type": "code",
   "execution_count": 72,
   "metadata": {},
   "outputs": [
    {
     "data": {
      "text/plain": [
       "array([4, 5, 6, 7])"
      ]
     },
     "execution_count": 72,
     "metadata": {},
     "output_type": "execute_result"
    }
   ],
   "source": [
    "#Question - 78\n",
    "\n",
    "A = np.array(np.arange(0,16))\n",
    "A = np.split(A,[4,8,12])\n",
    "A[1]"
   ]
  },
  {
   "cell_type": "code",
   "execution_count": 74,
   "metadata": {},
   "outputs": [
    {
     "name": "stdout",
     "output_type": "stream",
     "text": [
      "4 15\n"
     ]
    }
   ],
   "source": [
    "#Question - 79\n",
    "\n",
    "A = np.array(np.arange(0,16))\n",
    "A = np.split(A,[4,8,12])\n",
    "print(A[1][0],A[3][3])"
   ]
  },
  {
   "cell_type": "code",
   "execution_count": 71,
   "metadata": {},
   "outputs": [
    {
     "name": "stdout",
     "output_type": "stream",
     "text": [
      "[[1 1 1]\n",
      " [1 1 1]\n",
      " [1 1 1]]\n",
      "[0 1 2]\n",
      "[[1 2 3]\n",
      " [1 2 3]\n",
      " [1 2 3]]\n"
     ]
    }
   ],
   "source": [
    "#Question - 80\n",
    "\n",
    "A1 = np.ones((3,3),int)\n",
    "A2 = np.array([0,1,2])\n",
    "print(A1)\n",
    "print(A2)\n",
    "print(A1+A2)"
   ]
  },
  {
   "cell_type": "code",
   "execution_count": 75,
   "metadata": {},
   "outputs": [
    {
     "name": "stdout",
     "output_type": "stream",
     "text": [
      "[24 27 30 29 18 14]\n",
      "[24 27 30 29 18 14]\n"
     ]
    }
   ],
   "source": [
    "#Question - 81\n",
    "\n",
    "A = np.array([24,27,30,29,18,14])\n",
    "B = np.copy(A)\n",
    "print(A)\n",
    "print(B)"
   ]
  },
  {
   "cell_type": "code",
   "execution_count": 85,
   "metadata": {},
   "outputs": [
    {
     "name": "stdout",
     "output_type": "stream",
     "text": [
      "[array([0, 1, 2, 3, 4, 5, 6, 7, 8]), array([ 9, 10, 11, 12, 13, 14, 15, 16, 17]), array([18, 19, 20, 21, 22, 23, 24, 25, 26]), array([27, 28, 29, 30, 31, 32, 33, 34, 35])]\n",
      "[54 58 62 66 70 74 78 82 86]\n"
     ]
    }
   ],
   "source": [
    "#Question - 82\n",
    "\n",
    "A = np.array(np.arange(0,36))\n",
    "A = np.split(A,[9,18,27])\n",
    "K = np.sum(A,axis=0)\n",
    "print(A)\n",
    "print(K)"
   ]
  },
  {
   "cell_type": "code",
   "execution_count": 101,
   "metadata": {},
   "outputs": [
    {
     "name": "stdout",
     "output_type": "stream",
     "text": [
      "[[10. 20. 30.]\n",
      " [40. 50. nan]\n",
      " [nan  6. nan]\n",
      " [nan nan nan]]\n",
      "[20. 45.  6. nan]\n"
     ]
    }
   ],
   "source": [
    "#Question - 83\n",
    "\n",
    "A = np.array([[10,20,30],[40,50,np.nan],[np.nan,6,np.nan],[np.nan,np.nan,np.nan]])\n",
    "temp = np.ma.masked_array(A,np.isnan(A))\n",
    "result = np.mean(temp, axis=1)\n",
    "print(A)\n",
    "print(result.filled(np.nan))"
   ]
  },
  {
   "cell_type": "code",
   "execution_count": 2,
   "metadata": {},
   "outputs": [
    {
     "data": {
      "text/plain": [
       "3"
      ]
     },
     "execution_count": 2,
     "metadata": {},
     "output_type": "execute_result"
    }
   ],
   "source": [
    "#Question - 84\n",
    "\n",
    "x = np.array([10,-10,10,-10,-10,10])\n",
    "y = np.array([.85,.45,.9,.8,.12,.6])\n",
    "result = np.sum((x == 10) & (y > .5))\n",
    "result"
   ]
  },
  {
   "cell_type": "code",
   "execution_count": 25,
   "metadata": {},
   "outputs": [
    {
     "data": {
      "text/plain": [
       "[[1, 0.0, 0.0, 2.0],\n",
       " [3.0, 1, 0.0, -1.0],\n",
       " [4, 1, 5.0, -1.0],\n",
       " [3.0, -1.0, -1.0, -1.0]]"
      ]
     },
     "execution_count": 25,
     "metadata": {},
     "output_type": "execute_result"
    }
   ],
   "source": [
    "#Question - 85\n",
    "\n",
    "D = {'column0': {'a': 1, 'b': 0.0, 'c': 0.0, 'd': 2.0}, 'column1': {'a': 3.0, 'b': 1, 'c': 0.0, 'd': -1.0}, 'column2': {'a': 4, 'b': 1, 'c': 5.0, 'd': -1.0}, 'column3': {'a': 3.0, 'b': -1.0, 'c': -1.0, 'd': -1.0}} \n",
    "f = D.keys()\n",
    "f = list(f)\n",
    "pal = []\n",
    "for i in f:\n",
    "    pal.append(list(D[i].values()))\n",
    "pal"
   ]
  },
  {
   "cell_type": "code",
   "execution_count": 4,
   "metadata": {},
   "outputs": [
    {
     "name": "stdout",
     "output_type": "stream",
     "text": [
      "[[ 1  1  0]\n",
      " [ 0  2  3]\n",
      " [ 0 -1  1]]\n"
     ]
    }
   ],
   "source": [
    "#Question - 86\n",
    "\n",
    "arra = np.array([[ 1,  1,  0],\n",
    "                 [ 0,  0,  0],\n",
    "                 [ 0,  2,  3],\n",
    "                 [ 0,  0,  0],\n",
    "                 [ 0, -1,  1],\n",
    "                 [ 0,  0,  0]])\n",
    "temp = {(0,0,0)}\n",
    "res = []\n",
    "for i,j in enumerate(map(tuple, arra)):\n",
    "    if j not in temp:\n",
    "        res.append(i)\n",
    "print(arra[res])"
   ]
  },
  {
   "cell_type": "code",
   "execution_count": 13,
   "metadata": {},
   "outputs": [
    {
     "data": {
      "text/plain": [
       "(70-8j)"
      ]
     },
     "execution_count": 13,
     "metadata": {},
     "output_type": "execute_result"
    }
   ],
   "source": [
    "#Question - 87\n",
    "\n",
    "x = np.array([1+2j,3+4j])\n",
    "y = np.array([5+6j,7+8j])\n",
    "z = np.vdot(x, y)\n",
    "z"
   ]
  },
  {
   "cell_type": "code",
   "execution_count": 15,
   "metadata": {},
   "outputs": [
    {
     "data": {
      "text/plain": [
       "array([[3, 1],\n",
       "       [5, 3]])"
      ]
     },
     "execution_count": 15,
     "metadata": {},
     "output_type": "execute_result"
    }
   ],
   "source": [
    "#Question - 88\n",
    "\n",
    "M1 = [[1, 0], [1, 1]]\n",
    "M2 = [[3, 1], [2, 2]]\n",
    "np.matmul(M1,M2)"
   ]
  },
  {
   "cell_type": "code",
   "execution_count": 18,
   "metadata": {},
   "outputs": [
    {
     "name": "stdout",
     "output_type": "stream",
     "text": [
      "[2.+1.73205081j 2.-1.73205081j]\n",
      "[ 9.97739366+0.j          1.9206355 +0.j         -0.44901458+0.56588568j\n",
      " -0.44901458-0.56588568j]\n"
     ]
    }
   ],
   "source": [
    "#Question - 89\n",
    "\n",
    "print(np.roots([1,-4,7]))\n",
    "print(np.roots([1,-11,9,11,10]))"
   ]
  },
  {
   "cell_type": "code",
   "execution_count": 19,
   "metadata": {},
   "outputs": [
    {
     "name": "stdout",
     "output_type": "stream",
     "text": [
      "[-1.57079633  0.          1.57079633]\n",
      "[3.14159265 1.57079633 0.        ]\n",
      "[-0.78539816  0.          0.78539816]\n"
     ]
    }
   ],
   "source": [
    "#Question - 90\n",
    "\n",
    "x = np.array([-1., 0, 1.])\n",
    "print(np.arcsin(x))\n",
    "print(np.arccos(x))\n",
    "print(np.arctan(x))"
   ]
  },
  {
   "cell_type": "code",
   "execution_count": 20,
   "metadata": {},
   "outputs": [
    {
     "data": {
      "text/plain": [
       "array([ 2,  2,  2, -7])"
      ]
     },
     "execution_count": 20,
     "metadata": {},
     "output_type": "execute_result"
    }
   ],
   "source": [
    "#Question - 91\n",
    "\n",
    "A = np.array([1,3,5,7,0])\n",
    "np.ediff1d(A)"
   ]
  },
  {
   "cell_type": "code",
   "execution_count": 24,
   "metadata": {},
   "outputs": [
    {
     "name": "stdout",
     "output_type": "stream",
     "text": [
      "3\n",
      "0\n"
     ]
    }
   ],
   "source": [
    "#Question - 92\n",
    "\n",
    "a = np.array([[0,1],[2,3]])\n",
    "a = a.flatten()\n",
    "Max = a[0]\n",
    "Min = a[0]\n",
    "for i in a:\n",
    "    if i > Max:\n",
    "        Max = i\n",
    "    if i < Min:\n",
    "        Min = i\n",
    "print(Max)\n",
    "print(Min)"
   ]
  },
  {
   "cell_type": "code",
   "execution_count": 9,
   "metadata": {},
   "outputs": [
    {
     "data": {
      "text/plain": [
       "[5, 5]"
      ]
     },
     "execution_count": 9,
     "metadata": {},
     "output_type": "execute_result"
    }
   ],
   "source": [
    "#Question - 93\n",
    "\n",
    "A = np.arange(12).reshape((2, 6))\n",
    "L = len(A)\n",
    "Max = []\n",
    "Min = []\n",
    "for i in range(0,L):\n",
    "    ma = max(A[i])\n",
    "    mi = min(A[i])\n",
    "    Max.append(ma)\n",
    "    Min.append(mi)\n",
    "O = []\n",
    "for i in range(0,len(Max)):\n",
    "    O.append(Max[i]-Min[i])\n",
    "O"
   ]
  },
  {
   "cell_type": "code",
   "execution_count": 14,
   "metadata": {},
   "outputs": [
    {
     "data": {
      "text/plain": [
       "2.6666666666666665"
      ]
     },
     "execution_count": 14,
     "metadata": {},
     "output_type": "execute_result"
    }
   ],
   "source": [
    "#Question - 94\n",
    "\n",
    "A = [0,1,2,3,4]\n",
    "np.average(A,weights=[1,2,3,4,5])"
   ]
  },
  {
   "cell_type": "code",
   "execution_count": 16,
   "metadata": {},
   "outputs": [
    {
     "name": "stdout",
     "output_type": "stream",
     "text": [
      "2.5\n",
      "1.707825127659933\n",
      "2.9166666666666665\n"
     ]
    }
   ],
   "source": [
    "#Question - 95\n",
    "\n",
    "A = [0,1,2,3,4,5]\n",
    "print(np.mean(A))\n",
    "print(np.std(A))\n",
    "print(np.var(A))"
   ]
  },
  {
   "cell_type": "code",
   "execution_count": 18,
   "metadata": {},
   "outputs": [
    {
     "data": {
      "text/plain": [
       "array([[ 1., -1.],\n",
       "       [-1.,  1.]])"
      ]
     },
     "execution_count": 18,
     "metadata": {},
     "output_type": "execute_result"
    }
   ],
   "source": [
    "#Question - 96\n",
    "\n",
    "A1 = [0,1,2]\n",
    "A2 = [2,1,0]\n",
    "\n",
    "np.cov(A1,A2)"
   ]
  },
  {
   "cell_type": "code",
   "execution_count": 20,
   "metadata": {},
   "outputs": [
    {
     "data": {
      "text/plain": [
       "array([[2.33333333, 2.16666667],\n",
       "       [2.16666667, 2.33333333]])"
      ]
     },
     "execution_count": 20,
     "metadata": {},
     "output_type": "execute_result"
    }
   ],
   "source": [
    "#Question - 97\n",
    "\n",
    "np.cov([0,1,3],[2,4,5])"
   ]
  },
  {
   "cell_type": "code",
   "execution_count": 22,
   "metadata": {},
   "outputs": [
    {
     "data": {
      "text/plain": [
       "array([[1.        , 0.92857143],\n",
       "       [0.92857143, 1.        ]])"
      ]
     },
     "execution_count": 22,
     "metadata": {},
     "output_type": "execute_result"
    }
   ],
   "source": [
    "#Question - 98\n",
    "\n",
    "np.corrcoef([0,1,3],[2,4,5])"
   ]
  },
  {
   "cell_type": "code",
   "execution_count": 27,
   "metadata": {},
   "outputs": [
    {
     "data": {
      "text/plain": [
       "array([1, 3, 2, 0, 1, 0, 1, 1], dtype=int64)"
      ]
     },
     "execution_count": 27,
     "metadata": {},
     "output_type": "execute_result"
    }
   ],
   "source": [
    "#Question - 99\n",
    "\n",
    "A = [0,1,6,1,4,1,2,2,7]\n",
    "np.bincount(A)"
   ]
  },
  {
   "cell_type": "code",
   "execution_count": 28,
   "metadata": {},
   "outputs": [
    {
     "data": {
      "text/plain": [
       "(array([2., 3., 1.]), array([0, 1, 2, 3]), <a list of 3 Patch objects>)"
      ]
     },
     "execution_count": 28,
     "metadata": {},
     "output_type": "execute_result"
    },
    {
     "data": {
      "image/png": "[encoded data removed]",
      "text/plain": [
       "<Figure size 432x288 with 1 Axes>"
      ]
     },
     "metadata": {
      "needs_background": "light"
     },
     "output_type": "display_data"
    }
   ],
   "source": [
    "#Question - 100\n",
    "\n",
    "plt.hist([0.5,0.7,1,1.2,1.3,2.1],[0,1,2,3])"
   ]
  },
  {
   "cell_type": "code",
   "execution_count": 29,
   "metadata": {},
   "outputs": [
    {
     "name": "stdout",
     "output_type": "stream",
     "text": [
      "0     3\n",
      "1     7\n",
      "2    11\n",
      "3    15\n",
      "4    19\n",
      "dtype: int64\n",
      "0    1\n",
      "1    1\n",
      "2    1\n",
      "3    1\n",
      "4    1\n",
      "dtype: int64\n",
      "0     2\n",
      "1    12\n",
      "2    30\n",
      "3    56\n",
      "4    90\n",
      "dtype: int64\n",
      "0    2.000000\n",
      "1    1.333333\n",
      "2    1.200000\n",
      "3    1.142857\n",
      "4    1.111111\n",
      "dtype: float64\n"
     ]
    }
   ],
   "source": [
    "#Question - 101\n",
    "\n",
    "A = pd.Series([2,4,6,8,10])\n",
    "B = pd.Series([1,3,5,7,9])\n",
    "print(A+B)\n",
    "print(A-B)\n",
    "print(A*B)\n",
    "print(A/B)"
   ]
  },
  {
   "cell_type": "code",
   "execution_count": 30,
   "metadata": {},
   "outputs": [
    {
     "data": {
      "text/plain": [
       "a    100\n",
       "b    200\n",
       "c    300\n",
       "d    400\n",
       "e    800\n",
       "dtype: int64"
      ]
     },
     "execution_count": 30,
     "metadata": {},
     "output_type": "execute_result"
    }
   ],
   "source": [
    "#Question - 102\n",
    "\n",
    "d = {'a': 100, 'b': 200, 'c': 300, 'd': 400, 'e': 800}\n",
    "pd.Series(d)"
   ]
  },
  {
   "cell_type": "code",
   "execution_count": 42,
   "metadata": {},
   "outputs": [
    {
     "data": {
      "text/plain": [
       "0    100.00\n",
       "1    200.00\n",
       "2       NaN\n",
       "3    300.12\n",
       "4    400.00\n",
       "dtype: float64"
      ]
     },
     "execution_count": 42,
     "metadata": {},
     "output_type": "execute_result"
    }
   ],
   "source": [
    "#Question - 103\n",
    "\n",
    "A = pd.Series([100,200,'python',300.12,400])\n",
    "pd.to_numeric(A,errors='coerce')"
   ]
  },
  {
   "cell_type": "code",
   "execution_count": 9,
   "metadata": {},
   "outputs": [
    {
     "name": "stdout",
     "output_type": "stream",
     "text": [
      "   col1  col2  col3\n",
      "0     1     4     7\n",
      "1     2     5     5\n",
      "2     3     6     8\n",
      "3     4     9    12\n",
      "4     7     5     1\n",
      "5    11     0    11\n",
      "0     1\n",
      "1     2\n",
      "2     3\n",
      "3     4\n",
      "4     7\n",
      "5    11\n",
      "Name: col1, dtype: int64\n"
     ]
    }
   ],
   "source": [
    "#Question - 104\n",
    "\n",
    "df = pd.DataFrame({'col1':[1,2,3,4,7,11],'col2':[4,5,6,9,5,0],'col3':[7,5,8,12,1,11]})\n",
    "print(df)\n",
    "print(df['col1'])"
   ]
  },
  {
   "cell_type": "code",
   "execution_count": 13,
   "metadata": {},
   "outputs": [
    {
     "name": "stdout",
     "output_type": "stream",
     "text": [
      "4.818181818181818\n",
      "2.522624895547565\n"
     ]
    }
   ],
   "source": [
    "#Question - 105\n",
    "\n",
    "A = pd.Series([1,2,3,4,5,6,7,8,9,5,3])\n",
    "print(A.mean())\n",
    "print(A.std())"
   ]
  },
  {
   "cell_type": "code",
   "execution_count": 16,
   "metadata": {},
   "outputs": [
    {
     "name": "stdout",
     "output_type": "stream",
     "text": [
      "    X   Y   Z\n",
      "0  78  84  86\n",
      "1  85  94  97\n",
      "2  96  89  96\n",
      "3  80  83  72\n",
      "4  86  86  83\n"
     ]
    }
   ],
   "source": [
    "#Question - 106\n",
    "\n",
    "df = pd.DataFrame({'X':[78,85,96,80,86],'Y':[84,94,89,83,86],'Z':[86,97,96,72,83]})\n",
    "print(df)"
   ]
  },
  {
   "cell_type": "code",
   "execution_count": 31,
   "metadata": {},
   "outputs": [
    {
     "name": "stdout",
     "output_type": "stream",
     "text": [
      "             name  score  attempts qualify\n",
      "labels                                    \n",
      "a       Anastasia   12.5         1     yes\n",
      "b            Dima    9.0         3      no\n",
      "c       Katherine   16.5         2     yes\n",
      "d           James    NaN         3      no\n",
      "e           Emily    9.0         2     no \n",
      "f         Michael   20.0         3    yes \n",
      "g         Matthew   14.5         1     yes\n",
      "h           Laura    NaN         1      no\n",
      "i           Kevin    8.0         2      no\n",
      "j           Jonas   19.0         1     yes\n",
      "             name  score  attempts qualify\n",
      "labels                                    \n",
      "a       Anastasia   12.5         1     yes\n",
      "b            Dima    9.0         3      no\n",
      "c       Katherine   16.5         2     yes\n"
     ]
    }
   ],
   "source": [
    "#Question - 107\n",
    "\n",
    "df = pd.DataFrame({'name':['Anastasia', 'Dima', 'Katherine', 'James', 'Emily', 'Michael', 'Matthew', 'Laura', 'Kevin', 'Jonas'],'score': [12.5, 9, 16.5, np.nan, 9, 20, 14.5, np.nan, 8, 19],'attempts': [1, 3, 2, 3, 2, 3, 1, 1, 2, 1], 'qualify':[ 'yes', 'no', 'yes' , 'no', ' no ', ' yes ', 'yes', 'no',  'no',  'yes' ] } )\n",
    "df['labels'] = ['a', 'b', 'c', 'd', 'e', 'f', 'g', 'h', 'i', 'j' ]\n",
    "df.set_index('labels',inplace=True)\n",
    "print(df)\n",
    "print(df.iloc[:3])"
   ]
  },
  {
   "cell_type": "code",
   "execution_count": 61,
   "metadata": {},
   "outputs": [
    {
     "name": "stdout",
     "output_type": "stream",
     "text": [
      "            name   score  attempts qualify\n",
      "labels                                    \n",
      "a       Anastasia   12.5         1     yes\n",
      "b            Dima    9.0         3      no\n",
      "c       Katherine   16.5         2     yes\n",
      "d           James    NaN         3      no\n",
      "e           Emily    9.0         2      no\n",
      "f         Michael   20.0         3     yes\n",
      "g         Matthew   14.5         1     yes\n",
      "h           Laura    NaN         1      no\n",
      "i           Kevin    8.0         2      no\n",
      "j           Jonas   19.0         1     yes\n",
      "          name   score\n",
      "labels                \n",
      "b          Dima    9.0\n",
      "d         James    NaN\n",
      "f       Michael   20.0\n",
      "g       Matthew   14.5\n"
     ]
    }
   ],
   "source": [
    "#Question - 108\n",
    "\n",
    "df = pd.DataFrame({'name ': [ 'Anastasia', 'Dima', 'Katherine', 'James', 'Emily', 'Michael', 'Matthew', 'Laura', 'Kevin', 'Jonas'], 'score': [12.5, 9, 16.5, np.nan, 9, 20, 14.5,  np.nan, 8, 19], 'attempts': [1, 3, 2, 3, 2, 3, 1, 1, 2, 1], 'qualify': ['yes', 'no', 'yes', 'no', 'no', 'yes', 'yes', 'no', 'no', 'yes'] } )\n",
    "df['labels'] = ['a', 'b', 'c', 'd', 'e', 'f', 'g', 'h', 'i', 'j' ]\n",
    "df.set_index('labels',inplace=True)\n",
    "print(df)\n",
    "print(df.iloc[[1,3,5,6],[0,1]])"
   ]
  },
  {
   "cell_type": "code",
   "execution_count": 63,
   "metadata": {},
   "outputs": [
    {
     "data": {
      "text/plain": [
       "13.5625"
      ]
     },
     "execution_count": 63,
     "metadata": {},
     "output_type": "execute_result"
    }
   ],
   "source": [
    "#Question - 109\n",
    "\n",
    "df = pd.DataFrame({'name ': [ 'Anastasia', 'Dima', 'Katherine', 'James', 'Emily', 'Michael', 'Matthew', 'Laura', 'Kevin', 'Jonas'], 'score': [12.5, 9, 16.5, np.nan, 9, 20, 14.5,  np.nan, 8, 19], 'attempts': [1, 3, 2, 3, 2, 3, 1, 1, 2, 1], 'qualify': ['yes', 'no', 'yes', 'no', 'no', 'yes', 'yes', 'no', 'no', 'yes'] } )\n",
    "df['labels'] = ['a', 'b', 'c', 'd', 'e', 'f', 'g', 'h', 'i', 'j' ]\n",
    "df.set_index('labels',inplace=True)\n",
    "df['score'].mean()"
   ]
  },
  {
   "cell_type": "code",
   "execution_count": 65,
   "metadata": {},
   "outputs": [
    {
     "name": "stdout",
     "output_type": "stream",
     "text": [
      "   col1  col2  col3\n",
      "0     1     4     7\n",
      "1     2     5     8\n",
      "2     3     6     9\n",
      "   column1  column2  column3\n",
      "0        1        4        7\n",
      "1        2        5        8\n",
      "2        3        6        9\n"
     ]
    }
   ],
   "source": [
    "#Question - 110\n",
    "\n",
    "df = pd.DataFrame({'col1':[1,2,3],'col2':[4,5,6],'col3':[7,8,9]})\n",
    "print(df)\n",
    "df.columns = ['Column1','Column2','Column3']\n",
    "print(df)"
   ]
  },
  {
   "cell_type": "code",
   "execution_count": 67,
   "metadata": {},
   "outputs": [
    {
     "name": "stdout",
     "output_type": "stream",
     "text": [
      "          city  Number of people\n",
      "0   California                 4\n",
      "1      Georgia                 2\n",
      "2  Los Angeles                 4\n"
     ]
    }
   ],
   "source": [
    "#Question - 111\n",
    "\n",
    "df = pd.DataFrame({'city':['California','Georgia','Los Angeles'],'Number of people':[4,2,4]})\n",
    "print(df)"
   ]
  },
  {
   "cell_type": "code",
   "execution_count": 68,
   "metadata": {},
   "outputs": [
    {
     "name": "stdout",
     "output_type": "stream",
     "text": [
      "   col1  col2  col3\n",
      "0     1     4     7\n",
      "1     4     5     8\n",
      "2     3     6     9\n",
      "3     4     7     0\n",
      "4     5     8     1\n"
     ]
    }
   ],
   "source": [
    "#Question - 112\n",
    "\n",
    "df = pd.DataFrame({'col1':[1,4,3,4,5],'col2':[4,5,6,7,8],'col3':[7,8,9,0,1]})\n",
    "print(df)"
   ]
  },
  {
   "cell_type": "code",
   "execution_count": 71,
   "metadata": {},
   "outputs": [
    {
     "name": "stdout",
     "output_type": "stream",
     "text": [
      "0    3/11/2000\n",
      "1    3/12/2000\n",
      "2    3/13/2000\n",
      "dtype: object\n",
      "           0\n",
      "0 2000-03-11\n",
      "1 2000-03-12\n",
      "2 2000-03-13\n"
     ]
    }
   ],
   "source": [
    "#Question - 113\n",
    "\n",
    "s = pd.Series(['3/11/2000', '3/12/2000', '3/13/2000'])\n",
    "print(s)\n",
    "r = pd.to_datetime(pd.Series(s))\n",
    "df = pd.DataFrame(r)\n",
    "print(df)"
   ]
  },
  {
   "cell_type": "code",
   "execution_count": 3,
   "metadata": {},
   "outputs": [
    {
     "data": {
      "text/html": [
       "<div>\n",
       "<style scoped>\n",
       "    .dataframe tbody tr th:only-of-type {\n",
       "        vertical-align: middle;\n",
       "    }\n",
       "\n",
       "    .dataframe tbody tr th {\n",
       "        vertical-align: top;\n",
       "    }\n",
       "\n",
       "    .dataframe thead th {\n",
       "        text-align: right;\n",
       "    }\n",
       "</style>\n",
       "<table border=\"1\" class=\"dataframe\">\n",
       "  <thead>\n",
       "    <tr style=\"text-align: right;\">\n",
       "      <th></th>\n",
       "      <th>col1</th>\n",
       "      <th>col2</th>\n",
       "    </tr>\n",
       "  </thead>\n",
       "  <tbody>\n",
       "    <tr>\n",
       "      <th>0</th>\n",
       "      <td>0</td>\n",
       "      <td>0</td>\n",
       "    </tr>\n",
       "    <tr>\n",
       "      <th>1</th>\n",
       "      <td>1</td>\n",
       "      <td>1</td>\n",
       "    </tr>\n",
       "    <tr>\n",
       "      <th>2</th>\n",
       "      <td>2</td>\n",
       "      <td>2</td>\n",
       "    </tr>\n",
       "  </tbody>\n",
       "</table>\n",
       "</div>"
      ],
      "text/plain": [
       "   col1  col2\n",
       "0     0     0\n",
       "1     1     1\n",
       "2     2     2"
      ]
     },
     "execution_count": 3,
     "metadata": {},
     "output_type": "execute_result"
    }
   ],
   "source": [
    "#Question - 114\n",
    "\n",
    "data = pd.DataFrame({'col1':range(3),'col2':range(3)})\n",
    "df = pd.DataFrame()\n",
    "df = df.append(data)\n",
    "df"
   ]
  },
  {
   "cell_type": "code",
   "execution_count": 11,
   "metadata": {},
   "outputs": [
    {
     "name": "stdout",
     "output_type": "stream",
     "text": [
      "   col1  col2  col3\n",
      "0     1     4     7\n",
      "1     2     5     8\n",
      "2     3     6    12\n",
      "3     4     9     1\n",
      "4     7     5    11\n"
     ]
    },
    {
     "data": {
      "text/plain": [
       "3"
      ]
     },
     "execution_count": 11,
     "metadata": {},
     "output_type": "execute_result"
    }
   ],
   "source": [
    "#Question - 115\n",
    "\n",
    "df = pd.DataFrame({'col1':[1,2,3,4,7],'col2':[4,5,6,9,5],'col3':[7,8,12,1,11]})\n",
    "print(df)\n",
    "len(df.columns)"
   ]
  },
  {
   "cell_type": "code",
   "execution_count": 17,
   "metadata": {},
   "outputs": [
    {
     "name": "stdout",
     "output_type": "stream",
     "text": [
      "   col1  col2  col3\n",
      "0     1     4     7\n",
      "1     2     5     5\n",
      "2     3     6     8\n"
     ]
    }
   ],
   "source": [
    "#Question - 116\n",
    "\n",
    "df = pd.DataFrame({'col1':[1,2,3,4,5,11],'col2':[4,5,6,9,5,0],'col3':[7,5,8,12,1,11]})\n",
    "print(df.drop(axis=0,index=[5,4,3]))"
   ]
  },
  {
   "cell_type": "code",
   "execution_count": null,
   "metadata": {},
   "outputs": [],
   "source": []
  },
  {
   "cell_type": "code",
   "execution_count": 9,
   "metadata": {},
   "outputs": [
    {
     "name": "stdout",
     "output_type": "stream",
     "text": [
      "   Year  MSHA ID                       Mine_Name  Production  Labor_Hours\n",
      "0  2013   103381            Tacoa Highwall Miner       56004        22392\n",
      "1  2013   103404                Reid School Mine       28807        28447\n",
      "2  2013   100759  North River #1 Underground Min     1440115       474784\n",
      "3  2013   103246                      Bear Creek       87587        29193\n",
      "4  2013   103451                     Knight Mine      147499        46393\n"
     ]
    }
   ],
   "source": [
    "#Question - 117\n",
    "\n",
    "df = pd.read_excel('coalpublic2013.xlsx')\n",
    "print(df.head())"
   ]
  },
  {
   "cell_type": "code",
   "execution_count": null,
   "metadata": {},
   "outputs": [],
   "source": []
  },
  {
   "cell_type": "code",
   "execution_count": 52,
   "metadata": {},
   "outputs": [
    {
     "name": "stdout",
     "output_type": "stream",
     "text": [
      "    Year  MSHA ID      Mine_Name  Production  Labor_Hours\n",
      "13  2013   103332  Powhatan Mine      140521        61394\n",
      "    Year  MSHA ID                      Mine_Name  Production  Labor_Hours\n",
      "18  2013   102976  Piney Woods Preparation Plant           0        14828\n",
      "    Year  MSHA ID                      Mine_Name  Production  Labor_Hours\n",
      "19  2013   102976  Piney Woods Preparation Plant           0        23193\n",
      "    Year  MSHA ID       Mine_Name  Production  Labor_Hours\n",
      "46  2013   103321  Poplar Springs      189370        76366\n"
     ]
    }
   ],
   "source": [
    "#Question - 118\n",
    "\n",
    "for name in range(0,len(df['Mine_Name'])):\n",
    "    if df['Mine_Name'][name][0] == 'P':\n",
    "        print(df.iloc[[name]])"
   ]
  },
  {
   "cell_type": "code",
   "execution_count": 61,
   "metadata": {},
   "outputs": [
    {
     "data": {
      "text/html": [
       "<div>\n",
       "<style scoped>\n",
       "    .dataframe tbody tr th:only-of-type {\n",
       "        vertical-align: middle;\n",
       "    }\n",
       "\n",
       "    .dataframe tbody tr th {\n",
       "        vertical-align: top;\n",
       "    }\n",
       "\n",
       "    .dataframe thead th {\n",
       "        text-align: right;\n",
       "    }\n",
       "</style>\n",
       "<table border=\"1\" class=\"dataframe\">\n",
       "  <thead>\n",
       "    <tr style=\"text-align: right;\">\n",
       "      <th></th>\n",
       "      <th>emp_id</th>\n",
       "      <th>first_name</th>\n",
       "      <th>last_name</th>\n",
       "      <th>hire_date</th>\n",
       "    </tr>\n",
       "  </thead>\n",
       "  <tbody>\n",
       "    <tr>\n",
       "      <th>4</th>\n",
       "      <td>104</td>\n",
       "      <td>Bruce</td>\n",
       "      <td>Ernst</td>\n",
       "      <td>2007-05-21</td>\n",
       "    </tr>\n",
       "    <tr>\n",
       "      <th>7</th>\n",
       "      <td>107</td>\n",
       "      <td>Diana</td>\n",
       "      <td>Lorentz</td>\n",
       "      <td>2007-02-07</td>\n",
       "    </tr>\n",
       "    <tr>\n",
       "      <th>13</th>\n",
       "      <td>113</td>\n",
       "      <td>Luis</td>\n",
       "      <td>Popp</td>\n",
       "      <td>2007-12-07</td>\n",
       "    </tr>\n",
       "    <tr>\n",
       "      <th>19</th>\n",
       "      <td>119</td>\n",
       "      <td>Karen</td>\n",
       "      <td>Colmenares</td>\n",
       "      <td>2007-08-10</td>\n",
       "    </tr>\n",
       "  </tbody>\n",
       "</table>\n",
       "</div>"
      ],
      "text/plain": [
       "    emp_id first_name   last_name  hire_date\n",
       "4      104      Bruce       Ernst 2007-05-21\n",
       "7      107      Diana     Lorentz 2007-02-07\n",
       "13     113       Luis        Popp 2007-12-07\n",
       "19     119      Karen  Colmenares 2007-08-10"
      ]
     },
     "execution_count": 61,
     "metadata": {},
     "output_type": "execute_result"
    }
   ],
   "source": [
    "#Question - 119\n",
    "\n",
    "df1 = pd.read_excel('employee.xlsx')\n",
    "df1[df1['hire_date']>='20070101']"
   ]
  },
  {
   "cell_type": "code",
   "execution_count": 87,
   "metadata": {},
   "outputs": [
    {
     "data": {
      "text/html": [
       "<div>\n",
       "<style scoped>\n",
       "    .dataframe tbody tr th:only-of-type {\n",
       "        vertical-align: middle;\n",
       "    }\n",
       "\n",
       "    .dataframe tbody tr th {\n",
       "        vertical-align: top;\n",
       "    }\n",
       "\n",
       "    .dataframe thead th {\n",
       "        text-align: right;\n",
       "    }\n",
       "</style>\n",
       "<table border=\"1\" class=\"dataframe\">\n",
       "  <thead>\n",
       "    <tr style=\"text-align: right;\">\n",
       "      <th></th>\n",
       "      <th>emp_id</th>\n",
       "      <th>first_name</th>\n",
       "      <th>last_name</th>\n",
       "    </tr>\n",
       "    <tr>\n",
       "      <th>hire_date</th>\n",
       "      <th></th>\n",
       "      <th></th>\n",
       "      <th></th>\n",
       "    </tr>\n",
       "  </thead>\n",
       "  <tbody>\n",
       "    <tr>\n",
       "      <th>2005-09-21</th>\n",
       "      <td>101</td>\n",
       "      <td>Neena</td>\n",
       "      <td>Kochhar</td>\n",
       "    </tr>\n",
       "    <tr>\n",
       "      <th>2005-06-25</th>\n",
       "      <td>105</td>\n",
       "      <td>David</td>\n",
       "      <td>Austin</td>\n",
       "    </tr>\n",
       "    <tr>\n",
       "      <th>2005-09-28</th>\n",
       "      <td>110</td>\n",
       "      <td>John</td>\n",
       "      <td>Chen</td>\n",
       "    </tr>\n",
       "    <tr>\n",
       "      <th>2005-09-30</th>\n",
       "      <td>111</td>\n",
       "      <td>Ismael</td>\n",
       "      <td>Sciarra</td>\n",
       "    </tr>\n",
       "    <tr>\n",
       "      <th>2005-12-24</th>\n",
       "      <td>116</td>\n",
       "      <td>Shelli</td>\n",
       "      <td>Baida</td>\n",
       "    </tr>\n",
       "    <tr>\n",
       "      <th>2005-07-24</th>\n",
       "      <td>117</td>\n",
       "      <td>Sigal</td>\n",
       "      <td>Tobias</td>\n",
       "    </tr>\n",
       "  </tbody>\n",
       "</table>\n",
       "</div>"
      ],
      "text/plain": [
       "            emp_id first_name last_name\n",
       "hire_date                              \n",
       "2005-09-21     101      Neena   Kochhar\n",
       "2005-06-25     105      David    Austin\n",
       "2005-09-28     110       John      Chen\n",
       "2005-09-30     111     Ismael   Sciarra\n",
       "2005-12-24     116     Shelli     Baida\n",
       "2005-07-24     117      Sigal    Tobias"
      ]
     },
     "execution_count": 87,
     "metadata": {},
     "output_type": "execute_result"
    }
   ],
   "source": [
    "#Question - 120\n",
    "\n",
    "df1.set_index(['hire_date'])['2005']"
   ]
  },
  {
   "cell_type": "code",
   "execution_count": 88,
   "metadata": {},
   "outputs": [
    {
     "name": "stdout",
     "output_type": "stream",
     "text": [
      "   emp_id first_name last_name  hire_date\n",
      "0     100     Steven      King 2003-06-17\n",
      "1     101      Neena   Kochhar 2005-09-21\n",
      "2     102        Lex   De Haan 2001-01-13\n",
      "3     103  Alexander    Hunold 2006-01-03\n",
      "4     104      Bruce     Ernst 2007-05-21\n"
     ]
    }
   ],
   "source": [
    "#Question - 121\n",
    "\n",
    "df1 = pd.read_excel('employee.xlsx',sheet_name=0)\n",
    "df2 = pd.read_excel('employee.xlsx',sheet_name=1)\n",
    "df3 = pd.read_excel('employee.xlsx',sheet_name=2)\n",
    "df = pd.concat([df1, df2, df3])\n",
    "print(df.head())"
   ]
  },
  {
   "cell_type": "code",
   "execution_count": 15,
   "metadata": {},
   "outputs": [
    {
     "name": "stdout",
     "output_type": "stream",
     "text": [
      "   Unnamed: 0  emp_id first_name last_name  hire_date\n",
      "0           0     100     Steven      King 2003-06-17\n",
      "1           1     101      Neena   Kochhar 2005-09-21\n",
      "2           2     102        Lex   De Haan 2001-01-13\n",
      "3           3     103  Alexander    Hunold 2006-01-03\n",
      "4           4     104      Bruce     Ernst 2007-05-21\n"
     ]
    }
   ],
   "source": [
    "#Question - 122\n",
    "\n",
    "df1 = pd.read_excel('employee.xlsx',sheet_name=0)\n",
    "df2 = pd.read_excel('employee.xlsx',sheet_name=1)\n",
    "df3 = pd.read_excel('employee.xlsx',sheet_name=2)\n",
    "df = pd.concat([df1, df2, df3])\n",
    "df.to_excel('new.xlsx')\n",
    "print((pd.read_excel('new.xlsx')).head())"
   ]
  },
  {
   "cell_type": "code",
   "execution_count": null,
   "metadata": {},
   "outputs": [],
   "source": []
  },
  {
   "cell_type": "code",
   "execution_count": 29,
   "metadata": {},
   "outputs": [
    {
     "data": {
      "text/html": [
       "<div>\n",
       "<style scoped>\n",
       "    .dataframe tbody tr th:only-of-type {\n",
       "        vertical-align: middle;\n",
       "    }\n",
       "\n",
       "    .dataframe tbody tr th {\n",
       "        vertical-align: top;\n",
       "    }\n",
       "\n",
       "    .dataframe thead th {\n",
       "        text-align: right;\n",
       "    }\n",
       "</style>\n",
       "<table border=\"1\" class=\"dataframe\">\n",
       "  <thead>\n",
       "    <tr style=\"text-align: right;\">\n",
       "      <th></th>\n",
       "      <th></th>\n",
       "      <th></th>\n",
       "      <th>survived</th>\n",
       "    </tr>\n",
       "    <tr>\n",
       "      <th>sex</th>\n",
       "      <th>pclass</th>\n",
       "      <th>sibsp</th>\n",
       "      <th></th>\n",
       "    </tr>\n",
       "  </thead>\n",
       "  <tbody>\n",
       "    <tr>\n",
       "      <th rowspan=\"15\" valign=\"top\">female</th>\n",
       "      <th rowspan=\"4\" valign=\"top\">1</th>\n",
       "      <th>0</th>\n",
       "      <td>48</td>\n",
       "    </tr>\n",
       "    <tr>\n",
       "      <th>1</th>\n",
       "      <td>38</td>\n",
       "    </tr>\n",
       "    <tr>\n",
       "      <th>2</th>\n",
       "      <td>3</td>\n",
       "    </tr>\n",
       "    <tr>\n",
       "      <th>3</th>\n",
       "      <td>2</td>\n",
       "    </tr>\n",
       "    <tr>\n",
       "      <th rowspan=\"4\" valign=\"top\">2</th>\n",
       "      <th>0</th>\n",
       "      <td>41</td>\n",
       "    </tr>\n",
       "    <tr>\n",
       "      <th>1</th>\n",
       "      <td>25</td>\n",
       "    </tr>\n",
       "    <tr>\n",
       "      <th>2</th>\n",
       "      <td>3</td>\n",
       "    </tr>\n",
       "    <tr>\n",
       "      <th>3</th>\n",
       "      <td>1</td>\n",
       "    </tr>\n",
       "    <tr>\n",
       "      <th rowspan=\"7\" valign=\"top\">3</th>\n",
       "      <th>0</th>\n",
       "      <td>48</td>\n",
       "    </tr>\n",
       "    <tr>\n",
       "      <th>1</th>\n",
       "      <td>17</td>\n",
       "    </tr>\n",
       "    <tr>\n",
       "      <th>2</th>\n",
       "      <td>4</td>\n",
       "    </tr>\n",
       "    <tr>\n",
       "      <th>3</th>\n",
       "      <td>1</td>\n",
       "    </tr>\n",
       "    <tr>\n",
       "      <th>4</th>\n",
       "      <td>2</td>\n",
       "    </tr>\n",
       "    <tr>\n",
       "      <th>5</th>\n",
       "      <td>0</td>\n",
       "    </tr>\n",
       "    <tr>\n",
       "      <th>8</th>\n",
       "      <td>0</td>\n",
       "    </tr>\n",
       "    <tr>\n",
       "      <th rowspan=\"14\" valign=\"top\">male</th>\n",
       "      <th rowspan=\"4\" valign=\"top\">1</th>\n",
       "      <th>0</th>\n",
       "      <td>29</td>\n",
       "    </tr>\n",
       "    <tr>\n",
       "      <th>1</th>\n",
       "      <td>15</td>\n",
       "    </tr>\n",
       "    <tr>\n",
       "      <th>2</th>\n",
       "      <td>1</td>\n",
       "    </tr>\n",
       "    <tr>\n",
       "      <th>3</th>\n",
       "      <td>0</td>\n",
       "    </tr>\n",
       "    <tr>\n",
       "      <th rowspan=\"3\" valign=\"top\">2</th>\n",
       "      <th>0</th>\n",
       "      <td>9</td>\n",
       "    </tr>\n",
       "    <tr>\n",
       "      <th>1</th>\n",
       "      <td>7</td>\n",
       "    </tr>\n",
       "    <tr>\n",
       "      <th>2</th>\n",
       "      <td>1</td>\n",
       "    </tr>\n",
       "    <tr>\n",
       "      <th rowspan=\"7\" valign=\"top\">3</th>\n",
       "      <th>0</th>\n",
       "      <td>35</td>\n",
       "    </tr>\n",
       "    <tr>\n",
       "      <th>1</th>\n",
       "      <td>10</td>\n",
       "    </tr>\n",
       "    <tr>\n",
       "      <th>2</th>\n",
       "      <td>1</td>\n",
       "    </tr>\n",
       "    <tr>\n",
       "      <th>3</th>\n",
       "      <td>0</td>\n",
       "    </tr>\n",
       "    <tr>\n",
       "      <th>4</th>\n",
       "      <td>1</td>\n",
       "    </tr>\n",
       "    <tr>\n",
       "      <th>5</th>\n",
       "      <td>0</td>\n",
       "    </tr>\n",
       "    <tr>\n",
       "      <th>8</th>\n",
       "      <td>0</td>\n",
       "    </tr>\n",
       "  </tbody>\n",
       "</table>\n",
       "</div>"
      ],
      "text/plain": [
       "                     survived\n",
       "sex    pclass sibsp          \n",
       "female 1      0            48\n",
       "              1            38\n",
       "              2             3\n",
       "              3             2\n",
       "       2      0            41\n",
       "              1            25\n",
       "              2             3\n",
       "              3             1\n",
       "       3      0            48\n",
       "              1            17\n",
       "              2             4\n",
       "              3             1\n",
       "              4             2\n",
       "              5             0\n",
       "              8             0\n",
       "male   1      0            29\n",
       "              1            15\n",
       "              2             1\n",
       "              3             0\n",
       "       2      0             9\n",
       "              1             7\n",
       "              2             1\n",
       "       3      0            35\n",
       "              1            10\n",
       "              2             1\n",
       "              3             0\n",
       "              4             1\n",
       "              5             0\n",
       "              8             0"
      ]
     },
     "execution_count": 29,
     "metadata": {},
     "output_type": "execute_result"
    }
   ],
   "source": [
    "#Question - 123\n",
    "\n",
    "df = pd.read_csv('titanic.csv')\n",
    "table = pd.pivot_table(df,index=['sex','pclass','sibsp'],values='survived',aggfunc=np.sum)\n",
    "table"
   ]
  },
  {
   "cell_type": "code",
   "execution_count": 33,
   "metadata": {},
   "outputs": [
    {
     "data": {
      "text/html": [
       "<div>\n",
       "<style scoped>\n",
       "    .dataframe tbody tr th:only-of-type {\n",
       "        vertical-align: middle;\n",
       "    }\n",
       "\n",
       "    .dataframe tbody tr th {\n",
       "        vertical-align: top;\n",
       "    }\n",
       "\n",
       "    .dataframe thead th {\n",
       "        text-align: right;\n",
       "    }\n",
       "</style>\n",
       "<table border=\"1\" class=\"dataframe\">\n",
       "  <thead>\n",
       "    <tr style=\"text-align: right;\">\n",
       "      <th></th>\n",
       "      <th></th>\n",
       "      <th>survived</th>\n",
       "    </tr>\n",
       "    <tr>\n",
       "      <th>sex</th>\n",
       "      <th>pclass</th>\n",
       "      <th></th>\n",
       "    </tr>\n",
       "  </thead>\n",
       "  <tbody>\n",
       "    <tr>\n",
       "      <th rowspan=\"3\" valign=\"top\">female</th>\n",
       "      <th>1</th>\n",
       "      <td>91</td>\n",
       "    </tr>\n",
       "    <tr>\n",
       "      <th>2</th>\n",
       "      <td>70</td>\n",
       "    </tr>\n",
       "    <tr>\n",
       "      <th>3</th>\n",
       "      <td>72</td>\n",
       "    </tr>\n",
       "    <tr>\n",
       "      <th rowspan=\"3\" valign=\"top\">male</th>\n",
       "      <th>1</th>\n",
       "      <td>45</td>\n",
       "    </tr>\n",
       "    <tr>\n",
       "      <th>2</th>\n",
       "      <td>17</td>\n",
       "    </tr>\n",
       "    <tr>\n",
       "      <th>3</th>\n",
       "      <td>47</td>\n",
       "    </tr>\n",
       "  </tbody>\n",
       "</table>\n",
       "</div>"
      ],
      "text/plain": [
       "               survived\n",
       "sex    pclass          \n",
       "female 1             91\n",
       "       2             70\n",
       "       3             72\n",
       "male   1             45\n",
       "       2             17\n",
       "       3             47"
      ]
     },
     "execution_count": 33,
     "metadata": {},
     "output_type": "execute_result"
    }
   ],
   "source": [
    "#Question - 124\n",
    "\n",
    "df = pd.read_csv('titanic.csv')\n",
    "table = pd.pivot_table(df,index=['sex','pclass'],values='survived',aggfunc=np.sum)\n",
    "table"
   ]
  },
  {
   "cell_type": "code",
   "execution_count": 39,
   "metadata": {},
   "outputs": [
    {
     "name": "stdout",
     "output_type": "stream",
     "text": [
      "0      (10.0, 30.0]\n",
      "1      (30.0, 60.0]\n",
      "2      (10.0, 30.0]\n",
      "3      (30.0, 60.0]\n",
      "4      (30.0, 60.0]\n",
      "           ...     \n",
      "886    (10.0, 30.0]\n",
      "887    (10.0, 30.0]\n",
      "888             NaN\n",
      "889    (10.0, 30.0]\n",
      "890    (30.0, 60.0]\n",
      "Name: age, Length: 891, dtype: category\n",
      "Categories (4, interval[int64]): [(0, 10] < (10, 30] < (30, 60] < (60, 80]]\n"
     ]
    }
   ],
   "source": [
    "#Question - 125\n",
    "\n",
    "df = pd.read_csv('titanic.csv')\n",
    "result = pd.cut(df['age'],[0, 10, 30, 60, 80])\n",
    "print(result)"
   ]
  },
  {
   "cell_type": "code",
   "execution_count": 3,
   "metadata": {},
   "outputs": [
    {
     "name": "stdout",
     "output_type": "stream",
     "text": [
      "class               First    Second     Third\n",
      "sex    age                                   \n",
      "female (0, 20]   0.928571  1.000000  0.510638\n",
      "       (20, 55]  0.968750  0.912281  0.407407\n",
      "male   (0, 20]   0.571429  0.526316  0.197368\n",
      "       (20, 55]  0.440000  0.054054  0.134503\n"
     ]
    }
   ],
   "source": [
    "#Question - 126\n",
    "\n",
    "df = pd.read_csv('titanic.csv')\n",
    "age = pd.cut(df['age'], [0, 20, 55])\n",
    "result = df.pivot_table('survived', index=['sex', age], columns='class')\n",
    "print(result)"
   ]
  },
  {
   "cell_type": "code",
   "execution_count": 4,
   "metadata": {},
   "outputs": [
    {
     "name": "stdout",
     "output_type": "stream",
     "text": [
      "       Unnamed: 15       adult_male            age          alive  ... parch  \\\n",
      "pclass           1  2  3          1    2    3    1   2    3     1  ...     3   \n",
      "sex                                                                ...         \n",
      "female           0  0  0         94   76  144   85  74  102    94  ...   144   \n",
      "male             0  0  0        122  108  347  101  99  253   122  ...   347   \n",
      "\n",
      "       sibsp           survived            who            \n",
      "pclass     1    2    3        1    2    3    1    2    3  \n",
      "sex                                                       \n",
      "female    94   76  144       94   76  144   94   76  144  \n",
      "male     122  108  347      122  108  347  122  108  347  \n",
      "\n",
      "[2 rows x 42 columns]\n"
     ]
    }
   ],
   "source": [
    "#Question - 127\n",
    "result = df.pivot_table(index=['sex'], columns=['pclass'], aggfunc='count')\n",
    "print(result)"
   ]
  },
  {
   "cell_type": "code",
   "execution_count": 5,
   "metadata": {},
   "outputs": [
    {
     "name": "stdout",
     "output_type": "stream",
     "text": [
      "class            First    Second     Third\n",
      "sex    alone                              \n",
      "female False  0.966667  0.931818  0.416667\n",
      "       True   0.970588  0.906250  0.616667\n",
      "male   False  0.425532  0.277778  0.180723\n",
      "       True   0.333333  0.097222  0.121212\n"
     ]
    }
   ],
   "source": [
    "#Question - 128\n",
    "result = df.pivot_table( 'survived' , [ 'sex' , 'alone' ] , 'class' )\n",
    "print(result)"
   ]
  },
  {
   "cell_type": "code",
   "execution_count": 7,
   "metadata": {},
   "outputs": [
    {
     "data": {
      "text/html": [
       "<div>\n",
       "<style scoped>\n",
       "    .dataframe tbody tr th:only-of-type {\n",
       "        vertical-align: middle;\n",
       "    }\n",
       "\n",
       "    .dataframe tbody tr th {\n",
       "        vertical-align: top;\n",
       "    }\n",
       "\n",
       "    .dataframe thead tr th {\n",
       "        text-align: left;\n",
       "    }\n",
       "\n",
       "    .dataframe thead tr:last-of-type th {\n",
       "        text-align: right;\n",
       "    }\n",
       "</style>\n",
       "<table border=\"1\" class=\"dataframe\">\n",
       "  <thead>\n",
       "    <tr>\n",
       "      <th></th>\n",
       "      <th>embark_town</th>\n",
       "      <th colspan=\"3\" halign=\"left\">Cherbourg</th>\n",
       "      <th colspan=\"3\" halign=\"left\">Queenstown</th>\n",
       "      <th colspan=\"3\" halign=\"left\">Southampton</th>\n",
       "    </tr>\n",
       "    <tr>\n",
       "      <th></th>\n",
       "      <th>class</th>\n",
       "      <th>First</th>\n",
       "      <th>Second</th>\n",
       "      <th>Third</th>\n",
       "      <th>First</th>\n",
       "      <th>Second</th>\n",
       "      <th>Third</th>\n",
       "      <th>First</th>\n",
       "      <th>Second</th>\n",
       "      <th>Third</th>\n",
       "    </tr>\n",
       "    <tr>\n",
       "      <th>sex</th>\n",
       "      <th>alone</th>\n",
       "      <th></th>\n",
       "      <th></th>\n",
       "      <th></th>\n",
       "      <th></th>\n",
       "      <th></th>\n",
       "      <th></th>\n",
       "      <th></th>\n",
       "      <th></th>\n",
       "      <th></th>\n",
       "    </tr>\n",
       "  </thead>\n",
       "  <tbody>\n",
       "    <tr>\n",
       "      <th rowspan=\"2\" valign=\"top\">female</th>\n",
       "      <th>False</th>\n",
       "      <td>1.000000</td>\n",
       "      <td>1.000000</td>\n",
       "      <td>0.611111</td>\n",
       "      <td>1.0</td>\n",
       "      <td>NaN</td>\n",
       "      <td>0.625000</td>\n",
       "      <td>0.941176</td>\n",
       "      <td>0.923077</td>\n",
       "      <td>0.327586</td>\n",
       "    </tr>\n",
       "    <tr>\n",
       "      <th>True</th>\n",
       "      <td>0.944444</td>\n",
       "      <td>1.000000</td>\n",
       "      <td>0.800000</td>\n",
       "      <td>NaN</td>\n",
       "      <td>1.0</td>\n",
       "      <td>0.760000</td>\n",
       "      <td>1.000000</td>\n",
       "      <td>0.892857</td>\n",
       "      <td>0.466667</td>\n",
       "    </tr>\n",
       "    <tr>\n",
       "      <th rowspan=\"2\" valign=\"top\">male</th>\n",
       "      <th>False</th>\n",
       "      <td>0.473684</td>\n",
       "      <td>0.166667</td>\n",
       "      <td>0.500000</td>\n",
       "      <td>0.0</td>\n",
       "      <td>NaN</td>\n",
       "      <td>0.100000</td>\n",
       "      <td>0.407407</td>\n",
       "      <td>0.300000</td>\n",
       "      <td>0.142857</td>\n",
       "    </tr>\n",
       "    <tr>\n",
       "      <th>True</th>\n",
       "      <td>0.347826</td>\n",
       "      <td>0.250000</td>\n",
       "      <td>0.151515</td>\n",
       "      <td>NaN</td>\n",
       "      <td>0.0</td>\n",
       "      <td>0.068966</td>\n",
       "      <td>0.326923</td>\n",
       "      <td>0.089552</td>\n",
       "      <td>0.123762</td>\n",
       "    </tr>\n",
       "  </tbody>\n",
       "</table>\n",
       "</div>"
      ],
      "text/plain": [
       "embark_town  Cherbourg                     Queenstown                   \\\n",
       "class            First    Second     Third      First Second     Third   \n",
       "sex    alone                                                             \n",
       "female False  1.000000  1.000000  0.611111        1.0    NaN  0.625000   \n",
       "       True   0.944444  1.000000  0.800000        NaN    1.0  0.760000   \n",
       "male   False  0.473684  0.166667  0.500000        0.0    NaN  0.100000   \n",
       "       True   0.347826  0.250000  0.151515        NaN    0.0  0.068966   \n",
       "\n",
       "embark_town  Southampton                      \n",
       "class              First    Second     Third  \n",
       "sex    alone                                  \n",
       "female False    0.941176  0.923077  0.327586  \n",
       "       True     1.000000  0.892857  0.466667  \n",
       "male   False    0.407407  0.300000  0.142857  \n",
       "       True     0.326923  0.089552  0.123762  "
      ]
     },
     "execution_count": 7,
     "metadata": {},
     "output_type": "execute_result"
    }
   ],
   "source": [
    "#Question - 129\n",
    "result = df.pivot_table('survived', ['sex' , 'alone' ], [ 'embark_town', 'class' ])\n",
    "result"
   ]
  },
  {
   "cell_type": "code",
   "execution_count": 21,
   "metadata": {},
   "outputs": [
    {
     "data": {
      "text/html": [
       "<div>\n",
       "<style scoped>\n",
       "    .dataframe tbody tr th:only-of-type {\n",
       "        vertical-align: middle;\n",
       "    }\n",
       "\n",
       "    .dataframe tbody tr th {\n",
       "        vertical-align: top;\n",
       "    }\n",
       "\n",
       "    .dataframe thead th {\n",
       "        text-align: right;\n",
       "    }\n",
       "</style>\n",
       "<table border=\"1\" class=\"dataframe\">\n",
       "  <thead>\n",
       "    <tr style=\"text-align: right;\">\n",
       "      <th></th>\n",
       "      <th>Date_time</th>\n",
       "      <th>city</th>\n",
       "      <th>state/province</th>\n",
       "      <th>country</th>\n",
       "      <th>UFO_shape</th>\n",
       "      <th>length_of_encounter_seconds</th>\n",
       "      <th>described_duration_of_encounter</th>\n",
       "      <th>description</th>\n",
       "      <th>date_documented</th>\n",
       "      <th>latitude</th>\n",
       "      <th>longitude</th>\n",
       "    </tr>\n",
       "  </thead>\n",
       "  <tbody>\n",
       "    <tr>\n",
       "      <th>0</th>\n",
       "      <td>10/10/1949 20:30</td>\n",
       "      <td>san marcos</td>\n",
       "      <td>tx</td>\n",
       "      <td>us</td>\n",
       "      <td>cylinder</td>\n",
       "      <td>2700</td>\n",
       "      <td>45 minutes</td>\n",
       "      <td>This event took place in early fall around 194...</td>\n",
       "      <td>4/27/2004</td>\n",
       "      <td>29.8830556</td>\n",
       "      <td>-97.941111</td>\n",
       "    </tr>\n",
       "    <tr>\n",
       "      <th>1</th>\n",
       "      <td>10/10/1949 21:00</td>\n",
       "      <td>lackland afb</td>\n",
       "      <td>tx</td>\n",
       "      <td>NaN</td>\n",
       "      <td>light</td>\n",
       "      <td>7200</td>\n",
       "      <td>1-2 hrs</td>\n",
       "      <td>1949 Lackland AFB&amp;#44 TX.  Lights racing acros...</td>\n",
       "      <td>12/16/2005</td>\n",
       "      <td>29.38421</td>\n",
       "      <td>-98.581082</td>\n",
       "    </tr>\n",
       "    <tr>\n",
       "      <th>2</th>\n",
       "      <td>10/10/1955 17:00</td>\n",
       "      <td>chester (uk/england)</td>\n",
       "      <td>NaN</td>\n",
       "      <td>gb</td>\n",
       "      <td>circle</td>\n",
       "      <td>20</td>\n",
       "      <td>20 seconds</td>\n",
       "      <td>Green/Orange circular disc over Chester&amp;#44 En...</td>\n",
       "      <td>1/21/2008</td>\n",
       "      <td>53.2</td>\n",
       "      <td>-2.916667</td>\n",
       "    </tr>\n",
       "    <tr>\n",
       "      <th>3</th>\n",
       "      <td>10/10/1956 21:00</td>\n",
       "      <td>edna</td>\n",
       "      <td>tx</td>\n",
       "      <td>us</td>\n",
       "      <td>circle</td>\n",
       "      <td>20</td>\n",
       "      <td>1/2 hour</td>\n",
       "      <td>My older brother and twin sister were leaving ...</td>\n",
       "      <td>1/17/2004</td>\n",
       "      <td>28.9783333</td>\n",
       "      <td>-96.645833</td>\n",
       "    </tr>\n",
       "    <tr>\n",
       "      <th>4</th>\n",
       "      <td>10/10/1960 20:00</td>\n",
       "      <td>kaneohe</td>\n",
       "      <td>hi</td>\n",
       "      <td>us</td>\n",
       "      <td>light</td>\n",
       "      <td>900</td>\n",
       "      <td>15 minutes</td>\n",
       "      <td>AS a Marine 1st Lt. flying an FJ4B fighter/att...</td>\n",
       "      <td>1/22/2004</td>\n",
       "      <td>21.4180556</td>\n",
       "      <td>-157.803611</td>\n",
       "    </tr>\n",
       "  </tbody>\n",
       "</table>\n",
       "</div>"
      ],
      "text/plain": [
       "          Date_time                  city state/province country UFO_shape  \\\n",
       "0  10/10/1949 20:30            san marcos             tx      us  cylinder   \n",
       "1  10/10/1949 21:00          lackland afb             tx     NaN     light   \n",
       "2  10/10/1955 17:00  chester (uk/england)            NaN      gb    circle   \n",
       "3  10/10/1956 21:00                  edna             tx      us    circle   \n",
       "4  10/10/1960 20:00               kaneohe             hi      us     light   \n",
       "\n",
       "  length_of_encounter_seconds described_duration_of_encounter  \\\n",
       "0                        2700                      45 minutes   \n",
       "1                        7200                         1-2 hrs   \n",
       "2                          20                      20 seconds   \n",
       "3                          20                        1/2 hour   \n",
       "4                         900                      15 minutes   \n",
       "\n",
       "                                         description date_documented  \\\n",
       "0  This event took place in early fall around 194...       4/27/2004   \n",
       "1  1949 Lackland AFB&#44 TX.  Lights racing acros...      12/16/2005   \n",
       "2  Green/Orange circular disc over Chester&#44 En...       1/21/2008   \n",
       "3  My older brother and twin sister were leaving ...       1/17/2004   \n",
       "4  AS a Marine 1st Lt. flying an FJ4B fighter/att...       1/22/2004   \n",
       "\n",
       "     latitude   longitude  \n",
       "0  29.8830556  -97.941111  \n",
       "1    29.38421  -98.581082  \n",
       "2        53.2   -2.916667  \n",
       "3  28.9783333  -96.645833  \n",
       "4  21.4180556 -157.803611  "
      ]
     },
     "execution_count": 21,
     "metadata": {},
     "output_type": "execute_result"
    }
   ],
   "source": [
    "df = pd.read_csv(r'ufo_sighting_data.csv',error_bad_lines=False)\n",
    "df.head()"
   ]
  },
  {
   "cell_type": "code",
   "execution_count": 3,
   "metadata": {},
   "outputs": [
    {
     "data": {
      "text/plain": [
       "Date_time                           object\n",
       "city                                object\n",
       "state/province                      object\n",
       "country                             object\n",
       "UFO_shape                           object\n",
       "length_of_encounter_seconds         object\n",
       "described_duration_of_encounter     object\n",
       "description                         object\n",
       "date_documented                     object\n",
       "latitude                            object\n",
       "longitude                          float64\n",
       "dtype: object"
      ]
     },
     "execution_count": 3,
     "metadata": {},
     "output_type": "execute_result"
    }
   ],
   "source": [
    "df.dtypes"
   ]
  },
  {
   "cell_type": "code",
   "execution_count": 34,
   "metadata": {},
   "outputs": [],
   "source": [
    "df['Date_time'] = df['Date_time'].astype(str)"
   ]
  },
  {
   "cell_type": "code",
   "execution_count": 38,
   "metadata": {},
   "outputs": [
    {
     "data": {
      "text/plain": [
       "(80332, 11)"
      ]
     },
     "execution_count": 38,
     "metadata": {},
     "output_type": "execute_result"
    }
   ],
   "source": [
    "df.shape"
   ]
  },
  {
   "cell_type": "code",
   "execution_count": 44,
   "metadata": {},
   "outputs": [
    {
     "data": {
      "text/html": [
       "<div>\n",
       "<style scoped>\n",
       "    .dataframe tbody tr th:only-of-type {\n",
       "        vertical-align: middle;\n",
       "    }\n",
       "\n",
       "    .dataframe tbody tr th {\n",
       "        vertical-align: top;\n",
       "    }\n",
       "\n",
       "    .dataframe thead th {\n",
       "        text-align: right;\n",
       "    }\n",
       "</style>\n",
       "<table border=\"1\" class=\"dataframe\">\n",
       "  <thead>\n",
       "    <tr style=\"text-align: right;\">\n",
       "      <th></th>\n",
       "      <th>Date_time</th>\n",
       "      <th>city</th>\n",
       "      <th>state/province</th>\n",
       "      <th>country</th>\n",
       "      <th>UFO_shape</th>\n",
       "      <th>length_of_encounter_seconds</th>\n",
       "      <th>described_duration_of_encounter</th>\n",
       "      <th>description</th>\n",
       "      <th>date_documented</th>\n",
       "      <th>latitude</th>\n",
       "      <th>longitude</th>\n",
       "      <th>Date</th>\n",
       "      <th>Time</th>\n",
       "    </tr>\n",
       "  </thead>\n",
       "  <tbody>\n",
       "    <tr>\n",
       "      <th>0</th>\n",
       "      <td>10/10/1949 20:30</td>\n",
       "      <td>san marcos</td>\n",
       "      <td>tx</td>\n",
       "      <td>us</td>\n",
       "      <td>cylinder</td>\n",
       "      <td>2700</td>\n",
       "      <td>45 minutes</td>\n",
       "      <td>This event took place in early fall around 194...</td>\n",
       "      <td>4/27/2004</td>\n",
       "      <td>29.8830556</td>\n",
       "      <td>-97.941111</td>\n",
       "      <td>10/10/1949</td>\n",
       "      <td>20:30</td>\n",
       "    </tr>\n",
       "    <tr>\n",
       "      <th>1</th>\n",
       "      <td>10/10/1949 21:00</td>\n",
       "      <td>lackland afb</td>\n",
       "      <td>tx</td>\n",
       "      <td>NaN</td>\n",
       "      <td>light</td>\n",
       "      <td>7200</td>\n",
       "      <td>1-2 hrs</td>\n",
       "      <td>1949 Lackland AFB&amp;#44 TX.  Lights racing acros...</td>\n",
       "      <td>12/16/2005</td>\n",
       "      <td>29.38421</td>\n",
       "      <td>-98.581082</td>\n",
       "      <td>10/10/1949</td>\n",
       "      <td>21:00</td>\n",
       "    </tr>\n",
       "    <tr>\n",
       "      <th>2</th>\n",
       "      <td>10/10/1955 17:00</td>\n",
       "      <td>chester (uk/england)</td>\n",
       "      <td>NaN</td>\n",
       "      <td>gb</td>\n",
       "      <td>circle</td>\n",
       "      <td>20</td>\n",
       "      <td>20 seconds</td>\n",
       "      <td>Green/Orange circular disc over Chester&amp;#44 En...</td>\n",
       "      <td>1/21/2008</td>\n",
       "      <td>53.2</td>\n",
       "      <td>-2.916667</td>\n",
       "      <td>10/10/1955</td>\n",
       "      <td>17:00</td>\n",
       "    </tr>\n",
       "    <tr>\n",
       "      <th>3</th>\n",
       "      <td>10/10/1956 21:00</td>\n",
       "      <td>edna</td>\n",
       "      <td>tx</td>\n",
       "      <td>us</td>\n",
       "      <td>circle</td>\n",
       "      <td>20</td>\n",
       "      <td>1/2 hour</td>\n",
       "      <td>My older brother and twin sister were leaving ...</td>\n",
       "      <td>1/17/2004</td>\n",
       "      <td>28.9783333</td>\n",
       "      <td>-96.645833</td>\n",
       "      <td>10/10/1956</td>\n",
       "      <td>21:00</td>\n",
       "    </tr>\n",
       "    <tr>\n",
       "      <th>4</th>\n",
       "      <td>10/10/1960 20:00</td>\n",
       "      <td>kaneohe</td>\n",
       "      <td>hi</td>\n",
       "      <td>us</td>\n",
       "      <td>light</td>\n",
       "      <td>900</td>\n",
       "      <td>15 minutes</td>\n",
       "      <td>AS a Marine 1st Lt. flying an FJ4B fighter/att...</td>\n",
       "      <td>1/22/2004</td>\n",
       "      <td>21.4180556</td>\n",
       "      <td>-157.803611</td>\n",
       "      <td>10/10/1960</td>\n",
       "      <td>20:00</td>\n",
       "    </tr>\n",
       "    <tr>\n",
       "      <th>...</th>\n",
       "      <td>...</td>\n",
       "      <td>...</td>\n",
       "      <td>...</td>\n",
       "      <td>...</td>\n",
       "      <td>...</td>\n",
       "      <td>...</td>\n",
       "      <td>...</td>\n",
       "      <td>...</td>\n",
       "      <td>...</td>\n",
       "      <td>...</td>\n",
       "      <td>...</td>\n",
       "      <td>...</td>\n",
       "      <td>...</td>\n",
       "    </tr>\n",
       "    <tr>\n",
       "      <th>80327</th>\n",
       "      <td>9/9/2013 21:15</td>\n",
       "      <td>nashville</td>\n",
       "      <td>tn</td>\n",
       "      <td>us</td>\n",
       "      <td>light</td>\n",
       "      <td>600</td>\n",
       "      <td>10 minutes</td>\n",
       "      <td>Round from the distance/slowly changing colors...</td>\n",
       "      <td>9/30/2013</td>\n",
       "      <td>36.1658</td>\n",
       "      <td>-86.784444</td>\n",
       "      <td>9/9/2013</td>\n",
       "      <td>21:15</td>\n",
       "    </tr>\n",
       "    <tr>\n",
       "      <th>80328</th>\n",
       "      <td>9/9/2013 22:00</td>\n",
       "      <td>boise</td>\n",
       "      <td>id</td>\n",
       "      <td>us</td>\n",
       "      <td>circle</td>\n",
       "      <td>1200</td>\n",
       "      <td>20 minutes</td>\n",
       "      <td>Boise&amp;#44 ID&amp;#44 spherical&amp;#44 20 min&amp;#44 10 r...</td>\n",
       "      <td>9/30/2013</td>\n",
       "      <td>43.6136</td>\n",
       "      <td>-116.202500</td>\n",
       "      <td>9/9/2013</td>\n",
       "      <td>22:00</td>\n",
       "    </tr>\n",
       "    <tr>\n",
       "      <th>80329</th>\n",
       "      <td>9/9/2013 22:00</td>\n",
       "      <td>napa</td>\n",
       "      <td>ca</td>\n",
       "      <td>us</td>\n",
       "      <td>other</td>\n",
       "      <td>1200</td>\n",
       "      <td>hour</td>\n",
       "      <td>Napa UFO&amp;#44</td>\n",
       "      <td>9/30/2013</td>\n",
       "      <td>38.2972</td>\n",
       "      <td>-122.284444</td>\n",
       "      <td>9/9/2013</td>\n",
       "      <td>22:00</td>\n",
       "    </tr>\n",
       "    <tr>\n",
       "      <th>80330</th>\n",
       "      <td>9/9/2013 22:20</td>\n",
       "      <td>vienna</td>\n",
       "      <td>va</td>\n",
       "      <td>us</td>\n",
       "      <td>circle</td>\n",
       "      <td>5</td>\n",
       "      <td>5 seconds</td>\n",
       "      <td>Saw a five gold lit cicular craft moving fastl...</td>\n",
       "      <td>9/30/2013</td>\n",
       "      <td>38.9011</td>\n",
       "      <td>-77.265556</td>\n",
       "      <td>9/9/2013</td>\n",
       "      <td>22:20</td>\n",
       "    </tr>\n",
       "    <tr>\n",
       "      <th>80331</th>\n",
       "      <td>9/9/2013 23:00</td>\n",
       "      <td>edmond</td>\n",
       "      <td>ok</td>\n",
       "      <td>us</td>\n",
       "      <td>cigar</td>\n",
       "      <td>1020</td>\n",
       "      <td>17 minutes</td>\n",
       "      <td>2 witnesses 2  miles apart&amp;#44 Red &amp;amp; White...</td>\n",
       "      <td>9/30/2013</td>\n",
       "      <td>35.6528</td>\n",
       "      <td>-97.477778</td>\n",
       "      <td>9/9/2013</td>\n",
       "      <td>23:00</td>\n",
       "    </tr>\n",
       "  </tbody>\n",
       "</table>\n",
       "<p>80332 rows × 13 columns</p>\n",
       "</div>"
      ],
      "text/plain": [
       "              Date_time                  city state/province country  \\\n",
       "0      10/10/1949 20:30            san marcos             tx      us   \n",
       "1      10/10/1949 21:00          lackland afb             tx     NaN   \n",
       "2      10/10/1955 17:00  chester (uk/england)            NaN      gb   \n",
       "3      10/10/1956 21:00                  edna             tx      us   \n",
       "4      10/10/1960 20:00               kaneohe             hi      us   \n",
       "...                 ...                   ...            ...     ...   \n",
       "80327    9/9/2013 21:15             nashville             tn      us   \n",
       "80328    9/9/2013 22:00                 boise             id      us   \n",
       "80329    9/9/2013 22:00                  napa             ca      us   \n",
       "80330    9/9/2013 22:20                vienna             va      us   \n",
       "80331    9/9/2013 23:00                edmond             ok      us   \n",
       "\n",
       "      UFO_shape length_of_encounter_seconds described_duration_of_encounter  \\\n",
       "0      cylinder                        2700                      45 minutes   \n",
       "1         light                        7200                         1-2 hrs   \n",
       "2        circle                          20                      20 seconds   \n",
       "3        circle                          20                        1/2 hour   \n",
       "4         light                         900                      15 minutes   \n",
       "...         ...                         ...                             ...   \n",
       "80327     light                         600                      10 minutes   \n",
       "80328    circle                        1200                      20 minutes   \n",
       "80329     other                        1200                            hour   \n",
       "80330    circle                           5                       5 seconds   \n",
       "80331     cigar                        1020                      17 minutes   \n",
       "\n",
       "                                             description date_documented  \\\n",
       "0      This event took place in early fall around 194...       4/27/2004   \n",
       "1      1949 Lackland AFB&#44 TX.  Lights racing acros...      12/16/2005   \n",
       "2      Green/Orange circular disc over Chester&#44 En...       1/21/2008   \n",
       "3      My older brother and twin sister were leaving ...       1/17/2004   \n",
       "4      AS a Marine 1st Lt. flying an FJ4B fighter/att...       1/22/2004   \n",
       "...                                                  ...             ...   \n",
       "80327  Round from the distance/slowly changing colors...       9/30/2013   \n",
       "80328  Boise&#44 ID&#44 spherical&#44 20 min&#44 10 r...       9/30/2013   \n",
       "80329                                       Napa UFO&#44       9/30/2013   \n",
       "80330  Saw a five gold lit cicular craft moving fastl...       9/30/2013   \n",
       "80331  2 witnesses 2  miles apart&#44 Red &amp; White...       9/30/2013   \n",
       "\n",
       "         latitude   longitude        Date   Time  \n",
       "0      29.8830556  -97.941111  10/10/1949  20:30  \n",
       "1        29.38421  -98.581082  10/10/1949  21:00  \n",
       "2            53.2   -2.916667  10/10/1955  17:00  \n",
       "3      28.9783333  -96.645833  10/10/1956  21:00  \n",
       "4      21.4180556 -157.803611  10/10/1960  20:00  \n",
       "...           ...         ...         ...    ...  \n",
       "80327     36.1658  -86.784444    9/9/2013  21:15  \n",
       "80328     43.6136 -116.202500    9/9/2013  22:00  \n",
       "80329     38.2972 -122.284444    9/9/2013  22:00  \n",
       "80330     38.9011  -77.265556    9/9/2013  22:20  \n",
       "80331     35.6528  -97.477778    9/9/2013  23:00  \n",
       "\n",
       "[80332 rows x 13 columns]"
      ]
     },
     "execution_count": 44,
     "metadata": {},
     "output_type": "execute_result"
    }
   ],
   "source": [
    "df[['Date','Time']] = df.Date_time.str.split(\" \",expand=True,)\n",
    "df"
   ]
  },
  {
   "cell_type": "code",
   "execution_count": 45,
   "metadata": {},
   "outputs": [],
   "source": [
    "df = df.drop(columns = 'Date_time')"
   ]
  },
  {
   "cell_type": "code",
   "execution_count": 47,
   "metadata": {},
   "outputs": [],
   "source": [
    "df = df[df.Time != '24:00']"
   ]
  },
  {
   "cell_type": "code",
   "execution_count": 49,
   "metadata": {},
   "outputs": [
    {
     "data": {
      "text/plain": [
       "(80158, 12)"
      ]
     },
     "execution_count": 49,
     "metadata": {},
     "output_type": "execute_result"
    }
   ],
   "source": [
    "df.shape"
   ]
  },
  {
   "cell_type": "code",
   "execution_count": 54,
   "metadata": {},
   "outputs": [
    {
     "name": "stderr",
     "output_type": "stream",
     "text": [
      "c:\\users\\win10\\appdata\\local\\programs\\python\\python37\\lib\\site-packages\\ipykernel_launcher.py:1: SettingWithCopyWarning: \n",
      "A value is trying to be set on a copy of a slice from a DataFrame.\n",
      "Try using .loc[row_indexer,col_indexer] = value instead\n",
      "\n",
      "See the caveats in the documentation: http://pandas.pydata.org/pandas-docs/stable/user_guide/indexing.html#returning-a-view-versus-a-copy\n",
      "  \"\"\"Entry point for launching an IPython kernel.\n"
     ]
    }
   ],
   "source": [
    "df['Date_time'] = df['Date'] + ' ' + df['Time']"
   ]
  },
  {
   "cell_type": "code",
   "execution_count": 55,
   "metadata": {},
   "outputs": [
    {
     "data": {
      "text/html": [
       "<div>\n",
       "<style scoped>\n",
       "    .dataframe tbody tr th:only-of-type {\n",
       "        vertical-align: middle;\n",
       "    }\n",
       "\n",
       "    .dataframe tbody tr th {\n",
       "        vertical-align: top;\n",
       "    }\n",
       "\n",
       "    .dataframe thead th {\n",
       "        text-align: right;\n",
       "    }\n",
       "</style>\n",
       "<table border=\"1\" class=\"dataframe\">\n",
       "  <thead>\n",
       "    <tr style=\"text-align: right;\">\n",
       "      <th></th>\n",
       "      <th>city</th>\n",
       "      <th>state/province</th>\n",
       "      <th>country</th>\n",
       "      <th>UFO_shape</th>\n",
       "      <th>length_of_encounter_seconds</th>\n",
       "      <th>described_duration_of_encounter</th>\n",
       "      <th>description</th>\n",
       "      <th>date_documented</th>\n",
       "      <th>latitude</th>\n",
       "      <th>longitude</th>\n",
       "      <th>Date</th>\n",
       "      <th>Time</th>\n",
       "      <th>Date_time</th>\n",
       "    </tr>\n",
       "  </thead>\n",
       "  <tbody>\n",
       "    <tr>\n",
       "      <th>0</th>\n",
       "      <td>san marcos</td>\n",
       "      <td>tx</td>\n",
       "      <td>us</td>\n",
       "      <td>cylinder</td>\n",
       "      <td>2700</td>\n",
       "      <td>45 minutes</td>\n",
       "      <td>This event took place in early fall around 194...</td>\n",
       "      <td>4/27/2004</td>\n",
       "      <td>29.8830556</td>\n",
       "      <td>-97.941111</td>\n",
       "      <td>10/10/1949</td>\n",
       "      <td>20:30</td>\n",
       "      <td>10/10/1949 20:30</td>\n",
       "    </tr>\n",
       "    <tr>\n",
       "      <th>1</th>\n",
       "      <td>lackland afb</td>\n",
       "      <td>tx</td>\n",
       "      <td>NaN</td>\n",
       "      <td>light</td>\n",
       "      <td>7200</td>\n",
       "      <td>1-2 hrs</td>\n",
       "      <td>1949 Lackland AFB&amp;#44 TX.  Lights racing acros...</td>\n",
       "      <td>12/16/2005</td>\n",
       "      <td>29.38421</td>\n",
       "      <td>-98.581082</td>\n",
       "      <td>10/10/1949</td>\n",
       "      <td>21:00</td>\n",
       "      <td>10/10/1949 21:00</td>\n",
       "    </tr>\n",
       "    <tr>\n",
       "      <th>2</th>\n",
       "      <td>chester (uk/england)</td>\n",
       "      <td>NaN</td>\n",
       "      <td>gb</td>\n",
       "      <td>circle</td>\n",
       "      <td>20</td>\n",
       "      <td>20 seconds</td>\n",
       "      <td>Green/Orange circular disc over Chester&amp;#44 En...</td>\n",
       "      <td>1/21/2008</td>\n",
       "      <td>53.2</td>\n",
       "      <td>-2.916667</td>\n",
       "      <td>10/10/1955</td>\n",
       "      <td>17:00</td>\n",
       "      <td>10/10/1955 17:00</td>\n",
       "    </tr>\n",
       "    <tr>\n",
       "      <th>3</th>\n",
       "      <td>edna</td>\n",
       "      <td>tx</td>\n",
       "      <td>us</td>\n",
       "      <td>circle</td>\n",
       "      <td>20</td>\n",
       "      <td>1/2 hour</td>\n",
       "      <td>My older brother and twin sister were leaving ...</td>\n",
       "      <td>1/17/2004</td>\n",
       "      <td>28.9783333</td>\n",
       "      <td>-96.645833</td>\n",
       "      <td>10/10/1956</td>\n",
       "      <td>21:00</td>\n",
       "      <td>10/10/1956 21:00</td>\n",
       "    </tr>\n",
       "    <tr>\n",
       "      <th>4</th>\n",
       "      <td>kaneohe</td>\n",
       "      <td>hi</td>\n",
       "      <td>us</td>\n",
       "      <td>light</td>\n",
       "      <td>900</td>\n",
       "      <td>15 minutes</td>\n",
       "      <td>AS a Marine 1st Lt. flying an FJ4B fighter/att...</td>\n",
       "      <td>1/22/2004</td>\n",
       "      <td>21.4180556</td>\n",
       "      <td>-157.803611</td>\n",
       "      <td>10/10/1960</td>\n",
       "      <td>20:00</td>\n",
       "      <td>10/10/1960 20:00</td>\n",
       "    </tr>\n",
       "    <tr>\n",
       "      <th>...</th>\n",
       "      <td>...</td>\n",
       "      <td>...</td>\n",
       "      <td>...</td>\n",
       "      <td>...</td>\n",
       "      <td>...</td>\n",
       "      <td>...</td>\n",
       "      <td>...</td>\n",
       "      <td>...</td>\n",
       "      <td>...</td>\n",
       "      <td>...</td>\n",
       "      <td>...</td>\n",
       "      <td>...</td>\n",
       "      <td>...</td>\n",
       "    </tr>\n",
       "    <tr>\n",
       "      <th>80327</th>\n",
       "      <td>nashville</td>\n",
       "      <td>tn</td>\n",
       "      <td>us</td>\n",
       "      <td>light</td>\n",
       "      <td>600</td>\n",
       "      <td>10 minutes</td>\n",
       "      <td>Round from the distance/slowly changing colors...</td>\n",
       "      <td>9/30/2013</td>\n",
       "      <td>36.1658</td>\n",
       "      <td>-86.784444</td>\n",
       "      <td>9/9/2013</td>\n",
       "      <td>21:15</td>\n",
       "      <td>9/9/2013 21:15</td>\n",
       "    </tr>\n",
       "    <tr>\n",
       "      <th>80328</th>\n",
       "      <td>boise</td>\n",
       "      <td>id</td>\n",
       "      <td>us</td>\n",
       "      <td>circle</td>\n",
       "      <td>1200</td>\n",
       "      <td>20 minutes</td>\n",
       "      <td>Boise&amp;#44 ID&amp;#44 spherical&amp;#44 20 min&amp;#44 10 r...</td>\n",
       "      <td>9/30/2013</td>\n",
       "      <td>43.6136</td>\n",
       "      <td>-116.202500</td>\n",
       "      <td>9/9/2013</td>\n",
       "      <td>22:00</td>\n",
       "      <td>9/9/2013 22:00</td>\n",
       "    </tr>\n",
       "    <tr>\n",
       "      <th>80329</th>\n",
       "      <td>napa</td>\n",
       "      <td>ca</td>\n",
       "      <td>us</td>\n",
       "      <td>other</td>\n",
       "      <td>1200</td>\n",
       "      <td>hour</td>\n",
       "      <td>Napa UFO&amp;#44</td>\n",
       "      <td>9/30/2013</td>\n",
       "      <td>38.2972</td>\n",
       "      <td>-122.284444</td>\n",
       "      <td>9/9/2013</td>\n",
       "      <td>22:00</td>\n",
       "      <td>9/9/2013 22:00</td>\n",
       "    </tr>\n",
       "    <tr>\n",
       "      <th>80330</th>\n",
       "      <td>vienna</td>\n",
       "      <td>va</td>\n",
       "      <td>us</td>\n",
       "      <td>circle</td>\n",
       "      <td>5</td>\n",
       "      <td>5 seconds</td>\n",
       "      <td>Saw a five gold lit cicular craft moving fastl...</td>\n",
       "      <td>9/30/2013</td>\n",
       "      <td>38.9011</td>\n",
       "      <td>-77.265556</td>\n",
       "      <td>9/9/2013</td>\n",
       "      <td>22:20</td>\n",
       "      <td>9/9/2013 22:20</td>\n",
       "    </tr>\n",
       "    <tr>\n",
       "      <th>80331</th>\n",
       "      <td>edmond</td>\n",
       "      <td>ok</td>\n",
       "      <td>us</td>\n",
       "      <td>cigar</td>\n",
       "      <td>1020</td>\n",
       "      <td>17 minutes</td>\n",
       "      <td>2 witnesses 2  miles apart&amp;#44 Red &amp;amp; White...</td>\n",
       "      <td>9/30/2013</td>\n",
       "      <td>35.6528</td>\n",
       "      <td>-97.477778</td>\n",
       "      <td>9/9/2013</td>\n",
       "      <td>23:00</td>\n",
       "      <td>9/9/2013 23:00</td>\n",
       "    </tr>\n",
       "  </tbody>\n",
       "</table>\n",
       "<p>80158 rows × 13 columns</p>\n",
       "</div>"
      ],
      "text/plain": [
       "                       city state/province country UFO_shape  \\\n",
       "0                san marcos             tx      us  cylinder   \n",
       "1              lackland afb             tx     NaN     light   \n",
       "2      chester (uk/england)            NaN      gb    circle   \n",
       "3                      edna             tx      us    circle   \n",
       "4                   kaneohe             hi      us     light   \n",
       "...                     ...            ...     ...       ...   \n",
       "80327             nashville             tn      us     light   \n",
       "80328                 boise             id      us    circle   \n",
       "80329                  napa             ca      us     other   \n",
       "80330                vienna             va      us    circle   \n",
       "80331                edmond             ok      us     cigar   \n",
       "\n",
       "      length_of_encounter_seconds described_duration_of_encounter  \\\n",
       "0                            2700                      45 minutes   \n",
       "1                            7200                         1-2 hrs   \n",
       "2                              20                      20 seconds   \n",
       "3                              20                        1/2 hour   \n",
       "4                             900                      15 minutes   \n",
       "...                           ...                             ...   \n",
       "80327                         600                      10 minutes   \n",
       "80328                        1200                      20 minutes   \n",
       "80329                        1200                            hour   \n",
       "80330                           5                       5 seconds   \n",
       "80331                        1020                      17 minutes   \n",
       "\n",
       "                                             description date_documented  \\\n",
       "0      This event took place in early fall around 194...       4/27/2004   \n",
       "1      1949 Lackland AFB&#44 TX.  Lights racing acros...      12/16/2005   \n",
       "2      Green/Orange circular disc over Chester&#44 En...       1/21/2008   \n",
       "3      My older brother and twin sister were leaving ...       1/17/2004   \n",
       "4      AS a Marine 1st Lt. flying an FJ4B fighter/att...       1/22/2004   \n",
       "...                                                  ...             ...   \n",
       "80327  Round from the distance/slowly changing colors...       9/30/2013   \n",
       "80328  Boise&#44 ID&#44 spherical&#44 20 min&#44 10 r...       9/30/2013   \n",
       "80329                                       Napa UFO&#44       9/30/2013   \n",
       "80330  Saw a five gold lit cicular craft moving fastl...       9/30/2013   \n",
       "80331  2 witnesses 2  miles apart&#44 Red &amp; White...       9/30/2013   \n",
       "\n",
       "         latitude   longitude        Date   Time         Date_time  \n",
       "0      29.8830556  -97.941111  10/10/1949  20:30  10/10/1949 20:30  \n",
       "1        29.38421  -98.581082  10/10/1949  21:00  10/10/1949 21:00  \n",
       "2            53.2   -2.916667  10/10/1955  17:00  10/10/1955 17:00  \n",
       "3      28.9783333  -96.645833  10/10/1956  21:00  10/10/1956 21:00  \n",
       "4      21.4180556 -157.803611  10/10/1960  20:00  10/10/1960 20:00  \n",
       "...           ...         ...         ...    ...               ...  \n",
       "80327     36.1658  -86.784444    9/9/2013  21:15    9/9/2013 21:15  \n",
       "80328     43.6136 -116.202500    9/9/2013  22:00    9/9/2013 22:00  \n",
       "80329     38.2972 -122.284444    9/9/2013  22:00    9/9/2013 22:00  \n",
       "80330     38.9011  -77.265556    9/9/2013  22:20    9/9/2013 22:20  \n",
       "80331     35.6528  -97.477778    9/9/2013  23:00    9/9/2013 23:00  \n",
       "\n",
       "[80158 rows x 13 columns]"
      ]
     },
     "execution_count": 55,
     "metadata": {},
     "output_type": "execute_result"
    }
   ],
   "source": [
    "df"
   ]
  },
  {
   "cell_type": "code",
   "execution_count": 24,
   "metadata": {},
   "outputs": [
    {
     "name": "stderr",
     "output_type": "stream",
     "text": [
      "c:\\users\\win10\\appdata\\local\\programs\\python\\python37\\lib\\site-packages\\ipykernel_launcher.py:6: SettingWithCopyWarning: \n",
      "A value is trying to be set on a copy of a slice from a DataFrame\n",
      "\n",
      "See the caveats in the documentation: http://pandas.pydata.org/pandas-docs/stable/user_guide/indexing.html#returning-a-view-versus-a-copy\n",
      "  \n"
     ]
    }
   ],
   "source": [
    "for dt in range(0,len(df['Date_time'])):\n",
    "    if df['Date_time'][dt][11:13] == '24':\n",
    "        temp = list(df['Date_time'][dt])\n",
    "        temp[12] = '0'\n",
    "        temp[11] = '0'\n",
    "        df['Date_time'][dt] = ''.join(temp)"
   ]
  },
  {
   "cell_type": "code",
   "execution_count": 25,
   "metadata": {},
   "outputs": [
    {
     "name": "stdout",
     "output_type": "stream",
     "text": [
      "0\n"
     ]
    }
   ],
   "source": [
    "C = []\n",
    "for dt in range(0,len(df['Date_time'])):\n",
    "    if df['Date_time'][dt][11:13] == '24':\n",
    "        C.append(dt)\n",
    "print(len(C))"
   ]
  },
  {
   "cell_type": "code",
   "execution_count": 32,
   "metadata": {},
   "outputs": [
    {
     "name": "stderr",
     "output_type": "stream",
     "text": [
      "c:\\users\\win10\\appdata\\local\\programs\\python\\python37\\lib\\site-packages\\ipykernel_launcher.py:6: SettingWithCopyWarning: \n",
      "A value is trying to be set on a copy of a slice from a DataFrame\n",
      "\n",
      "See the caveats in the documentation: http://pandas.pydata.org/pandas-docs/stable/user_guide/indexing.html#returning-a-view-versus-a-copy\n",
      "  \n"
     ]
    }
   ],
   "source": [
    "for dt in range(0,len(df['Date_time'])):\n",
    "    if df['Date_time'][dt][10:12] == '24':\n",
    "        temp = list(df['Date_time'][dt])\n",
    "        temp[11] = '0'\n",
    "        temp[10] = '0'\n",
    "        df['Date_time'][dt] = ''.join(temp)"
   ]
  },
  {
   "cell_type": "code",
   "execution_count": 59,
   "metadata": {},
   "outputs": [
    {
     "name": "stderr",
     "output_type": "stream",
     "text": [
      "c:\\users\\win10\\appdata\\local\\programs\\python\\python37\\lib\\site-packages\\ipykernel_launcher.py:1: SettingWithCopyWarning: \n",
      "A value is trying to be set on a copy of a slice from a DataFrame.\n",
      "Try using .loc[row_indexer,col_indexer] = value instead\n",
      "\n",
      "See the caveats in the documentation: http://pandas.pydata.org/pandas-docs/stable/user_guide/indexing.html#returning-a-view-versus-a-copy\n",
      "  \"\"\"Entry point for launching an IPython kernel.\n"
     ]
    }
   ],
   "source": [
    "df['Date_time']= pd.to_datetime(df['Date_time'])"
   ]
  },
  {
   "cell_type": "code",
   "execution_count": 60,
   "metadata": {},
   "outputs": [
    {
     "data": {
      "text/plain": [
       "city                                       object\n",
       "state/province                             object\n",
       "country                                    object\n",
       "UFO_shape                                  object\n",
       "length_of_encounter_seconds                object\n",
       "described_duration_of_encounter            object\n",
       "description                                object\n",
       "date_documented                            object\n",
       "latitude                                   object\n",
       "longitude                                 float64\n",
       "Date                                       object\n",
       "Time                                       object\n",
       "Date_time                          datetime64[ns]\n",
       "dtype: object"
      ]
     },
     "execution_count": 60,
     "metadata": {},
     "output_type": "execute_result"
    }
   ],
   "source": [
    "df.dtypes"
   ]
  },
  {
   "cell_type": "code",
   "execution_count": 62,
   "metadata": {},
   "outputs": [
    {
     "name": "stdout",
     "output_type": "stream",
     "text": [
      "\n",
      "Current date of Ufo dataset:\n",
      "2014-05-08 18:45:00\n",
      "\n",
      "Oldest date of Ufo dataset:\n",
      "1906-11-11 00:00:00\n",
      "\n",
      "Number of days between Current date and oldest date of Ufo dataset:\n",
      "39260\n"
     ]
    }
   ],
   "source": [
    "#question 130\n",
    "\n",
    "print(\"\\nCurrent date of Ufo dataset:\")\n",
    "print(df.Date_time.max())\n",
    "print(\"\\nOldest date of Ufo dataset:\")\n",
    "print(df.Date_time.min())\n",
    "print(\"\\nNumber of days between Current date and oldest date of Ufo dataset:\")\n",
    "print((df.Date_time.max() - df.Date_time.min()).days)"
   ]
  },
  {
   "cell_type": "code",
   "execution_count": null,
   "metadata": {},
   "outputs": [],
   "source": []
  },
  {
   "cell_type": "code",
   "execution_count": 63,
   "metadata": {},
   "outputs": [
    {
     "name": "stdout",
     "output_type": "stream",
     "text": [
      "\n",
      "Sighting days of the unidentified flying object (ufo) between 1949-10-10 and 1960-10-10:\n",
      "                       city state/province country UFO_shape  \\\n",
      "2      chester (uk/england)            NaN      gb    circle   \n",
      "3                      edna             tx      us    circle   \n",
      "4                   kaneohe             hi      us     light   \n",
      "479               pikeville             ky      us      disk   \n",
      "480         fukuoka (japan)            NaN     NaN      disk   \n",
      "...                     ...            ...     ...       ...   \n",
      "79262               buffalo             ny      us      oval   \n",
      "79668                arthur             nd      us   unknown   \n",
      "80101          philadelphia             pa      us    circle   \n",
      "80102              beaumont             tx      us      disk   \n",
      "80103               norfolk             va      us     cigar   \n",
      "\n",
      "      length_of_encounter_seconds described_duration_of_encounter  \\\n",
      "2                              20                      20 seconds   \n",
      "3                              20                        1/2 hour   \n",
      "4                             900                      15 minutes   \n",
      "479                           600                              hr   \n",
      "480                          1200                   about 20 mins   \n",
      "...                           ...                             ...   \n",
      "79262                         180                       3 minutes   \n",
      "79668                         900                       5-15 min.   \n",
      "80101                         180                       3 minutes   \n",
      "80102                         300                       5 minutes   \n",
      "80103                          90                     1.5 minutes   \n",
      "\n",
      "                                             description date_documented  \\\n",
      "2      Green/Orange circular disc over Chester&#44 En...       1/21/2008   \n",
      "3      My older brother and twin sister were leaving ...       1/17/2004   \n",
      "4      AS a Marine 1st Lt. flying an FJ4B fighter/att...       1/22/2004   \n",
      "479          SEVENTY SOME  FLYING DISK OBSERVED IN  1950       4/16/2005   \n",
      "480    UFO seen by multiple U. S. military personnel;...       12/7/2006   \n",
      "...                                                  ...             ...   \n",
      "79262  Precise movements of a &quot;craft&quot; appar...       9/15/2005   \n",
      "79668  Two lights of alternating color traveling and ...      10/31/2003   \n",
      "80101                   saucers in a line over Phila Pa.      12/12/2009   \n",
      "80102  Aprox. 30 Disk shaped UFOs fell out of clouds ...       1/17/2004   \n",
      "80103  Unidentified Object Hovering over Interstate 2...       2/24/2007   \n",
      "\n",
      "         latitude   longitude        Date   Time           Date_time  \n",
      "2            53.2   -2.916667  10/10/1955  17:00 1955-10-10 17:00:00  \n",
      "3      28.9783333  -96.645833  10/10/1956  21:00 1956-10-10 21:00:00  \n",
      "4      21.4180556 -157.803611  10/10/1960  20:00 1960-10-10 20:00:00  \n",
      "479    37.4791667  -82.518889   10/1/1950  11:00 1950-10-01 11:00:00  \n",
      "480     33.590355  130.401716   10/1/1952  03:30 1952-10-01 03:30:00  \n",
      "...           ...         ...         ...    ...                 ...  \n",
      "79262     42.8864  -78.878611    9/5/1960  21:00 1960-09-05 21:00:00  \n",
      "79668     47.1042  -97.217778    9/7/1958  19:00 1958-09-07 19:00:00  \n",
      "80101     39.9522  -75.164167    9/9/1952  20:00 1952-09-09 20:00:00  \n",
      "80102     30.0858  -94.101667    9/9/1954  12:30 1954-09-09 12:30:00  \n",
      "80103     36.8467  -76.285556    9/9/1956  05:55 1956-09-09 05:55:00  \n",
      "\n",
      "[489 rows x 13 columns]\n"
     ]
    }
   ],
   "source": [
    "#question 131\n",
    "\n",
    "print(\"\\nSighting days of the unidentified flying object (ufo) between 1949-10-10 and 1960-10-10:\")\n",
    "selected_period = df[(df['Date_time'] >= '1950-01-01 00:00:00') & (df['Date_time'] <= '1960-12-31 23:59:59')]\n",
    "print(selected_period)"
   ]
  },
  {
   "cell_type": "code",
   "execution_count": 64,
   "metadata": {},
   "outputs": [
    {
     "name": "stdout",
     "output_type": "stream",
     "text": [
      "Original Dataframe:\n",
      "                   city state/province country UFO_shape  \\\n",
      "0            san marcos             tx      us  cylinder   \n",
      "1          lackland afb             tx     NaN     light   \n",
      "2  chester (uk/england)            NaN      gb    circle   \n",
      "3                  edna             tx      us    circle   \n",
      "4               kaneohe             hi      us     light   \n",
      "\n",
      "  length_of_encounter_seconds described_duration_of_encounter  \\\n",
      "0                        2700                      45 minutes   \n",
      "1                        7200                         1-2 hrs   \n",
      "2                          20                      20 seconds   \n",
      "3                          20                        1/2 hour   \n",
      "4                         900                      15 minutes   \n",
      "\n",
      "                                         description date_documented  \\\n",
      "0  This event took place in early fall around 194...       4/27/2004   \n",
      "1  1949 Lackland AFB&#44 TX.  Lights racing acros...      12/16/2005   \n",
      "2  Green/Orange circular disc over Chester&#44 En...       1/21/2008   \n",
      "3  My older brother and twin sister were leaving ...       1/17/2004   \n",
      "4  AS a Marine 1st Lt. flying an FJ4B fighter/att...       1/22/2004   \n",
      "\n",
      "     latitude   longitude        Date   Time           Date_time  \n",
      "0  29.8830556  -97.941111  10/10/1949  20:30 1949-10-10 20:30:00  \n",
      "1    29.38421  -98.581082  10/10/1949  21:00 1949-10-10 21:00:00  \n",
      "2        53.2   -2.916667  10/10/1955  17:00 1955-10-10 17:00:00  \n",
      "3  28.9783333  -96.645833  10/10/1956  21:00 1956-10-10 21:00:00  \n",
      "4  21.4180556 -157.803611  10/10/1960  20:00 1960-10-10 20:00:00  \n",
      "\n",
      "Year:\n",
      "0    1949\n",
      "1    1949\n",
      "2    1955\n",
      "3    1956\n",
      "4    1960\n",
      "Name: Date_time, dtype: int64\n",
      "\n",
      "Month:\n",
      "0    10\n",
      "1    10\n",
      "2    10\n",
      "3    10\n",
      "4    10\n",
      "Name: Date_time, dtype: int64\n",
      "\n",
      "Day:\n",
      "0    10\n",
      "1    10\n",
      "2    10\n",
      "3    10\n",
      "4    10\n",
      "Name: Date_time, dtype: int64\n",
      "\n",
      "Hour:\n",
      "0    20\n",
      "1    21\n",
      "2    17\n",
      "3    21\n",
      "4    20\n",
      "Name: Date_time, dtype: int64\n",
      "\n",
      "Minute:\n",
      "0    30\n",
      "1     0\n",
      "2     0\n",
      "3     0\n",
      "4     0\n",
      "Name: Date_time, dtype: int64\n",
      "\n",
      "Second:\n",
      "0    0\n",
      "1    0\n",
      "2    0\n",
      "3    0\n",
      "4    0\n",
      "Name: Date_time, dtype: int64\n",
      "\n",
      "Weekday:\n",
      "0       Monday\n",
      "1       Monday\n",
      "2       Monday\n",
      "3    Wednesday\n",
      "4       Monday\n",
      "Name: Date_time, dtype: object\n"
     ]
    }
   ],
   "source": [
    "#question 132\n",
    "\n",
    "print(\"Original Dataframe:\")\n",
    "print(df.head())\n",
    "print(\"\\nYear:\")\n",
    "print(df.Date_time.dt.year.head())\n",
    "print(\"\\nMonth:\")\n",
    "print(df.Date_time.dt.month.head())\n",
    "print(\"\\nDay:\")\n",
    "print(df.Date_time.dt.day.head())\n",
    "print(\"\\nHour:\")\n",
    "print(df.Date_time.dt.hour.head())\n",
    "print(\"\\nMinute:\")\n",
    "print(df.Date_time.dt.minute.head())\n",
    "print(\"\\nSecond:\")\n",
    "print(df.Date_time.dt.second.head())\n",
    "print(\"\\nWeekday:\")\n",
    "print(df.Date_time.dt.weekday_name.head())"
   ]
  },
  {
   "cell_type": "code",
   "execution_count": 66,
   "metadata": {},
   "outputs": [
    {
     "name": "stdout",
     "output_type": "stream",
     "text": [
      "\n",
      "Country-year wise frequency of reporting dates of UFO:\n",
      "Year  country\n",
      "1910  us            1\n",
      "1920  us            1\n",
      "1925  us            1\n",
      "1929  us            1\n",
      "1931  us            2\n",
      "                 ... \n",
      "2014  au           13\n",
      "      ca           45\n",
      "      de            2\n",
      "      gb           20\n",
      "      us         1963\n",
      "Length: 282, dtype: int64\n"
     ]
    },
    {
     "name": "stderr",
     "output_type": "stream",
     "text": [
      "c:\\users\\win10\\appdata\\local\\programs\\python\\python37\\lib\\site-packages\\ipykernel_launcher.py:3: SettingWithCopyWarning: \n",
      "A value is trying to be set on a copy of a slice from a DataFrame.\n",
      "Try using .loc[row_indexer,col_indexer] = value instead\n",
      "\n",
      "See the caveats in the documentation: http://pandas.pydata.org/pandas-docs/stable/user_guide/indexing.html#returning-a-view-versus-a-copy\n",
      "  This is separate from the ipykernel package so we can avoid doing imports until\n"
     ]
    }
   ],
   "source": [
    "#question 133\n",
    "\n",
    "df['Year'] = df['Date_time'].apply(lambda x: \"%d\" % (x.year))\n",
    "result = df.groupby(['Year', 'country']).size()\n",
    "print(\"\\nCountry-year wise frequency of reporting dates of UFO:\")\n",
    "print(result)"
   ]
  },
  {
   "cell_type": "code",
   "execution_count": 68,
   "metadata": {},
   "outputs": [
    {
     "name": "stdout",
     "output_type": "stream",
     "text": [
      "Original Dataframe:\n",
      "                   city state/province country UFO_shape  \\\n",
      "0            san marcos             tx      us  cylinder   \n",
      "1          lackland afb             tx     NaN     light   \n",
      "2  chester (uk/england)            NaN      gb    circle   \n",
      "3                  edna             tx      us    circle   \n",
      "4               kaneohe             hi      us     light   \n",
      "\n",
      "  length_of_encounter_seconds described_duration_of_encounter  \\\n",
      "0                        2700                      45 minutes   \n",
      "1                        7200                         1-2 hrs   \n",
      "2                          20                      20 seconds   \n",
      "3                          20                        1/2 hour   \n",
      "4                         900                      15 minutes   \n",
      "\n",
      "                                         description date_documented  \\\n",
      "0  This event took place in early fall around 194...      2004-04-27   \n",
      "1  1949 Lackland AFB&#44 TX.  Lights racing acros...      2005-12-16   \n",
      "2  Green/Orange circular disc over Chester&#44 En...      2008-01-21   \n",
      "3  My older brother and twin sister were leaving ...      2004-01-17   \n",
      "4  AS a Marine 1st Lt. flying an FJ4B fighter/att...      2004-01-22   \n",
      "\n",
      "     latitude   longitude        Date   Time           Date_time  Year  \n",
      "0  29.8830556  -97.941111  10/10/1949  20:30 1949-10-10 20:30:00  1949  \n",
      "1    29.38421  -98.581082  10/10/1949  21:00 1949-10-10 21:00:00  1949  \n",
      "2        53.2   -2.916667  10/10/1955  17:00 1955-10-10 17:00:00  1955  \n",
      "3  28.9783333  -96.645833  10/10/1956  21:00 1956-10-10 21:00:00  1956  \n",
      "4  21.4180556 -157.803611  10/10/1960  20:00 1960-10-10 20:00:00  1960  \n",
      "\n",
      "Difference (in days) between documented date and reporting date of UFO:\n",
      "                       city state/province country UFO_shape  \\\n",
      "0                san marcos             tx      us  cylinder   \n",
      "1              lackland afb             tx     NaN     light   \n",
      "2      chester (uk/england)            NaN      gb    circle   \n",
      "3                      edna             tx      us    circle   \n",
      "4                   kaneohe             hi      us     light   \n",
      "...                     ...            ...     ...       ...   \n",
      "80327             nashville             tn      us     light   \n",
      "80328                 boise             id      us    circle   \n",
      "80329                  napa             ca      us     other   \n",
      "80330                vienna             va      us    circle   \n",
      "80331                edmond             ok      us     cigar   \n",
      "\n",
      "      length_of_encounter_seconds described_duration_of_encounter  \\\n",
      "0                            2700                      45 minutes   \n",
      "1                            7200                         1-2 hrs   \n",
      "2                              20                      20 seconds   \n",
      "3                              20                        1/2 hour   \n",
      "4                             900                      15 minutes   \n",
      "...                           ...                             ...   \n",
      "80327                         600                      10 minutes   \n",
      "80328                        1200                      20 minutes   \n",
      "80329                        1200                            hour   \n",
      "80330                           5                       5 seconds   \n",
      "80331                        1020                      17 minutes   \n",
      "\n",
      "                                             description date_documented  \\\n",
      "0      This event took place in early fall around 194...      2004-04-27   \n",
      "1      1949 Lackland AFB&#44 TX.  Lights racing acros...      2005-12-16   \n",
      "2      Green/Orange circular disc over Chester&#44 En...      2008-01-21   \n",
      "3      My older brother and twin sister were leaving ...      2004-01-17   \n",
      "4      AS a Marine 1st Lt. flying an FJ4B fighter/att...      2004-01-22   \n",
      "...                                                  ...             ...   \n",
      "80327  Round from the distance/slowly changing colors...      2013-09-30   \n",
      "80328  Boise&#44 ID&#44 spherical&#44 20 min&#44 10 r...      2013-09-30   \n",
      "80329                                       Napa UFO&#44      2013-09-30   \n",
      "80330  Saw a five gold lit cicular craft moving fastl...      2013-09-30   \n",
      "80331  2 witnesses 2  miles apart&#44 Red &amp; White...      2013-09-30   \n",
      "\n",
      "         latitude   longitude        Date   Time           Date_time  Year  \\\n",
      "0      29.8830556  -97.941111  10/10/1949  20:30 1949-10-10 20:30:00  1949   \n",
      "1        29.38421  -98.581082  10/10/1949  21:00 1949-10-10 21:00:00  1949   \n",
      "2            53.2   -2.916667  10/10/1955  17:00 1955-10-10 17:00:00  1955   \n",
      "3      28.9783333  -96.645833  10/10/1956  21:00 1956-10-10 21:00:00  1956   \n",
      "4      21.4180556 -157.803611  10/10/1960  20:00 1960-10-10 20:00:00  1960   \n",
      "...           ...         ...         ...    ...                 ...   ...   \n",
      "80327     36.1658  -86.784444    9/9/2013  21:15 2013-09-09 21:15:00  2013   \n",
      "80328     43.6136 -116.202500    9/9/2013  22:00 2013-09-09 22:00:00  2013   \n",
      "80329     38.2972 -122.284444    9/9/2013  22:00 2013-09-09 22:00:00  2013   \n",
      "80330     38.9011  -77.265556    9/9/2013  22:20 2013-09-09 22:20:00  2013   \n",
      "80331     35.6528  -97.477778    9/9/2013  23:00 2013-09-09 23:00:00  2013   \n",
      "\n",
      "       Difference  \n",
      "0           19922  \n",
      "1           20520  \n",
      "2           19095  \n",
      "3           17264  \n",
      "4           15808  \n",
      "...           ...  \n",
      "80327          20  \n",
      "80328          20  \n",
      "80329          20  \n",
      "80330          20  \n",
      "80331          20  \n",
      "\n",
      "[80158 rows x 15 columns]\n"
     ]
    },
    {
     "name": "stderr",
     "output_type": "stream",
     "text": [
      "c:\\users\\win10\\appdata\\local\\programs\\python\\python37\\lib\\site-packages\\ipykernel_launcher.py:3: SettingWithCopyWarning: \n",
      "A value is trying to be set on a copy of a slice from a DataFrame.\n",
      "Try using .loc[row_indexer,col_indexer] = value instead\n",
      "\n",
      "See the caveats in the documentation: http://pandas.pydata.org/pandas-docs/stable/user_guide/indexing.html#returning-a-view-versus-a-copy\n",
      "  This is separate from the ipykernel package so we can avoid doing imports until\n",
      "c:\\users\\win10\\appdata\\local\\programs\\python\\python37\\lib\\site-packages\\ipykernel_launcher.py:7: SettingWithCopyWarning: \n",
      "A value is trying to be set on a copy of a slice from a DataFrame.\n",
      "Try using .loc[row_indexer,col_indexer] = value instead\n",
      "\n",
      "See the caveats in the documentation: http://pandas.pydata.org/pandas-docs/stable/user_guide/indexing.html#returning-a-view-versus-a-copy\n",
      "  import sys\n"
     ]
    }
   ],
   "source": [
    "#question 134\n",
    "\n",
    "df['date_documented'] = df['date_documented'].astype('datetime64[ns]')\n",
    "print(\"Original Dataframe:\")\n",
    "print(df.head())\n",
    "print(\"\\nDifference (in days) between documented date and reporting date of UFO:\")\n",
    "df['Difference'] = (df['date_documented'] - df['Date_time']).dt.days\n",
    "print(df)"
   ]
  },
  {
   "cell_type": "code",
   "execution_count": 69,
   "metadata": {},
   "outputs": [
    {
     "name": "stdout",
     "output_type": "stream",
     "text": [
      "Hourly frequency:\n",
      "DatetimeIndex(['2018-01-01 00:00:00', '2018-01-01 01:00:00',\n",
      "               '2018-01-01 02:00:00', '2018-01-01 03:00:00',\n",
      "               '2018-01-01 04:00:00', '2018-01-01 05:00:00',\n",
      "               '2018-01-01 06:00:00', '2018-01-01 07:00:00',\n",
      "               '2018-01-01 08:00:00', '2018-01-01 09:00:00',\n",
      "               '2018-01-01 10:00:00', '2018-01-01 11:00:00'],\n",
      "              dtype='datetime64[ns]', freq='H')\n",
      "\n",
      "Minutely frequency:\n",
      "DatetimeIndex(['2018-01-01 00:00:00', '2018-01-01 00:01:00',\n",
      "               '2018-01-01 00:02:00', '2018-01-01 00:03:00',\n",
      "               '2018-01-01 00:04:00', '2018-01-01 00:05:00',\n",
      "               '2018-01-01 00:06:00', '2018-01-01 00:07:00',\n",
      "               '2018-01-01 00:08:00', '2018-01-01 00:09:00',\n",
      "               '2018-01-01 00:10:00', '2018-01-01 00:11:00'],\n",
      "              dtype='datetime64[ns]', freq='T')\n",
      "\n",
      "Secondly frequency:\n",
      "DatetimeIndex(['2018-01-01 00:00:00', '2018-01-01 00:00:01',\n",
      "               '2018-01-01 00:00:02', '2018-01-01 00:00:03',\n",
      "               '2018-01-01 00:00:04', '2018-01-01 00:00:05',\n",
      "               '2018-01-01 00:00:06', '2018-01-01 00:00:07',\n",
      "               '2018-01-01 00:00:08', '2018-01-01 00:00:09',\n",
      "               '2018-01-01 00:00:10', '2018-01-01 00:00:11'],\n",
      "              dtype='datetime64[ns]', freq='S')\n",
      "nMultiple Hourly frequency:\n",
      "DatetimeIndex(['2018-01-01 00:00:00', '2018-01-01 02:00:00',\n",
      "               '2018-01-01 04:00:00', '2018-01-01 06:00:00',\n",
      "               '2018-01-01 08:00:00', '2018-01-01 10:00:00',\n",
      "               '2018-01-01 12:00:00', '2018-01-01 14:00:00',\n",
      "               '2018-01-01 16:00:00', '2018-01-01 18:00:00',\n",
      "               '2018-01-01 20:00:00', '2018-01-01 22:00:00'],\n",
      "              dtype='datetime64[ns]', freq='2H')\n",
      "\n",
      "Multiple Minutely frequency:\n",
      "DatetimeIndex(['2018-01-01 00:00:00', '2018-01-01 00:05:00',\n",
      "               '2018-01-01 00:10:00', '2018-01-01 00:15:00',\n",
      "               '2018-01-01 00:20:00', '2018-01-01 00:25:00',\n",
      "               '2018-01-01 00:30:00', '2018-01-01 00:35:00',\n",
      "               '2018-01-01 00:40:00', '2018-01-01 00:45:00',\n",
      "               '2018-01-01 00:50:00', '2018-01-01 00:55:00'],\n",
      "              dtype='datetime64[ns]', freq='5T')\n",
      "\n",
      "Multiple Secondly frequency:\n",
      "DatetimeIndex(['2018-03-30', '2018-06-29', '2018-09-28', '2018-12-31',\n",
      "               '2019-03-29', '2019-06-28', '2019-09-30', '2019-12-31',\n",
      "               '2020-03-31', '2020-06-30', '2020-09-30', '2020-12-31'],\n",
      "              dtype='datetime64[ns]', freq='BQ-DEC')\n",
      "\n",
      "Weekly frequency:\n",
      "DatetimeIndex(['2018-01-07', '2018-01-14', '2018-01-21', '2018-01-28',\n",
      "               '2018-02-04', '2018-02-11', '2018-02-18', '2018-02-25',\n",
      "               '2018-03-04', '2018-03-11', '2018-03-18', '2018-03-25'],\n",
      "              dtype='datetime64[ns]', freq='W-SUN')\n",
      "\n",
      "Combine together day and intraday offsets-1:\n",
      "DatetimeIndex(['2018-01-01 00:00:00', '2018-01-01 02:20:00',\n",
      "               '2018-01-01 04:40:00', '2018-01-01 07:00:00',\n",
      "               '2018-01-01 09:20:00', '2018-01-01 11:40:00',\n",
      "               '2018-01-01 14:00:00', '2018-01-01 16:20:00',\n",
      "               '2018-01-01 18:40:00', '2018-01-01 21:00:00',\n",
      "               '2018-01-01 23:20:00', '2018-01-02 01:40:00'],\n",
      "              dtype='datetime64[ns]', freq='140T')\n",
      "\n",
      "Combine together day and intraday offsets-2:\n",
      "DatetimeIndex([       '2018-01-01 00:00:00', '2018-01-02 00:00:00.000010',\n",
      "               '2018-01-03 00:00:00.000020', '2018-01-04 00:00:00.000030',\n",
      "               '2018-01-05 00:00:00.000040', '2018-01-06 00:00:00.000050',\n",
      "               '2018-01-07 00:00:00.000060', '2018-01-08 00:00:00.000070',\n",
      "               '2018-01-09 00:00:00.000080', '2018-01-10 00:00:00.000090',\n",
      "               '2018-01-11 00:00:00.000100', '2018-01-12 00:00:00.000110'],\n",
      "              dtype='datetime64[ns]', freq='86400000010U')\n"
     ]
    }
   ],
   "source": [
    "#question 135\n",
    "\n",
    "dtr = pd.date_range('2018-01-01', periods=12, freq='H')\n",
    "print(\"Hourly frequency:\")\n",
    "print(dtr)\n",
    "dtr = pd.date_range('2018-01-01', periods=12, freq='min')\n",
    "print(\"\\nMinutely frequency:\")\n",
    "print(dtr)\n",
    "dtr = pd.date_range('2018-01-01', periods=12, freq='S')\n",
    "print(\"\\nSecondly frequency:\")\n",
    "print(dtr)\n",
    "dtr = pd.date_range('2018-01-01', periods=12, freq='2H')\n",
    "print(\"nMultiple Hourly frequency:\")\n",
    "print(dtr)\n",
    "dtr = pd.date_range('2018-01-01', periods=12, freq='5min')\n",
    "print(\"\\nMultiple Minutely frequency:\")\n",
    "print(dtr)\n",
    "dtr = pd.date_range('2018-01-01', periods=12, freq='BQ')\n",
    "print(\"\\nMultiple Secondly frequency:\")\n",
    "print(dtr)\n",
    "dtr = pd.date_range('2018-01-01', periods=12, freq='w')\n",
    "print(\"\\nWeekly frequency:\")\n",
    "print(dtr)\n",
    "dtr = pd.date_range('2018-01-01', periods=12, freq='2h20min')\n",
    "print(\"\\nCombine together day and intraday offsets-1:\")\n",
    "print(dtr)\n",
    "dtr = pd.date_range('2018-01-01', periods=12, freq='1D10U')\n",
    "print(\"\\nCombine together day and intraday offsets-2:\")\n",
    "print(dtr)"
   ]
  },
  {
   "cell_type": "code",
   "execution_count": 70,
   "metadata": {},
   "outputs": [
    {
     "name": "stdout",
     "output_type": "stream",
     "text": [
      "DatetimeIndex(['2018-01-01 00:00:00+00:00', '2018-01-01 01:00:00+00:00',\n",
      "               '2018-01-01 02:00:00+00:00'],\n",
      "              dtype='datetime64[ns, UTC]', freq='H')\n",
      "\n",
      "From UTC to America/Los_Angeles:\n",
      "DatetimeIndex(['2017-12-31 16:00:00-08:00', '2017-12-31 17:00:00-08:00',\n",
      "               '2017-12-31 18:00:00-08:00'],\n",
      "              dtype='datetime64[ns, America/Los_Angeles]', freq='H')\n"
     ]
    }
   ],
   "source": [
    "#question 136\n",
    "\n",
    "dtt = pd.date_range('2018-01-01', periods=3, freq='H')\n",
    "dtt = dtt.tz_localize('UTC')\n",
    "print(dtt)\n",
    "print(\"\\nFrom UTC to America/Los_Angeles:\")\n",
    "dtt = dtt.tz_convert('America/Los_Angeles')\n",
    "print(dtt)"
   ]
  },
  {
   "cell_type": "code",
   "execution_count": 72,
   "metadata": {},
   "outputs": [
    {
     "name": "stderr",
     "output_type": "stream",
     "text": [
      "c:\\users\\win10\\appdata\\local\\programs\\python\\python37\\lib\\site-packages\\ipykernel_launcher.py:5: SettingWithCopyWarning: \n",
      "A value is trying to be set on a copy of a slice from a DataFrame.\n",
      "Try using .loc[row_indexer,col_indexer] = value instead\n",
      "\n",
      "See the caveats in the documentation: http://pandas.pydata.org/pandas-docs/stable/user_guide/indexing.html#returning-a-view-versus-a-copy\n",
      "  \"\"\"\n",
      "c:\\users\\win10\\appdata\\local\\programs\\python\\python37\\lib\\site-packages\\ipykernel_launcher.py:8: FutureWarning: The 'get_values' method is deprecated and will be removed in a future version. Use '.to_numpy()' or '.array' instead.\n",
      "  \n"
     ]
    },
    {
     "data": {
      "image/png": "[encoded data removed]",
      "text/plain": [
       "<Figure size 1080x576 with 1 Axes>"
      ]
     },
     "metadata": {
      "needs_background": "light"
     },
     "output_type": "display_data"
    }
   ],
   "source": [
    "#question 137\n",
    "\n",
    "import seaborn as sns\n",
    "\n",
    "df[\"ufo_yr\"] = df.Date_time.dt.year\n",
    "years_data = df.ufo_yr.value_counts()\n",
    "years_index = years_data.index  # x ticks\n",
    "years_values = years_data.get_values()\n",
    "plt.figure(figsize=(15,8))\n",
    "plt.xticks(rotation = 60)\n",
    "plt.title('UFO Sightings by Year')\n",
    "plt.xlabel(\"Year\")\n",
    "plt.ylabel(\"Number of reports\")\n",
    "years_plot = sns.barplot(x=years_index[:60],y=years_values[:60], palette = \"Reds\")"
   ]
  },
  {
   "cell_type": "code",
   "execution_count": 73,
   "metadata": {},
   "outputs": [
    {
     "name": "stdout",
     "output_type": "stream",
     "text": [
      "\n",
      "Comparison of the top 10 years in which the UFO was sighted vs the hours of the day:\n",
      "Date_time  0:00  1:00  2:00  3:00  4:00  5:00  6:00  7:00  8:00  9:00  ...  \\\n",
      "Date_time                                                              ...   \n",
      "2003        240   194   156   105    74    80    65    49    32    34  ...   \n",
      "2004        248   172   134   118   117    97    75    54    37    53  ...   \n",
      "2005        249   159   119   116    74    87    64    52    42    47  ...   \n",
      "2007        227   166   107    99    92   112    84    38    53    57  ...   \n",
      "2008        310   203   149   120    81   106    85    67    64    65  ...   \n",
      "2009        294   158    97    94   106    90    71    37    46    73  ...   \n",
      "2010        281   155   104    90    76    87    59    47    44    67  ...   \n",
      "2011        291   205   114   122    84   106    71    42    59    71  ...   \n",
      "2012        393   244   160   152   120   122   113    85    71    96  ...   \n",
      "2013        362   201   127   109    88    94    93    79    70    73  ...   \n",
      "\n",
      "Date_time  14:00  15:00  16:00  17:00  18:00  19:00  20:00  21:00  22:00  \\\n",
      "Date_time                                                                  \n",
      "2003          83     80    123    144    225    265    378    439    474   \n",
      "2004          73     99    105    129    186    319    469    508    536   \n",
      "2005          87     90     95    153    226    384    400    485    453   \n",
      "2007          83     90     83    160    221    295    429    557    567   \n",
      "2008          92     75     89    151    259    380    495    578    581   \n",
      "2009          62     66     82    143    227    380    544    686    555   \n",
      "2010          38     76     72     98    182    293    422    687    658   \n",
      "2011          58     74     72    163    245    399    587    829    758   \n",
      "2012          65     87    108    204    309    559    901   1307   1148   \n",
      "2013          44     55    114    224    371    593    919   1332   1141   \n",
      "\n",
      "Date_time  23:00  \n",
      "Date_time         \n",
      "2003         448  \n",
      "2004         410  \n",
      "2005         415  \n",
      "2007         425  \n",
      "2008         502  \n",
      "2009         455  \n",
      "2010         463  \n",
      "2011         474  \n",
      "2012         759  \n",
      "2013         673  \n",
      "\n",
      "[10 rows x 24 columns]\n"
     ]
    }
   ],
   "source": [
    "#question 138\n",
    "\n",
    "most_sightings_years = df['Date_time'].dt.year.value_counts().head(10)\n",
    "def is_top_years(year):\n",
    "    if year in most_sightings_years.index:\n",
    "        return year\n",
    "hour_v_year = df.pivot_table(columns=df['Date_time'].dt.hour,index=df['Date_time'].dt.year.apply(is_top_years),aggfunc='count',values='city')\n",
    "hour_v_year.columns = hour_v_year.columns.astype(int)\n",
    "hour_v_year.columns = hour_v_year.columns.astype(str) + \":00\"\n",
    "hour_v_year.index = hour_v_year.index.astype(int)\n",
    "print(\"\\nComparison of the top 10 years in which the UFO was sighted vs the hours of the day:\")\n",
    "print(hour_v_year.head(10))"
   ]
  },
  {
   "cell_type": "code",
   "execution_count": 74,
   "metadata": {},
   "outputs": [
    {
     "name": "stdout",
     "output_type": "stream",
     "text": [
      "\n",
      "Heatmap for comparison of the top 10 years in which the UFO was sighted vs each month:\n"
     ]
    },
    {
     "data": {
      "image/png": "[encoded data removed]",
      "text/plain": [
       "<Figure size 720x576 with 2 Axes>"
      ]
     },
     "metadata": {
      "needs_background": "light"
     },
     "output_type": "display_data"
    }
   ],
   "source": [
    "#question 139\n",
    "\n",
    "most_sightings_years = df['Date_time'].dt.year.value_counts().head(10)\n",
    "def is_top_years(year):\n",
    "    if year in most_sightings_years.index:\n",
    "        return year\n",
    "month_vs_year = df.pivot_table(columns=df['Date_time'].dt.month,index=df['Date_time'].dt.year.apply(is_top_years),aggfunc='count',values='city')\n",
    "month_vs_year.columns = month_vs_year.columns.astype(int)\n",
    "print(\"\\nHeatmap for comparison of the top 10 years in which the UFO was sighted vs each month:\")\n",
    "plt.figure(figsize=(10,8))\n",
    "ax = sns.heatmap(month_vs_year, vmin=0, vmax=4)\n",
    "ax.set_xlabel('Month').set_size(20)\n",
    "ax.set_ylabel('Year').set_size(20)"
   ]
  },
  {
   "cell_type": "code",
   "execution_count": 75,
   "metadata": {},
   "outputs": [
    {
     "name": "stdout",
     "output_type": "stream",
     "text": [
      "\n",
      "Comparison of the top 10 years in which the UFO was sighted vs each month:\n"
     ]
    },
    {
     "data": {
      "image/png": "[encoded data removed]",
      "text/plain": [
       "<Figure size 576x576 with 1 Axes>"
      ]
     },
     "metadata": {},
     "output_type": "display_data"
    }
   ],
   "source": [
    "#question 140\n",
    "\n",
    "import matplotlib as mpl\n",
    "import matplotlib.cm as cm\n",
    "\n",
    "most_sightings_years = df['Date_time'].dt.year.value_counts().head(10)\n",
    "def is_top_years(year):\n",
    "    if year in most_sightings_years.index:\n",
    "        return year\n",
    "month_vs_year = df.pivot_table(columns=df['Date_time'].dt.month,index=df['Date_time'].dt.year.apply(is_top_years),aggfunc='count',values='city')\n",
    "month_vs_year.index = month_vs_year.index.astype(int)\n",
    "month_vs_year.columns = month_vs_year.columns.astype(int)\n",
    "print(\"\\nComparison of the top 10 years in which the UFO was sighted vs each month:\")\n",
    "def pie_heatmap(table, cmap='coolwarm_r', vmin=None, vmax=None,inner_r=0.25, pie_args={}):\n",
    "    n, m = table.shape\n",
    "    vmin= table.min().min() if vmin is None else vmin\n",
    "    vmax= table.max().max() if vmax is None else vmax\n",
    "\n",
    "    centre_circle = plt.Circle((0,0),inner_r,edgecolor='black',facecolor='white',fill=True,linewidth=0.25)\n",
    "    plt.gcf().gca().add_artist(centre_circle)\n",
    "    norm = mpl.colors.Normalize(vmin=vmin, vmax=vmax)\n",
    "    cmapper = cm.ScalarMappable(norm=norm, cmap=cmap)\n",
    "\n",
    "    for i, (row_name, row) in enumerate(table.iterrows()):\n",
    "        labels = None if i > 0 else table.columns\n",
    "        wedges = plt.pie([1] * m,radius=inner_r+float(n-i)/n, colors=[cmapper.to_rgba(x) for x in row.values],\n",
    "           labels=labels, startangle=90, counterclock=False, wedgeprops={'linewidth':-1}, **pie_args)\n",
    "        plt.setp(wedges[0], edgecolor='grey',linewidth=1.5)\n",
    "        wedges = plt.pie([1], radius=inner_r+float(n-i-1)/n, colors=['w'], labels=[row_name], startangle=-90, wedgeprops={'linewidth':0})\n",
    "        plt.setp(wedges[0], edgecolor='grey',linewidth=1.5)\n",
    "plt.figure(figsize=(8,8))\n",
    "plt.title(\"Timewheel of Hour Vs Year\",y=1.08,fontsize=30)\n",
    "pie_heatmap(month_vs_year, vmin=-20,vmax=80,inner_r=0.2)"
   ]
  },
  {
   "cell_type": "code",
   "execution_count": 79,
   "metadata": {},
   "outputs": [
    {
     "data": {
      "text/plain": [
       "[<matplotlib.lines.Line2D at 0x2d862225248>]"
      ]
     },
     "execution_count": 79,
     "metadata": {},
     "output_type": "execute_result"
    },
    {
     "data": {
      "image/png": "[encoded data removed]",
      "text/plain": [
       "<Figure size 432x288 with 1 Axes>"
      ]
     },
     "metadata": {
      "needs_background": "light"
     },
     "output_type": "display_data"
    }
   ],
   "source": [
    "#question 141\n",
    "\n",
    "X = [1,2,3]\n",
    "Y = [2,4,1]\n",
    "plt.plot(X,Y)"
   ]
  },
  {
   "cell_type": "code",
   "execution_count": null,
   "metadata": {},
   "outputs": [],
   "source": []
  },
  {
   "cell_type": "code",
   "execution_count": null,
   "metadata": {},
   "outputs": [],
   "source": []
  },
  {
   "cell_type": "code",
   "execution_count": 135,
   "metadata": {},
   "outputs": [
    {
     "data": {
      "text/html": [
       "<div>\n",
       "<style scoped>\n",
       "    .dataframe tbody tr th:only-of-type {\n",
       "        vertical-align: middle;\n",
       "    }\n",
       "\n",
       "    .dataframe tbody tr th {\n",
       "        vertical-align: top;\n",
       "    }\n",
       "\n",
       "    .dataframe thead th {\n",
       "        text-align: right;\n",
       "    }\n",
       "</style>\n",
       "<table border=\"1\" class=\"dataframe\">\n",
       "  <thead>\n",
       "    <tr style=\"text-align: right;\">\n",
       "      <th></th>\n",
       "      <th>Date</th>\n",
       "      <th>Open</th>\n",
       "      <th>High</th>\n",
       "      <th>Low</th>\n",
       "      <th>Close</th>\n",
       "    </tr>\n",
       "  </thead>\n",
       "  <tbody>\n",
       "    <tr>\n",
       "      <th>1</th>\n",
       "      <td>10-03-16</td>\n",
       "      <td>774.25</td>\n",
       "      <td>776.065002</td>\n",
       "      <td>769.5</td>\n",
       "      <td>772.559998</td>\n",
       "    </tr>\n",
       "    <tr>\n",
       "      <th>2</th>\n",
       "      <td>10-04-16</td>\n",
       "      <td>776.030029</td>\n",
       "      <td>778.710022</td>\n",
       "      <td>772.890015</td>\n",
       "      <td>776.429993</td>\n",
       "    </tr>\n",
       "    <tr>\n",
       "      <th>3</th>\n",
       "      <td>10-05-16</td>\n",
       "      <td>779.309998</td>\n",
       "      <td>782.070007</td>\n",
       "      <td>775.650024</td>\n",
       "      <td>776.469971</td>\n",
       "    </tr>\n",
       "    <tr>\n",
       "      <th>4</th>\n",
       "      <td>10-06-16</td>\n",
       "      <td>779</td>\n",
       "      <td>780.47998</td>\n",
       "      <td>775.539978</td>\n",
       "      <td>776.859985</td>\n",
       "    </tr>\n",
       "    <tr>\n",
       "      <th>5</th>\n",
       "      <td>10-07-16</td>\n",
       "      <td>779.659973</td>\n",
       "      <td>779.659973</td>\n",
       "      <td>770.75</td>\n",
       "      <td>775.080017</td>\n",
       "    </tr>\n",
       "  </tbody>\n",
       "</table>\n",
       "</div>"
      ],
      "text/plain": [
       "0      Date        Open        High         Low       Close\n",
       "1  10-03-16      774.25  776.065002       769.5  772.559998\n",
       "2  10-04-16  776.030029  778.710022  772.890015  776.429993\n",
       "3  10-05-16  779.309998  782.070007  775.650024  776.469971\n",
       "4  10-06-16         779   780.47998  775.539978  776.859985\n",
       "5  10-07-16  779.659973  779.659973      770.75  775.080017"
      ]
     },
     "execution_count": 135,
     "metadata": {},
     "output_type": "execute_result"
    }
   ],
   "source": [
    "#question 142\n",
    "\n",
    "import re\n",
    "\n",
    "data = []\n",
    "with open('Alpha.txt', 'r') as f:\n",
    "    for row in f:\n",
    "        data.append([re.sub(r'^\"|\"$', '', item).strip() for item in row.split(',')])\n",
    "df = pd.DataFrame(data)\n",
    "new_header = df.iloc[0] #grab the first row for the header\n",
    "df = df[1:] #take the data less the header row\n",
    "df.columns = new_header\n",
    "df"
   ]
  },
  {
   "cell_type": "code",
   "execution_count": 137,
   "metadata": {},
   "outputs": [
    {
     "data": {
      "text/plain": [
       "0\n",
       "Date     object\n",
       "Open     object\n",
       "High     object\n",
       "Low      object\n",
       "Close    object\n",
       "dtype: object"
      ]
     },
     "execution_count": 137,
     "metadata": {},
     "output_type": "execute_result"
    }
   ],
   "source": [
    "df.dtypes"
   ]
  },
  {
   "cell_type": "code",
   "execution_count": 138,
   "metadata": {},
   "outputs": [],
   "source": [
    "df['Date'] = pd.to_datetime(df['Date'])\n",
    "df.set_index('Date', inplace=True)"
   ]
  },
  {
   "cell_type": "code",
   "execution_count": 146,
   "metadata": {},
   "outputs": [
    {
     "data": {
      "text/plain": [
       "<matplotlib.axes._subplots.AxesSubplot at 0x2d862615688>"
      ]
     },
     "execution_count": 146,
     "metadata": {},
     "output_type": "execute_result"
    },
    {
     "data": {
      "image/png": "[encoded data removed]",
      "text/plain": [
       "<Figure size 432x288 with 1 Axes>"
      ]
     },
     "metadata": {
      "needs_background": "light"
     },
     "output_type": "display_data"
    }
   ],
   "source": [
    "df.Open = pd.to_numeric(df.Open)\n",
    "df.High = pd.to_numeric(df.High)\n",
    "df.Low = pd.to_numeric(df.Low)\n",
    "df.Close = pd.to_numeric(df.Close)\n",
    "df.plot()"
   ]
  },
  {
   "cell_type": "code",
   "execution_count": 45,
   "metadata": {},
   "outputs": [
    {
     "data": {
      "image/png": "[encoded data removed]",
      "text/plain": [
       "<Figure size 432x288 with 1 Axes>"
      ]
     },
     "metadata": {
      "needs_background": "light"
     },
     "output_type": "display_data"
    }
   ],
   "source": [
    "#question 143\n",
    "\n",
    "x1 = [10,20,30]\n",
    "y1 = [20,40,10]\n",
    "plt.plot(x1, y1, label = \"line 1\")\n",
    "x2 = [10,20,30]\n",
    "y2 = [40,10,30]\n",
    "plt.plot(x2, y2, label = \"line 2\")\n",
    "plt.xlabel('x - axis')\n",
    "plt.ylabel('y - axis')\n",
    "plt.title('Two or more lines on same plot with suitable legends ')\n",
    "plt.legend()\n",
    "plt.show()"
   ]
  },
  {
   "cell_type": "code",
   "execution_count": 43,
   "metadata": {},
   "outputs": [
    {
     "data": {
      "image/png": "[encoded data removed]",
      "text/plain": [
       "<Figure size 432x288 with 1 Axes>"
      ]
     },
     "metadata": {
      "needs_background": "light"
     },
     "output_type": "display_data"
    }
   ],
   "source": [
    "#question 144\n",
    "x = ['Java', 'Python', 'PHP', 'JS', 'C#', 'C++']\n",
    "popularity = [22.2, 17.6, 8.8, 8, 7.7, 6.7]\n",
    "plt.bar(x_pos, popularity, color='blue')\n",
    "plt.ylabel(\"Popularity\")\n",
    "plt.xlabel(\"Languages\")\n",
    "plt.title(\"PopularitY of Programming Language\\n\" + \"Worldwide, Oct 2017 compared\")\n",
    "plt.plot(x,popularity)\n",
    "plt.minorticks_on()\n",
    "plt.grid(which='major', linestyle='-', linewidth='0.5', color='red')\n",
    "plt.grid(which='minor', linestyle=':', linewidth='0.5', color='black')\n",
    "plt.show()\n"
   ]
  },
  {
   "cell_type": "code",
   "execution_count": 6,
   "metadata": {},
   "outputs": [
    {
     "data": {
      "image/png": "[encoded data removed]",
      "text/plain": [
       "<Figure size 432x288 with 1 Axes>"
      ]
     },
     "metadata": {
      "needs_background": "light"
     },
     "output_type": "display_data"
    }
   ],
   "source": [
    "#question 145\n",
    "\n",
    "x = ['Java', 'Python', 'PHP', 'JS', 'C#', 'C++']\n",
    "popularity = [22.2, 17.6, 8.8, 8, 7.7, 6.7]\n",
    "x_pos = [i for i, _ in enumerate(x)]\n",
    "plt.barh(x_pos, popularity, color='green')\n",
    "plt.xlabel(\"Popularity\")\n",
    "plt.ylabel(\"Languages\")\n",
    "plt.title(\"PopularitY of Programming Language\\n\" + \"Worldwide, Oct 2017 compared to a year ago\")\n",
    "plt.yticks(x_pos, x)\n",
    "plt.minorticks_on()\n",
    "plt.grid(which='major', linestyle='-', linewidth='0.5', color='red')\n",
    "plt.grid(which='minor', linestyle=':', linewidth='0.5', color='black')\n",
    "plt.show()"
   ]
  },
  {
   "cell_type": "code",
   "execution_count": 11,
   "metadata": {},
   "outputs": [
    {
     "data": {
      "image/png": "[encoded data removed]",
      "text/plain": [
       "<Figure size 432x288 with 1 Axes>"
      ]
     },
     "metadata": {
      "needs_background": "light"
     },
     "output_type": "display_data"
    }
   ],
   "source": [
    "#question 146\n",
    "\n",
    "x = ['Java', 'Python', 'PHP', 'JS', 'C#', 'C++']\n",
    "popularity = [22.2, 17.6, 8.8, 8, 7.7, 6.7]\n",
    "plt.bar(x_pos, popularity, color='blue')\n",
    "plt.ylabel(\"Popularity\")\n",
    "plt.xlabel(\"Languages\")\n",
    "plt.title(\"PopularitY of Programming Language\\n\" + \"Worldwide, Oct 2017 compared\")\n",
    "plt.plot(x,popularity)\n",
    "plt.minorticks_on()\n",
    "plt.grid(which='major', linestyle='-', linewidth='0.5', color='red')\n",
    "plt.grid(which='minor', linestyle=':', linewidth='0.5', color='black')\n",
    "plt.show()"
   ]
  },
  {
   "cell_type": "code",
   "execution_count": 21,
   "metadata": {},
   "outputs": [
    {
     "data": {
      "text/plain": [
       "<matplotlib.axes._subplots.AxesSubplot at 0x2407820cf88>"
      ]
     },
     "execution_count": 21,
     "metadata": {},
     "output_type": "execute_result"
    },
    {
     "data": {
      "image/png": "[encoded data removed]",
      "text/plain": [
       "<Figure size 432x288 with 1 Axes>"
      ]
     },
     "metadata": {
      "needs_background": "light"
     },
     "output_type": "display_data"
    }
   ],
   "source": [
    "#question 147\n",
    "\n",
    "df = pd.DataFrame({'a':[2,4,6,8,10],'b':[4,2,4,2,2],'c':[8,3,7,6,4],'d':[5,4,4,4,3],'e':[7,2,7,8,3],'f':[6,6,8,6,2]})\n",
    "df.plot(kind='bar')    "
   ]
  },
  {
   "cell_type": "code",
   "execution_count": 39,
   "metadata": {},
   "outputs": [
    {
     "data": {
      "image/png": "[encoded data removed]",
      "text/plain": [
       "<Figure size 432x288 with 1 Axes>"
      ]
     },
     "metadata": {
      "needs_background": "light"
     },
     "output_type": "display_data"
    }
   ],
   "source": [
    "#question 148\n",
    "\n",
    "math_marks = [88, 92, 80, 89, 100, 80, 60, 100, 80, 34]\n",
    "science_marks = [35, 79, 79, 48, 100, 88, 32, 45, 20, 30]\n",
    "marks_range = [10, 20, 30, 40, 50, 60, 70, 80, 90, 100]\n",
    "plt.scatter(marks_range, math_marks, label='Math marks', color='r')\n",
    "plt.scatter(marks_range, science_marks, label='Science marks', color='g')\n",
    "plt.title('Scatter Plot')\n",
    "plt.xlabel('Marks Range')\n",
    "plt.ylabel('Marks Scored')\n",
    "plt.legend()\n",
    "plt.show()"
   ]
  },
  {
   "cell_type": "code",
   "execution_count": 38,
   "metadata": {},
   "outputs": [
    {
     "data": {
      "image/png": "[encoded data removed]",
      "text/plain": [
       "<Figure size 432x288 with 1 Axes>"
      ]
     },
     "metadata": {
      "needs_background": "light"
     },
     "output_type": "display_data"
    }
   ],
   "source": [
    "#question 149\n",
    "\n",
    "weight1=[67,57.2,59.6,59.64,55.8,61.2,60.45,61,56.23,56]\n",
    "height1=[101.7,197.6,98.3,125.1,113.7,157.7,136,148.9,125.3,114.9] \n",
    "weight2=[61.9,64,62.1,64.2,62.3,65.4,62.4,61.4,62.5,63.6]\n",
    "height2=[152.8,155.3,135.1,125.2,151.3,135,182.2,195.9,165.1,125.1] \n",
    "weight3=[68.2,67.2,68.4,68.7,71,71.3,70.8,70,71.1,71.7]\n",
    "height3=[165.8,170.9,192.8,135.4,161.4,136.1,167.1,235.1,181.1,177.3]\n",
    "weight=np.concatenate((weight1,weight2,weight3))\n",
    "height=np.concatenate((height1,height2,height3))\n",
    "plt.scatter(weight, height, marker='*')\n",
    "plt.xlabel('weight', fontsize=16)\n",
    "plt.ylabel('height', fontsize=16)\n",
    "plt.title('Group wise Weight vs Height scatter plot',fontsize=20)\n",
    "plt.show()"
   ]
  },
  {
   "cell_type": "code",
   "execution_count": 42,
   "metadata": {},
   "outputs": [
    {
     "data": {
      "image/png": "[encoded data removed]",
      "text/plain": [
       "<Figure size 432x288 with 1 Axes>"
      ]
     },
     "metadata": {
      "needs_background": "light"
     },
     "output_type": "display_data"
    }
   ],
   "source": [
    "#question 150\n",
    "\n",
    "data = pd.read_csv('data.csv')\n",
    "year = data['Year']\n",
    "sea_levels = data['CSIRO_sea_level']\n",
    "plt.scatter(year, sea_levels, edgecolors='g')\n",
    "plt.xlabel('Year')\n",
    "plt.ylabel('Sea Level (inches)')\n",
    "plt.title('Rise in Sealevel')\n",
    "plt.show()"
   ]
  }
 ],
 "metadata": {
  "kernelspec": {
   "display_name": "Python 3",
   "language": "python",
   "name": "python3"
  },
  "language_info": {
   "codemirror_mode": {
    "name": "ipython",
    "version": 3
   },
   "file_extension": ".py",
   "mimetype": "text/x-python",
   "name": "python",
   "nbconvert_exporter": "python",
   "pygments_lexer": "ipython3",
   "version": "3.7.5"
  }
 },
 "nbformat": 4,
 "nbformat_minor": 2
}
