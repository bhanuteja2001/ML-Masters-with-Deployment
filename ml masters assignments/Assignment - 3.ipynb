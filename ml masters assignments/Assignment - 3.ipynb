{
 "cells": [
  {
   "cell_type": "code",
   "execution_count": 2,
   "metadata": {},
   "outputs": [
    {
     "name": "stdout",
     "output_type": "stream",
     "text": [
      "Anything divisible by zero is not valid\n"
     ]
    }
   ],
   "source": [
    "try:\n",
    "    print(5/0)\n",
    "except ZeroDivisionError:\n",
    "    print(\"Anything divisible by zero is not valid\")"
   ]
  },
  {
   "cell_type": "code",
   "execution_count": 13,
   "metadata": {},
   "outputs": [
    {
     "name": "stdout",
     "output_type": "stream",
     "text": [
      "Americans\tplay\tBaseball\n",
      "Americans\tplay\tCricket\n",
      "Americans\twatch\tBaseball\n",
      "Americans\twatch\tCricket\n",
      "Indians\tplay\tBaseball\n",
      "Indians\tplay\tCricket\n",
      "Indians\twatch\tBaseball\n",
      "Indians\twatch\tCricket\n"
     ]
    }
   ],
   "source": [
    "Subject = [\"Americans\",\"Indians\"]\n",
    "Verb = [\"play\",\"watch\"]\n",
    "objects = [\"Baseball\",\"Cricket\"]\n",
    "for i in Subject:\n",
    "    for j in Verb:\n",
    "        for k in objects:\n",
    "            print(i+\"\\t\"+j+\"\\t\"+k)"
   ]
  },
  {
   "cell_type": "code",
   "execution_count": 7,
   "metadata": {},
   "outputs": [],
   "source": [
    "import numpy as np"
   ]
  },
  {
   "cell_type": "code",
   "execution_count": 10,
   "metadata": {},
   "outputs": [
    {
     "name": "stdout",
     "output_type": "stream",
     "text": [
      "Enter the vector1,2,3,5\n",
      "ENter the Value3\n"
     ]
    },
    {
     "data": {
      "text/plain": [
       "array([[ 1,  1,  1],\n",
       "       [ 4,  2,  1],\n",
       "       [ 9,  3,  1],\n",
       "       [25,  5,  1]])"
      ]
     },
     "execution_count": 10,
     "metadata": {},
     "output_type": "execute_result"
    }
   ],
   "source": [
    "x = [input(\"Enter the vector\")]\n",
    "X = list(map(int,x[0].split(\",\")))\n",
    "N = int(input(\"ENter the Value\"))\n",
    "np.vander(X,N)"
   ]
  }
 ],
 "metadata": {
  "kernelspec": {
   "display_name": "Python 3",
   "language": "python",
   "name": "python3"
  },
  "language_info": {
   "codemirror_mode": {
    "name": "ipython",
    "version": 3
   },
   "file_extension": ".py",
   "mimetype": "text/x-python",
   "name": "python",
   "nbconvert_exporter": "python",
   "pygments_lexer": "ipython3",
   "version": "3.7.5"
  }
 },
 "nbformat": 4,
 "nbformat_minor": 2
}
